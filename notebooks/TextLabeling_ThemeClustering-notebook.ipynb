{
 "cells": [
  {
   "cell_type": "markdown",
   "id": "26a6e262",
   "metadata": {},
   "source": [
    "Este notebook es para generar el paso de tener parrafos o un texto segmentado y generar codes para estos o un hasthag, despues de generar el hasthag vamos a vectorizarlos en altas dimensiones y aplicaremos HBDSCAN ahi mismo en las altas dimensiones, despues ya con los clusters vamos a pedir al LLM un theme para el cluster, para darles nombre y al final los visualizamos\n"
   ]
  },
  {
   "cell_type": "code",
   "execution_count": 4,
   "id": "ab00b25c",
   "metadata": {},
   "outputs": [
    {
     "name": "stdout",
     "output_type": "stream",
     "text": [
      "Note: you may need to restart the kernel to use updated packages.\n"
     ]
    }
   ],
   "source": [
    "pip install sentence-transformers umap-learn scikit-learn matplotlib seaborn pandas numpy optuna ollama nbformat>=4.2 "
   ]
  },
  {
   "cell_type": "markdown",
   "id": "9b64f2d1",
   "metadata": {},
   "source": [
    "**Exploratory analysis**"
   ]
  },
  {
   "cell_type": "code",
   "execution_count": 5,
   "id": "816de705",
   "metadata": {},
   "outputs": [
    {
     "data": {
      "text/html": [
       "<div>\n",
       "<style scoped>\n",
       "    .dataframe tbody tr th:only-of-type {\n",
       "        vertical-align: middle;\n",
       "    }\n",
       "\n",
       "    .dataframe tbody tr th {\n",
       "        vertical-align: top;\n",
       "    }\n",
       "\n",
       "    .dataframe thead th {\n",
       "        text-align: right;\n",
       "    }\n",
       "</style>\n",
       "<table border=\"1\" class=\"dataframe\">\n",
       "  <thead>\n",
       "    <tr style=\"text-align: right;\">\n",
       "      <th></th>\n",
       "      <th>Filename</th>\n",
       "      <th>Index</th>\n",
       "      <th>Segment/Excerpt</th>\n",
       "    </tr>\n",
       "  </thead>\n",
       "  <tbody>\n",
       "    <tr>\n",
       "      <th>0</th>\n",
       "      <td>p008-parent</td>\n",
       "      <td>1</td>\n",
       "      <td>Parent:\\tI think you had asked me what my conc...</td>\n",
       "    </tr>\n",
       "    <tr>\n",
       "      <th>1</th>\n",
       "      <td>p008-parent</td>\n",
       "      <td>2</td>\n",
       "      <td>for Reed Richards having it.</td>\n",
       "    </tr>\n",
       "    <tr>\n",
       "      <th>2</th>\n",
       "      <td>p008-parent</td>\n",
       "      <td>3</td>\n",
       "      <td>So, him losing it, it kept making damage somehow.</td>\n",
       "    </tr>\n",
       "    <tr>\n",
       "      <th>3</th>\n",
       "      <td>p008-parent</td>\n",
       "      <td>4</td>\n",
       "      <td>Those were really my biggest concerns.\\nInterv...</td>\n",
       "    </tr>\n",
       "    <tr>\n",
       "      <th>4</th>\n",
       "      <td>p008-parent</td>\n",
       "      <td>5</td>\n",
       "      <td>Do you or your son?\\nParent:\\tThe three of us ...</td>\n",
       "    </tr>\n",
       "  </tbody>\n",
       "</table>\n",
       "</div>"
      ],
      "text/plain": [
       "      Filename  Index                                    Segment/Excerpt\n",
       "0  p008-parent      1  Parent:\\tI think you had asked me what my conc...\n",
       "1  p008-parent      2                       for Reed Richards having it.\n",
       "2  p008-parent      3  So, him losing it, it kept making damage somehow.\n",
       "3  p008-parent      4  Those were really my biggest concerns.\\nInterv...\n",
       "4  p008-parent      5  Do you or your son?\\nParent:\\tThe three of us ..."
      ]
     },
     "execution_count": 5,
     "metadata": {},
     "output_type": "execute_result"
    }
   ],
   "source": [
    "import pandas as pd\n",
    "\n",
    "transcripts_Armando = \"https://raw.githubusercontent.com/3eltran23/ATA-LMM_study/refs/heads/main/data/transcripts.csv\"\n",
    "transcripts_Armando = pd.read_csv(transcripts_Armando)\n",
    "\n",
    "codes_Armando = \"https://raw.githubusercontent.com/3eltran23/ATA-LMM_study/refs/heads/main/data/combined_codes.csv\"\n",
    "codes_Armando = pd.read_csv(codes_Armando)\n",
    "\n",
    "Hockey_Interviews = \"https://raw.githubusercontent.com/HiramZ04/Cal-State-UMAP_Clustering/refs/heads/main/data/National-Hockey-League-Interviews.csv\"\n",
    "Hockey_Interviews = pd.read_csv(Hockey_Interviews)\n",
    "\n",
    "callrecordings = \"https://raw.githubusercontent.com/HiramZ04/Cal-State-UMAP_Clustering/refs/heads/main/data/call_recordings.csv\"\n",
    "callrecordings = pd.read_csv(callrecordings)\n",
    "\n",
    "sentiment = \"https://raw.githubusercontent.com/HiramZ04/Cal-State-UMAP_Clustering/refs/heads/main/data/sentiment_analysis.csv\"\n",
    "sentiment = pd.read_csv(sentiment)\n",
    "\n",
    "transcripts_Armando.head(5)"
   ]
  },
  {
   "cell_type": "code",
   "execution_count": 6,
   "id": "cd98841c",
   "metadata": {},
   "outputs": [
    {
     "data": {
      "text/html": [
       "<div>\n",
       "<style scoped>\n",
       "    .dataframe tbody tr th:only-of-type {\n",
       "        vertical-align: middle;\n",
       "    }\n",
       "\n",
       "    .dataframe tbody tr th {\n",
       "        vertical-align: top;\n",
       "    }\n",
       "\n",
       "    .dataframe thead th {\n",
       "        text-align: right;\n",
       "    }\n",
       "</style>\n",
       "<table border=\"1\" class=\"dataframe\">\n",
       "  <thead>\n",
       "    <tr style=\"text-align: right;\">\n",
       "      <th></th>\n",
       "      <th>Codes</th>\n",
       "      <th>Source</th>\n",
       "    </tr>\n",
       "  </thead>\n",
       "  <tbody>\n",
       "    <tr>\n",
       "      <th>0</th>\n",
       "      <td>Reinforcing school dynamic at home</td>\n",
       "      <td>p008-parent</td>\n",
       "    </tr>\n",
       "    <tr>\n",
       "      <th>1</th>\n",
       "      <td>Functionalities of smartwatch</td>\n",
       "      <td>p008-parent</td>\n",
       "    </tr>\n",
       "    <tr>\n",
       "      <th>2</th>\n",
       "      <td>Daily or weekly goals</td>\n",
       "      <td>p008-parent</td>\n",
       "    </tr>\n",
       "    <tr>\n",
       "      <th>3</th>\n",
       "      <td>Sharing information with separated parents</td>\n",
       "      <td>p008-parent</td>\n",
       "    </tr>\n",
       "    <tr>\n",
       "      <th>4</th>\n",
       "      <td>Pick up of watch and phone</td>\n",
       "      <td>p008-parent</td>\n",
       "    </tr>\n",
       "  </tbody>\n",
       "</table>\n",
       "</div>"
      ],
      "text/plain": [
       "                                        Codes       Source\n",
       "0          Reinforcing school dynamic at home  p008-parent\n",
       "1               Functionalities of smartwatch  p008-parent\n",
       "2                       Daily or weekly goals  p008-parent\n",
       "3  Sharing information with separated parents  p008-parent\n",
       "4                  Pick up of watch and phone  p008-parent"
      ]
     },
     "execution_count": 6,
     "metadata": {},
     "output_type": "execute_result"
    }
   ],
   "source": [
    "codes_Armando.head(5)"
   ]
  },
  {
   "cell_type": "code",
   "execution_count": 7,
   "id": "2286cbf2",
   "metadata": {},
   "outputs": [
    {
     "data": {
      "text/html": [
       "<div>\n",
       "<style scoped>\n",
       "    .dataframe tbody tr th:only-of-type {\n",
       "        vertical-align: middle;\n",
       "    }\n",
       "\n",
       "    .dataframe tbody tr th {\n",
       "        vertical-align: top;\n",
       "    }\n",
       "\n",
       "    .dataframe thead th {\n",
       "        text-align: right;\n",
       "    }\n",
       "</style>\n",
       "<table border=\"1\" class=\"dataframe\">\n",
       "  <thead>\n",
       "    <tr style=\"text-align: right;\">\n",
       "      <th></th>\n",
       "      <th>RowId</th>\n",
       "      <th>team1</th>\n",
       "      <th>team2</th>\n",
       "      <th>date</th>\n",
       "      <th>name</th>\n",
       "      <th>job</th>\n",
       "      <th>text</th>\n",
       "    </tr>\n",
       "  </thead>\n",
       "  <tbody>\n",
       "    <tr>\n",
       "      <th>0</th>\n",
       "      <td>0</td>\n",
       "      <td>blackhawks</td>\n",
       "      <td>lightning</td>\n",
       "      <td>2015-06-02</td>\n",
       "      <td>stan bowman</td>\n",
       "      <td>other</td>\n",
       "      <td>well we're very fortunate to have the players ...</td>\n",
       "    </tr>\n",
       "    <tr>\n",
       "      <th>1</th>\n",
       "      <td>1</td>\n",
       "      <td>blackhawks</td>\n",
       "      <td>lightning</td>\n",
       "      <td>2015-06-02</td>\n",
       "      <td>steve yzerman</td>\n",
       "      <td>other</td>\n",
       "      <td>no we didn't really set a timeline on it i wou...</td>\n",
       "    </tr>\n",
       "    <tr>\n",
       "      <th>2</th>\n",
       "      <td>2</td>\n",
       "      <td>blackhawks</td>\n",
       "      <td>lightning</td>\n",
       "      <td>2015-06-03</td>\n",
       "      <td>antoine vermette</td>\n",
       "      <td>player</td>\n",
       "      <td>that's a good question i don't recall specific...</td>\n",
       "    </tr>\n",
       "    <tr>\n",
       "      <th>3</th>\n",
       "      <td>3</td>\n",
       "      <td>blackhawks</td>\n",
       "      <td>lightning</td>\n",
       "      <td>2015-06-03</td>\n",
       "      <td>joel quenneville</td>\n",
       "      <td>coach</td>\n",
       "      <td>yeah we got better as the game went on i thoug...</td>\n",
       "    </tr>\n",
       "    <tr>\n",
       "      <th>4</th>\n",
       "      <td>4</td>\n",
       "      <td>blackhawks</td>\n",
       "      <td>lightning</td>\n",
       "      <td>2015-06-03</td>\n",
       "      <td>jon cooper</td>\n",
       "      <td>coach</td>\n",
       "      <td>i don't know i think the way i'd look at the g...</td>\n",
       "    </tr>\n",
       "  </tbody>\n",
       "</table>\n",
       "</div>"
      ],
      "text/plain": [
       "   RowId       team1      team2        date              name     job  \\\n",
       "0      0  blackhawks  lightning  2015-06-02       stan bowman   other   \n",
       "1      1  blackhawks  lightning  2015-06-02     steve yzerman   other   \n",
       "2      2  blackhawks  lightning  2015-06-03  antoine vermette  player   \n",
       "3      3  blackhawks  lightning  2015-06-03  joel quenneville   coach   \n",
       "4      4  blackhawks  lightning  2015-06-03        jon cooper   coach   \n",
       "\n",
       "                                                text  \n",
       "0  well we're very fortunate to have the players ...  \n",
       "1  no we didn't really set a timeline on it i wou...  \n",
       "2  that's a good question i don't recall specific...  \n",
       "3  yeah we got better as the game went on i thoug...  \n",
       "4  i don't know i think the way i'd look at the g...  "
      ]
     },
     "execution_count": 7,
     "metadata": {},
     "output_type": "execute_result"
    }
   ],
   "source": [
    "Hockey_Interviews.head(5)"
   ]
  },
  {
   "cell_type": "code",
   "execution_count": 8,
   "id": "6175827d",
   "metadata": {},
   "outputs": [
    {
     "data": {
      "text/html": [
       "<div>\n",
       "<style scoped>\n",
       "    .dataframe tbody tr th:only-of-type {\n",
       "        vertical-align: middle;\n",
       "    }\n",
       "\n",
       "    .dataframe tbody tr th {\n",
       "        vertical-align: top;\n",
       "    }\n",
       "\n",
       "    .dataframe thead th {\n",
       "        text-align: right;\n",
       "    }\n",
       "</style>\n",
       "<table border=\"1\" class=\"dataframe\">\n",
       "  <thead>\n",
       "    <tr style=\"text-align: right;\">\n",
       "      <th></th>\n",
       "      <th>id</th>\n",
       "      <th>Type</th>\n",
       "      <th>Sentiment</th>\n",
       "      <th>Name</th>\n",
       "      <th>Order Number</th>\n",
       "      <th>Product Number</th>\n",
       "      <th>Transcript</th>\n",
       "    </tr>\n",
       "  </thead>\n",
       "  <tbody>\n",
       "    <tr>\n",
       "      <th>0</th>\n",
       "      <td>call_recording_01</td>\n",
       "      <td>Product Inquiry</td>\n",
       "      <td>Neutral</td>\n",
       "      <td>Sarah Miller</td>\n",
       "      <td>NaN</td>\n",
       "      <td>AC-7892</td>\n",
       "      <td>Hello, I'm Sarah Miller. I'm calling to inquir...</td>\n",
       "    </tr>\n",
       "    <tr>\n",
       "      <th>1</th>\n",
       "      <td>call_recording_02</td>\n",
       "      <td>Complaint</td>\n",
       "      <td>Angry</td>\n",
       "      <td>John Davis</td>\n",
       "      <td>123456.0</td>\n",
       "      <td>FR-4401</td>\n",
       "      <td>I am extremely dissatisfied with my recent ord...</td>\n",
       "    </tr>\n",
       "    <tr>\n",
       "      <th>2</th>\n",
       "      <td>call_recording_03</td>\n",
       "      <td>Technical Issue</td>\n",
       "      <td>Frustrated</td>\n",
       "      <td>Maria Rodriguez</td>\n",
       "      <td>987654.0</td>\n",
       "      <td>LAP-2110</td>\n",
       "      <td>Hi, this is Maria Rodriguez. I'm having troubl...</td>\n",
       "    </tr>\n",
       "    <tr>\n",
       "      <th>3</th>\n",
       "      <td>call_recording_04</td>\n",
       "      <td>Compliment</td>\n",
       "      <td>Happy</td>\n",
       "      <td>Robert Smith</td>\n",
       "      <td>246801.0</td>\n",
       "      <td>DW-6543</td>\n",
       "      <td>I just wanted to call and say how pleased I am...</td>\n",
       "    </tr>\n",
       "    <tr>\n",
       "      <th>4</th>\n",
       "      <td>call_recording_05</td>\n",
       "      <td>Order Placement</td>\n",
       "      <td>Neutral</td>\n",
       "      <td>Jessica Brown</td>\n",
       "      <td>NaN</td>\n",
       "      <td>OV-1357 &amp; MW-8642</td>\n",
       "      <td>Hello, my name is Jessica Brown. I'd like to p...</td>\n",
       "    </tr>\n",
       "  </tbody>\n",
       "</table>\n",
       "</div>"
      ],
      "text/plain": [
       "                  id             Type   Sentiment             Name  \\\n",
       "0  call_recording_01  Product Inquiry     Neutral     Sarah Miller   \n",
       "1  call_recording_02        Complaint       Angry       John Davis   \n",
       "2  call_recording_03  Technical Issue  Frustrated  Maria Rodriguez   \n",
       "3  call_recording_04       Compliment       Happy     Robert Smith   \n",
       "4  call_recording_05  Order Placement     Neutral    Jessica Brown   \n",
       "\n",
       "   Order Number     Product Number  \\\n",
       "0           NaN            AC-7892   \n",
       "1      123456.0            FR-4401   \n",
       "2      987654.0           LAP-2110   \n",
       "3      246801.0            DW-6543   \n",
       "4           NaN  OV-1357 & MW-8642   \n",
       "\n",
       "                                          Transcript  \n",
       "0  Hello, I'm Sarah Miller. I'm calling to inquir...  \n",
       "1  I am extremely dissatisfied with my recent ord...  \n",
       "2  Hi, this is Maria Rodriguez. I'm having troubl...  \n",
       "3  I just wanted to call and say how pleased I am...  \n",
       "4  Hello, my name is Jessica Brown. I'd like to p...  "
      ]
     },
     "execution_count": 8,
     "metadata": {},
     "output_type": "execute_result"
    }
   ],
   "source": [
    "callrecordings.head(5)"
   ]
  },
  {
   "cell_type": "code",
   "execution_count": 9,
   "id": "4bc87a5d",
   "metadata": {},
   "outputs": [
    {
     "data": {
      "text/html": [
       "<div>\n",
       "<style scoped>\n",
       "    .dataframe tbody tr th:only-of-type {\n",
       "        vertical-align: middle;\n",
       "    }\n",
       "\n",
       "    .dataframe tbody tr th {\n",
       "        vertical-align: top;\n",
       "    }\n",
       "\n",
       "    .dataframe thead th {\n",
       "        text-align: right;\n",
       "    }\n",
       "</style>\n",
       "<table border=\"1\" class=\"dataframe\">\n",
       "  <thead>\n",
       "    <tr style=\"text-align: right;\">\n",
       "      <th></th>\n",
       "      <th>Year</th>\n",
       "      <th>Month</th>\n",
       "      <th>Day</th>\n",
       "      <th>Time of Tweet</th>\n",
       "      <th>text</th>\n",
       "      <th>sentiment</th>\n",
       "      <th>Platform</th>\n",
       "    </tr>\n",
       "  </thead>\n",
       "  <tbody>\n",
       "    <tr>\n",
       "      <th>0</th>\n",
       "      <td>2018</td>\n",
       "      <td>8</td>\n",
       "      <td>18</td>\n",
       "      <td>morning</td>\n",
       "      <td>What a great day!!! Looks like dream.</td>\n",
       "      <td>positive</td>\n",
       "      <td>Twitter</td>\n",
       "    </tr>\n",
       "    <tr>\n",
       "      <th>1</th>\n",
       "      <td>2018</td>\n",
       "      <td>8</td>\n",
       "      <td>18</td>\n",
       "      <td>noon</td>\n",
       "      <td>I feel sorry, I miss you here in the sea beach</td>\n",
       "      <td>positive</td>\n",
       "      <td>Facebook</td>\n",
       "    </tr>\n",
       "    <tr>\n",
       "      <th>2</th>\n",
       "      <td>2017</td>\n",
       "      <td>8</td>\n",
       "      <td>18</td>\n",
       "      <td>night</td>\n",
       "      <td>Don't angry me</td>\n",
       "      <td>negative</td>\n",
       "      <td>Facebook</td>\n",
       "    </tr>\n",
       "    <tr>\n",
       "      <th>3</th>\n",
       "      <td>2022</td>\n",
       "      <td>6</td>\n",
       "      <td>8</td>\n",
       "      <td>morning</td>\n",
       "      <td>We attend in the class just for listening teac...</td>\n",
       "      <td>negative</td>\n",
       "      <td>Facebook</td>\n",
       "    </tr>\n",
       "    <tr>\n",
       "      <th>4</th>\n",
       "      <td>2022</td>\n",
       "      <td>6</td>\n",
       "      <td>8</td>\n",
       "      <td>noon</td>\n",
       "      <td>Those who want to go, let them go</td>\n",
       "      <td>negative</td>\n",
       "      <td>Instagram</td>\n",
       "    </tr>\n",
       "  </tbody>\n",
       "</table>\n",
       "</div>"
      ],
      "text/plain": [
       "   Year  Month  Day Time of Tweet  \\\n",
       "0  2018      8   18       morning   \n",
       "1  2018      8   18          noon   \n",
       "2  2017      8   18         night   \n",
       "3  2022      6    8       morning   \n",
       "4  2022      6    8          noon   \n",
       "\n",
       "                                                text sentiment     Platform  \n",
       "0              What a great day!!! Looks like dream.  positive    Twitter    \n",
       "1     I feel sorry, I miss you here in the sea beach  positive    Facebook   \n",
       "2                                     Don't angry me  negative     Facebook  \n",
       "3  We attend in the class just for listening teac...  negative    Facebook   \n",
       "4                  Those who want to go, let them go  negative   Instagram   "
      ]
     },
     "execution_count": 9,
     "metadata": {},
     "output_type": "execute_result"
    }
   ],
   "source": [
    "sentiment.head(5)"
   ]
  },
  {
   "cell_type": "markdown",
   "id": "d22bc2bc",
   "metadata": {},
   "source": [
    "**Preparando el system para el LLM**"
   ]
  },
  {
   "cell_type": "code",
   "execution_count": 10,
   "id": "b008bf73",
   "metadata": {},
   "outputs": [],
   "source": [
    "from ollama import chat\n",
    "# We start passing a transcript to LLM\n",
    "# We use gemma2:9b  \n",
    "\n",
    "prompt_template = \"\"\"\n",
    "    You are a qualitative research analyst. Read one interview segment and produce EXACTLY ONE thematic label.\n",
    "\n",
    "Requirements for the label:\n",
    "- 2–6 words, concise and descriptive\n",
    "- Neutral, observable phrasing (no opinions or causes)\n",
    "- Title Case, no punctuation, no quotes\n",
    "- Include at least one salient noun from the segment (e.g., product name, parameter, entity)\n",
    "\n",
    "\n",
    "    Output Format:\n",
    "    - ONLY 1 CODE and nothing else\n",
    "\n",
    "    \"\"\""
   ]
  },
  {
   "cell_type": "code",
   "execution_count": 11,
   "id": "b4bfa058",
   "metadata": {},
   "outputs": [
    {
     "name": "stdout",
     "output_type": "stream",
     "text": [
      "LLM response:  Product Feature Inquiry \n",
      "\n",
      "LLM response:  Damaged Refrigerator Complaint \n",
      "\n",
      "LLM response:  Laptop Connectivity Issues \n",
      "\n",
      "LLM response:  Customer Satisfaction DW-6543  \n",
      "\n",
      "LLM response:  Customer Order Inquiry \n",
      "\n",
      "LLM response:  Wireless Speaker Functionality \n",
      "\n",
      "LLM response:  Order Delivery Delay \n",
      "\n",
      "LLM response:  Router Network Setup \n",
      "\n",
      "LLM response:  Customer Order Inquiry \n",
      "\n",
      "LLM response:  Customer Satisfaction With PR9876  \n",
      "\n",
      "LLM response:  Technical Data Request \n",
      "\n",
      "LLM response:  Color Discrepancy Concern  \n",
      "\n",
      "LLM response:  System Outage Impact \n",
      "\n",
      "LLM response:  Product Inquiry Weekend Delivery \n",
      "\n",
      "LLM response:  Customer Satisfaction With CAMERA-PRO-1 \n",
      "\n",
      "LLM response:  Tablet Functionality Inquiry \n",
      "\n",
      "LLM response:  WasherDryer Combo Malfunction \n",
      "\n",
      "LLM response:  Software Suite Pro Installation Issues \n",
      "\n",
      "LLM response:  Office Furniture Procurement \n",
      "\n",
      "LLM response:  Customer Satisfaction With Television  \n",
      "\n",
      "Lista completa de codes:  ['Product Feature Inquiry \\n', 'Damaged Refrigerator Complaint \\n', 'Laptop Connectivity Issues \\n', 'Customer Satisfaction DW-6543  \\n', 'Customer Order Inquiry \\n', 'Wireless Speaker Functionality \\n', 'Order Delivery Delay \\n', 'Router Network Setup \\n', 'Customer Order Inquiry \\n', 'Customer Satisfaction With PR9876  \\n', 'Technical Data Request \\n', 'Color Discrepancy Concern  \\n', 'System Outage Impact \\n', 'Product Inquiry Weekend Delivery \\n', 'Customer Satisfaction With CAMERA-PRO-1 \\n', 'Tablet Functionality Inquiry \\n', 'WasherDryer Combo Malfunction \\n', 'Software Suite Pro Installation Issues \\n', 'Office Furniture Procurement \\n', 'Customer Satisfaction With Television  \\n']\n"
     ]
    }
   ],
   "source": [
    "# le pasamos las palabras al llm \n",
    "# CALL CENTER DATA SET\n",
    "\n",
    "sentences_calls = callrecordings[\"Transcript\"].astype(str).tolist()\n",
    "    \n",
    "labels_calls = []\n",
    "GEN_OPTS = {\"temperature\": 0.0, \"top_p\": 1.0, \"repeat_penalty\": 1.2}\n",
    "\n",
    "for i in range(len(sentences_calls)): \n",
    "# Pasamos el prompt con un system para que nos regrese el output que deseamos\n",
    "    messages = [\n",
    "        {\n",
    "        'role':'system','content':prompt_template\n",
    "        },\n",
    "        {\n",
    "        'role':'user', 'content':f'This is the transcript i need the codes for: {sentences_calls[i]}',\n",
    "        },   \n",
    "    ]\n",
    "\n",
    "    label = chat(model = \"gemma2:9b\", messages=messages, options=GEN_OPTS)\n",
    "    labels_calls.append(label['message']['content'])\n",
    "    print(\"LLM response: \",label['message']['content'])\n",
    "\n",
    "print(\"Lista completa de codes: \",labels_calls)\n"
   ]
  },
  {
   "cell_type": "markdown",
   "id": "79c3c459",
   "metadata": {},
   "source": [
    "**construimos thematic labels con LLMs sobre los textos**"
   ]
  },
  {
   "cell_type": "code",
   "execution_count": 12,
   "id": "a76b18a1",
   "metadata": {},
   "outputs": [
    {
     "name": "stdout",
     "output_type": "stream",
     "text": [
      "LLM response:  Positive User Experience  \n",
      "\n",
      "LLM response:  Emotional Connection To Place  \n",
      "\n",
      "LLM response:  Emotional Response To Situation  \n",
      "\n",
      "LLM response:  Classroom Learning Experience   \n",
      "\n",
      "LLM response:  Individual Choice Expression  \n",
      "\n",
      "LLM response:  Sleep And Mood  \n",
      "\n",
      "LLM response:  Positive Baby Interactions  \n",
      "\n",
      "LLM response:  Emotional Response To Product  \n",
      "\n",
      "LLM response:  Participant Interaction Dynamics   \n",
      "\n",
      "LLM response:  Boat Travel Experience  \n",
      "\n",
      "LLM response:  Conceptual Metaphor Usage  \n",
      "\n",
      "LLM response:  Musical Preference Expression  \n",
      "\n",
      "LLM response:  Ink Supply Depletion  \n",
      "\n",
      "LLM response:  Vocal Impairment Impact  \n",
      "\n",
      "LLM response:  Emotional Absence  \n",
      "\n",
      "LLM response:  User Request For Privacy  \n",
      "\n",
      "LLM response:  User Disinterest  \n",
      "\n",
      "LLM response:  Recent Illness Experience  \n",
      "\n",
      "LLM response:  Positive Past Employment  \n",
      "\n",
      "LLM response:  Romantic Feelings Expression  \n",
      "\n",
      "LLM response:  Concern For Missing Person \n",
      "\n",
      "LLM response:  Play Experiences With Children  \n",
      "\n",
      "LLM response:  Household Preparation  \n",
      "\n",
      "LLM response:  User Interface Frustration  \n",
      "\n",
      "LLM response:  Social Reciprocity  \n",
      "\n",
      "LLM response:  Daily Gameplay Engagement  \n",
      "\n",
      "LLM response:  Expression Of Regret  \n",
      "\n",
      "LLM response:  Village Internet Access  \n",
      "\n",
      "LLM response:  Travel Destination Preference  \n",
      "\n",
      "LLM response:  Power Outage Experience  \n",
      "\n",
      "LLM response:  Logo Perception  \n",
      "\n",
      "LLM response:  Customer Satisfaction With Book  \n",
      "\n",
      "LLM response:  Body Mass Index Perception \n",
      "\n",
      "LLM response:  Positive Child Reactions   \n",
      "\n",
      "LLM response:  Sports Team Preference \n",
      "\n",
      "LLM response:  Academic Achievement  \n",
      "\n",
      "LLM response:  Urban Nostalgia Experiences   \n",
      "\n",
      "LLM response:  Content Creation Volume  \n",
      "\n",
      "LLM response:  Exhaustion After School  \n",
      "\n",
      "LLM response:  Humor Perception Romance Zero   \n",
      "\n",
      "LLM response:  Vehicle Damage Concerns \n",
      "\n",
      "LLM response:  Relationship Dynamics  \n",
      "\n",
      "LLM response:  Emergency Response  \n",
      "\n",
      "LLM response:  Morning Running Preference \n",
      "\n",
      "LLM response:  Availability Constraints \n",
      "\n",
      "LLM response:  Age Perception In Salon  \n",
      "\n",
      "LLM response:  Communication Preference   \n",
      "\n",
      "LLM response:  Boredom With MusicVideo  \n",
      "\n",
      "LLM response:  Concert Experience  \n",
      "\n",
      "LLM response:  Nicotine Patch Experience  \n",
      "\n",
      "LLM response:  Weather Preparedness  \n",
      "\n",
      "LLM response:  Sleep Deprivation Symptoms \n",
      "\n",
      "LLM response:  Mental Health Crisis  \n",
      "\n",
      "LLM response:  Anticipation For Fall   \n",
      "\n",
      "LLM response:  Dream Content Description  \n",
      "\n",
      "LLM response:  Social Discomfort Feelings \n",
      "\n",
      "LLM response:  Pain Management Needs  \n",
      "\n",
      "LLM response:  Mothers Role As Heroes  \n",
      "\n",
      "LLM response:  Morning Routine Activities \n",
      "\n",
      "LLM response:  Anticipation Of Enjoyment  \n",
      "\n",
      "LLM response:  Valuable Day Experience  \n",
      "\n",
      "LLM response:  Humorous Self Deprecation   \n",
      "\n",
      "LLM response:  Staying Current Trends  \n",
      "\n",
      "LLM response:  Family And Affection  \n",
      "\n",
      "LLM response:  Minecraft Gameplay Engagement  \n",
      "\n",
      "LLM response:  Cloud Computing Preference  \n",
      "\n",
      "LLM response:  Positive User Experience  \n",
      "\n",
      "LLM response:  Emotional Connection To Place  \n",
      "\n",
      "LLM response:  Emotional Response To Situation  \n",
      "\n",
      "LLM response:  Classroom Learning Experience   \n",
      "\n",
      "LLM response:  Individual Choice Expression  \n",
      "\n",
      "LLM response:  Sleep And Mood  \n",
      "\n",
      "LLM response:  Positive Baby Interactions  \n",
      "\n",
      "LLM response:  Emotional Response To Product  \n",
      "\n",
      "LLM response:  Participant Interaction Dynamics   \n",
      "\n",
      "LLM response:  Boat Travel Experience  \n",
      "\n",
      "LLM response:  Conceptual Metaphor Usage  \n",
      "\n",
      "LLM response:  Musical Preference Expression  \n",
      "\n",
      "LLM response:  Ink Supply Depletion  \n",
      "\n",
      "LLM response:  Vocal Impairment Impact  \n",
      "\n",
      "LLM response:  Emotional Absence  \n",
      "\n",
      "LLM response:  User Request For Privacy  \n",
      "\n",
      "LLM response:  User Disinterest  \n",
      "\n",
      "LLM response:  Recent Illness Experience  \n",
      "\n",
      "LLM response:  Positive Past Employment  \n",
      "\n",
      "LLM response:  Romantic Feelings Expression  \n",
      "\n",
      "LLM response:  Concern For Missing Person \n",
      "\n",
      "LLM response:  Play Experiences With Children  \n",
      "\n",
      "LLM response:  Household Preparation  \n",
      "\n",
      "LLM response:  User Interface Frustration  \n",
      "\n",
      "LLM response:  Social Reciprocity  \n",
      "\n",
      "LLM response:  Daily Gameplay Engagement  \n",
      "\n",
      "LLM response:  Expression Of Regret  \n",
      "\n",
      "LLM response:  Village Internet Access  \n",
      "\n",
      "LLM response:  Travel Destination Preference  \n",
      "\n",
      "LLM response:  Power Outage Experience  \n",
      "\n",
      "LLM response:  Logo Perception  \n",
      "\n",
      "LLM response:  Customer Satisfaction With Book  \n",
      "\n",
      "LLM response:  Body Mass Index Perception \n",
      "\n",
      "LLM response:  Positive Child Reactions   \n",
      "\n",
      "LLM response:  Sports Team Preference \n",
      "\n",
      "LLM response:  Academic Achievement  \n",
      "\n",
      "LLM response:  Urban Nostalgia Experiences   \n",
      "\n",
      "LLM response:  Content Creation Volume  \n",
      "\n",
      "LLM response:  Exhaustion After School  \n",
      "\n",
      "LLM response:  Humor Perception Romance Zero   \n",
      "\n",
      "LLM response:  Vehicle Damage Concerns \n",
      "\n",
      "LLM response:  Relationship Dynamics  \n",
      "\n",
      "LLM response:  Emergency Response  \n",
      "\n",
      "LLM response:  Morning Running Preference \n",
      "\n",
      "LLM response:  Availability Constraints \n",
      "\n",
      "LLM response:  Age Perception In Salon  \n",
      "\n",
      "LLM response:  Communication Preference   \n",
      "\n",
      "LLM response:  Morning Routine Activities \n",
      "\n",
      "LLM response:  Anticipation Of Change  \n",
      "\n",
      "LLM response:  User Feedback On Product   \n",
      "\n",
      "LLM response:  Humorous Self Deprecation   \n",
      "\n",
      "LLM response:  Device Usage Update  \n",
      "\n",
      "LLM response:  Expressing Affection  \n",
      "\n",
      "LLM response:  Cricket Match Enthusiasm  \n",
      "\n",
      "LLM response:  Cricket Match Viewing Habits  \n",
      "\n",
      "LLM response:  Fan Expression Of Support  \n",
      "\n",
      "LLM response:  Customer Satisfaction Expression   \n",
      "\n",
      "LLM response:  Sensory Product Description  \n",
      "\n",
      "LLM response:  Emotional State Gloom  \n",
      "\n",
      "LLM response:  Concert Attendance Plans  \n",
      "\n",
      "LLM response:  Caffeine Consumption Desire  \n",
      "\n",
      "LLM response:  User Identification   \n",
      "\n",
      "LLM response:  Regretful Life Reflection   \n",
      "\n",
      "LLM response:  Student Transportation Preferences  \n",
      "\n",
      "LLM response:  Learning Machine Learning  \n",
      "\n",
      "LLM response:  Inspection Outcome  \n",
      "\n",
      "LLM response:  Musical Expression  \n",
      "\n",
      "LLM response:  Father Figure Recognition  \n",
      "\n",
      "LLM response:  Exam Experience  \n",
      "\n",
      "LLM response:  Positive User Experience  \n",
      "\n",
      "LLM response:  Physical Attribute Exception  \n",
      "\n",
      "LLM response:  Achievement Recognition  \n",
      "\n",
      "LLM response:  Social Media Following Limits  \n",
      "\n",
      "LLM response:  Work Schedule Preferences \n",
      "\n",
      "LLM response:  Participant Interpretation   \n",
      "\n",
      "LLM response:  Spa And Lunch Plans  \n",
      "\n",
      "LLM response:  Daily Routine Activities   \n",
      "\n",
      "LLM response:  Aspirational Educational Goals \n",
      "\n",
      "LLM response:  Please provide the interview segment so I can generate a thematic label. 😊  \n",
      "\n",
      "LLM response:  Positive Sports Experience  \n",
      "\n",
      "LLM response:  Need For Presence  \n",
      "\n",
      "LLM response:  Damaged Phone Screen Repair  \n",
      "\n",
      "LLM response:  Desire For Permanence \n",
      "\n",
      "LLM response:  Please provide the interview segment so I can generate a thematic label. 😊  \n",
      "\n",
      "LLM response:  Perceived User Tone   \n",
      "\n",
      "LLM response:  Thought Process Reflection   \n",
      "\n",
      "LLM response:  Event Celebration Day  \n",
      "\n",
      "LLM response:  Apology Resolution Process \n",
      "\n",
      "LLM response:  Educational Aspirations  \n",
      "\n",
      "LLM response:  Pain Seeking Behavior \n",
      "\n",
      "LLM response:  User Departure Announcement   \n",
      "\n",
      "LLM response:  Beach Visit Experience  \n",
      "\n",
      "LLM response:  Laptop Brightness Adjustment  \n",
      "\n",
      "LLM response:  Transportation Arrangements  \n",
      "\n",
      "LLM response:  Social Interaction Perception  \n",
      "\n",
      "LLM response:  Hygiene Concerns School  \n",
      "\n",
      "LLM response:  Language Communication Preference  \n",
      "\n",
      "LLM response:  Pricing Concerns Candy   \n",
      "\n",
      "LLM response:  Star Wars Enthusiasm  \n",
      "\n",
      "LLM response:  Workday Experiences  \n",
      "\n",
      "LLM response:  Emotional Attachment To Animals \n",
      "\n",
      "LLM response:  Teacher Workload And Satisfaction   \n",
      "\n",
      "LLM response:  Sibling Relationship Dynamics \n",
      "\n",
      "LLM response:  Educational Achievement  \n",
      "\n",
      "LLM response:  Morning Greeting And Thanks \n",
      "\n",
      "LLM response:  Motivational Film Experience  \n",
      "\n",
      "LLM response:  Concern For Well Being  \n",
      "\n",
      "LLM response:  Daily Emotional Distress  \n",
      "\n",
      "LLM response:  Tumbleweed Communication  \n",
      "\n",
      "LLM response:  Positive User Response   \n",
      "\n",
      "LLM response:  Clothing Brand Recognition   \n",
      "\n",
      "LLM response:  User Experience Feedback   \n",
      "\n",
      "LLM response:  Product Preference Expression   \n",
      "\n",
      "LLM response:  Social Gathering Interaction   \n",
      "\n",
      "LLM response:  Time Zone Greetings \n",
      "\n",
      "LLM response:  Parental Affection Expression   \n",
      "\n",
      "LLM response:  Holiday Greeting Expression  \n",
      "\n",
      "LLM response:  Self Confidence Expression   \n",
      "\n",
      "LLM response:  Please provide the interview segment so I can generate a thematic label.  \n",
      "\n",
      "LLM response:  Social Media Engagement  \n",
      "\n",
      "LLM response:  Weather Impact On Work   \n",
      "\n",
      "LLM response:  Emotional State Expression  \n",
      "\n",
      "LLM response:  Emotional Eating Sugar Almonds  \n",
      "\n",
      "LLM response:  Affection For Mother  \n",
      "\n",
      "LLM response:  Empathy Expression \n",
      "\n",
      "LLM response:  Celebrity Interaction Experience   \n",
      "\n",
      "LLM response:  Fan Enthusiasm For Nba   \n",
      "\n",
      "LLM response:  Social Media Engagement  \n",
      "\n",
      "LLM response:  Parking Space Accessibility  \n",
      "\n",
      "LLM response:  Immediate Need  \n",
      "\n",
      "LLM response:  Roommate Transition  \n",
      "\n",
      "LLM response:  Family Bathing Experience  \n",
      "\n",
      "LLM response:  Document Revision Process \n",
      "\n",
      "LLM response:  Birthday Memory Recall Difficulty \n",
      "\n",
      "LLM response:  Social Gathering  \n",
      "\n",
      "LLM response:  Leisure Activities Enjoyment   \n",
      "\n",
      "LLM response:  Concern For Wellbeing \n",
      "\n",
      "LLM response:  Work Schedule Constraints \n",
      "\n",
      "LLM response:  Movie Preference Expression \n",
      "\n",
      "LLM response:  Morning Routine Activities \n",
      "\n",
      "LLM response:  Anticipation Of Change  \n",
      "\n",
      "LLM response:  Morning Routine Activities \n",
      "\n",
      "LLM response:  Anticipation Of Change  \n",
      "\n",
      "LLM response:  User Feedback On Product   \n",
      "\n",
      "LLM response:  Humorous Self Deprecation   \n",
      "\n",
      "LLM response:  Device Usage Update  \n",
      "\n",
      "LLM response:  Travel Planning Experiences \n",
      "\n",
      "LLM response:  Childrens Media Consumption   \n",
      "\n",
      "LLM response:  Physical Appearance Observation  \n",
      "\n",
      "LLM response:  Color Preference Programming  \n",
      "\n",
      "LLM response:  Customer Satisfaction Expression   \n",
      "\n",
      "LLM response:  Sensory Product Description  \n",
      "\n",
      "LLM response:  Visual Perception Differences  \n",
      "\n",
      "LLM response:  Multitasking Student Activities  \n",
      "\n",
      "LLM response:  Emotional Color Associations  \n",
      "\n",
      "LLM response:  User Identification   \n",
      "\n",
      "LLM response:  Regretful Life Reflection   \n",
      "\n",
      "LLM response:  Student Transportation Preferences  \n",
      "\n",
      "LLM response:  User Satisfaction  \n",
      "\n",
      "LLM response:  Product Packaging Frustration  \n",
      "\n",
      "LLM response:  Concert Enthusiasm  \n",
      "\n",
      "LLM response:  Motherly Appreciation  \n",
      "\n",
      "LLM response:  Fever And Music Preference  \n",
      "\n",
      "LLM response:  Entertainment Consumption Experience  \n",
      "\n",
      "LLM response:  Attractiveness Perception  \n",
      "\n",
      "LLM response:  Actor Preference Satisfaction  \n",
      "\n",
      "LLM response:  Social Media Following Limits  \n",
      "\n",
      "LLM response:  Work Schedule Preferences   \n",
      "\n",
      "LLM response:  Media Perception Of Novelty \n",
      "\n",
      "LLM response:  Spa And Lunch Plans  \n",
      "\n",
      "LLM response:  Daily Routine Activities   \n",
      "\n",
      "LLM response:  Desire For Travel Destination \n",
      "\n",
      "LLM response:  User Experience Feedback \n",
      "\n",
      "LLM response:  Positive YouTube Experience  \n",
      "\n",
      "LLM response:  Blackberry Representation  \n",
      "\n",
      "LLM response:  Damaged Phone Screen Repair  \n",
      "\n",
      "LLM response:  Desire For Permanence \n",
      "\n",
      "LLM response:  Please provide the interview segment so I can generate a thematic label. 😊  \n",
      "\n",
      "LLM response:  Perceived User Tone   \n",
      "\n",
      "LLM response:  Thought Process Reflection   \n",
      "\n",
      "LLM response:  User Information Seeking \n",
      "\n",
      "LLM response:  Apology Resolution Process \n",
      "\n",
      "LLM response:  Celebrity Endorsement Impact  \n",
      "\n",
      "LLM response:  Pain Seeking Behavior \n",
      "\n",
      "LLM response:  User Departure Announcement   \n",
      "\n",
      "LLM response:  Newbie User Inquiry \n",
      "\n",
      "LLM response:  Screen Brightness Impact \n",
      "\n",
      "LLM response:  Transportation Arrangements  \n",
      "\n",
      "LLM response:  Social Decision Making Process   \n",
      "\n",
      "LLM response:  Hygiene Concerns School  \n",
      "\n",
      "LLM response:  Expressive Nonverbal Communication   \n",
      "\n",
      "LLM response:  Bug Resolution Process \n",
      "\n",
      "LLM response:  Learning Resources  \n",
      "\n",
      "LLM response:  Post Work Beverage Consumption  \n",
      "\n",
      "LLM response:  Emotional Attachment To Animals \n",
      "\n",
      "LLM response:  Teacher Workload And Satisfaction   \n",
      "\n",
      "LLM response:  Sibling Relationship Dynamics \n",
      "\n",
      "LLM response:  Workout Equipment Damage  \n",
      "\n",
      "LLM response:  Morning Greeting And Thanks \n",
      "\n",
      "LLM response:  Performance Satisfaction  \n",
      "\n",
      "LLM response:  Concern For Well Being  \n",
      "\n",
      "LLM response:  Daily Emotional Distress  \n",
      "\n",
      "LLM response:  Tumbleweed Communication  \n",
      "\n",
      "LLM response:  Positive User Response   \n",
      "\n",
      "LLM response:  Clothing Brand Recognition   \n",
      "\n",
      "LLM response:  User Experience Feedback   \n",
      "\n",
      "LLM response:  Product Preference Expression   \n",
      "\n",
      "LLM response:  Social Gathering Celebration  \n",
      "\n",
      "LLM response:  Time Zone Greetings   \n",
      "\n",
      "LLM response:  Parental Affection Expression   \n",
      "\n",
      "LLM response:  Holiday Greeting Expression  \n",
      "\n",
      "LLM response:  Self Confidence Expression   \n",
      "\n",
      "LLM response:  Please provide the interview segment so I can generate a thematic label.  \n",
      "\n",
      "LLM response:  Social Media Engagement  \n",
      "\n",
      "LLM response:  Weather Impact On Work   \n",
      "\n",
      "LLM response:  Emotional State Expression  \n",
      "\n",
      "LLM response:  Emotional Eating Sugar Almonds  \n",
      "\n",
      "LLM response:  Affection For Mother  \n",
      "\n",
      "LLM response:  Empathy Expression \n",
      "\n",
      "LLM response:  Celebrity Interaction Experience   \n",
      "\n",
      "LLM response:  Fan Enthusiasm For Nba   \n",
      "\n",
      "LLM response:  Social Media Engagement  \n",
      "\n",
      "LLM response:  Parking Space Accessibility  \n",
      "\n",
      "LLM response:  Immediate Need  \n",
      "\n",
      "LLM response:  Roommate Transition  \n",
      "\n",
      "LLM response:  Family Bathing Experience  \n",
      "\n",
      "LLM response:  Document Revision Process \n",
      "\n",
      "LLM response:  Birthday Memory Recall Difficulty \n",
      "\n",
      "LLM response:  Social Gathering  \n",
      "\n",
      "LLM response:  Leisure Activities Enjoyment   \n",
      "\n",
      "LLM response:  Concern For Wellbeing \n",
      "\n",
      "LLM response:  Work Schedule Constraints \n",
      "\n",
      "LLM response:  Movie Preference Expression \n",
      "\n",
      "LLM response:  Media Sensationalism   \n",
      "\n",
      "LLM response:  Social Gathering With Friends  \n",
      "\n",
      "LLM response:  Disappointment Over Response  \n",
      "\n",
      "LLM response:  User Response Simplicity   \n",
      "\n",
      "LLM response:  Cat Life Stages  \n",
      "\n",
      "LLM response:  Play Experience Observation   \n",
      "\n",
      "LLM response:  Social Media Debut  \n",
      "\n",
      "LLM response:  Family Connection  \n",
      "\n",
      "LLM response:  Desire For Abundance  \n",
      "\n",
      "LLM response:  Social Media Engagement  \n",
      "\n",
      "LLM response:  Effort And Outcome \n",
      "\n",
      "LLM response:  Social Media Preference  \n",
      "\n",
      "LLM response:  Transportation Difficulty  \n",
      "\n",
      "LLM response:  Anticipation For Event   \n",
      "\n",
      "LLM response:  Past Supportive Relationship   \n",
      "\n",
      "LLM response:  Daily Activities  \n",
      "\n",
      "LLM response:  Office Television Availability  \n",
      "\n",
      "LLM response:  Disappointment With Product Search   \n",
      "\n",
      "LLM response:  Physical Discomfort Experience  \n",
      "\n",
      "LLM response:  Workday Stress Levels  \n",
      "\n",
      "LLM response:  Weekend Schedule Conflicts \n",
      "\n",
      "LLM response:  Flight Cancellation Experience \n",
      "\n",
      "LLM response:  Tooth Pain Experience \n",
      "\n",
      "LLM response:  Social Media Engagement  \n",
      "\n",
      "LLM response:  Financial Strain Experiences \n",
      "\n",
      "LLM response:  Social Media Connection   \n",
      "\n",
      "LLM response:  Leisure Activity Plans  \n",
      "\n",
      "LLM response:  Concert Enthusiasm And Dress   \n",
      "\n",
      "LLM response:  Post R01 Stress Levels  \n",
      "\n",
      "LLM response:  User Satisfaction Expression   \n",
      "\n",
      "LLM response:  Negative Product Sentiment  \n",
      "\n",
      "LLM response:  Competition Outcome Anticipation   \n",
      "\n",
      "LLM response:  User Evaluation Process   \n",
      "\n",
      "LLM response:  Alertness Level Description \n",
      "\n",
      "LLM response:  Daily Writing Schedule \n",
      "\n",
      "LLM response:  Parental Absence Feelings  \n",
      "\n",
      "LLM response:  Dog Behavioral Changes  \n",
      "\n",
      "LLM response:  iPhone Messaging Limitations  \n",
      "\n",
      "LLM response:  New Car Search  \n",
      "\n",
      "LLM response:  Missed Television Event   \n",
      "\n",
      "LLM response:  Social Isolation Feelings  \n",
      "\n",
      "LLM response:  Desire For Belonging \n",
      "\n",
      "LLM response:  Emotional Song Lyrics \n",
      "\n",
      "LLM response:  Physical Strain Impact  \n",
      "\n",
      "LLM response:  User Reaction To Content   \n",
      "\n",
      "LLM response:  Positive User Response   \n",
      "\n",
      "LLM response:  Weekend Work Schedule  \n",
      "\n",
      "LLM response:  Family Celebration Plans  \n",
      "\n",
      "LLM response:  Agreement Expression   \n",
      "\n",
      "LLM response:  Computer Skill Preference \n",
      "\n",
      "LLM response:  Weather And Mood Connection \n",
      "\n",
      "LLM response:  Positive User Response  \n",
      "\n",
      "LLM response:  Platform Preference Expression   \n",
      "\n",
      "LLM response:  Shoe Size Disappointment  \n",
      "\n",
      "LLM response:  Oral Physical Discomfort  \n",
      "\n",
      "LLM response:  Website Functionality Issues \n",
      "\n",
      "LLM response:  Social Media Awareness Gap \n",
      "\n",
      "LLM response:  Disappointment With Outcome \n",
      "\n",
      "LLM response:  Relocation Plans \n",
      "\n",
      "LLM response:  Illness Symptoms  \n",
      "\n",
      "LLM response:  Academic Research Disruption  \n",
      "\n",
      "LLM response:  Social Connection Needs  \n",
      "\n",
      "LLM response:  Fan Excitement Concert   \n",
      "\n",
      "LLM response:  Movie Viewing Experience  \n",
      "\n",
      "LLM response:  Affectionate User Response \n",
      "\n",
      "LLM response:  Hunger On Social Media \n",
      "\n",
      "LLM response:  Positive User Sentiment  \n",
      "\n",
      "LLM response:  Information Seeking Behavior \n",
      "\n",
      "LLM response:  Jewish Identity Expression   \n",
      "\n",
      "LLM response:  Social Gathering Experience  \n",
      "\n",
      "LLM response:  Weekend Activity Limitations \n",
      "\n",
      "LLM response:  App Recommendation Request \n",
      "\n",
      "LLM response:  Shared Emotional Experience \n",
      "\n",
      "LLM response:  Delivery Timeline Expectation  \n",
      "\n",
      "LLM response:  Missing Accessory Description \n",
      "\n",
      "LLM response:  Anticipation Of ChildVisit  \n",
      "\n",
      "LLM response:  Dental Health Concerns   \n",
      "\n",
      "LLM response:  Nostalgia For Elmwood   \n",
      "\n",
      "LLM response:  Positive User Experience  \n",
      "\n",
      "LLM response:  Ticket Planner Functionality  \n",
      "\n",
      "LLM response:  Desire For Event Attendance  \n",
      "\n",
      "LLM response:  Participant Confidence In Outcome   \n",
      "\n",
      "LLM response:  Age Related Perception   \n",
      "\n",
      "LLM response:  User Emotional Response \n",
      "\n",
      "LLM response:  Greeting And Celebration   \n",
      "\n",
      "LLM response:  Television Viewing Habits   \n",
      "\n",
      "LLM response:  Work Obligations  \n",
      "\n",
      "LLM response:  Social Exclusion Boba   \n",
      "\n",
      "LLM response:  Interviewer Greeting  \n",
      "\n",
      "LLM response:  Arrival Time Uncertainty \n",
      "\n",
      "LLM response:  Time Tracking Experience  \n",
      "\n",
      "LLM response:  Time Constraints And Obligations   \n",
      "\n",
      "LLM response:  BrainFreeze Experiences  \n",
      "\n",
      "LLM response:  Character Limit Constraint  \n",
      "\n",
      "LLM response:  Sunburn Symptoms  \n",
      "\n",
      "LLM response:  Nail Polish Appearance Change  \n",
      "\n",
      "LLM response:  Smoking Area Surveillance   \n",
      "\n",
      "LLM response:  Play Pen Isolation  \n",
      "\n",
      "LLM response:  Negative Dental Experience  \n",
      "\n",
      "LLM response:  Social Participation Desire   \n",
      "\n",
      "LLM response:  Social Media Usage  \n",
      "\n",
      "LLM response:  Greeting Exchange   \n",
      "\n",
      "LLM response:  Creative Expression Process   \n",
      "\n",
      "LLM response:  Social Media Presence  \n",
      "\n",
      "LLM response:  Job Dissatisfaction   \n",
      "\n",
      "LLM response:  Digital Memory Remembrance   \n",
      "\n",
      "LLM response:  Airline Business Attraction Strategies \n",
      "\n",
      "LLM response:  User Interaction Experience   \n",
      "\n",
      "LLM response:  Public Recognition And Accomplishments \n",
      "\n",
      "LLM response:  Work Avoidance Motivation  \n",
      "\n",
      "LLM response:  Singing Talent Recognition  \n",
      "\n",
      "LLM response:  Blood Type Specificity  \n",
      "\n",
      "LLM response:  Weekend Dining Plans  \n",
      "\n",
      "LLM response:  Social Connection Through Location  \n",
      "\n",
      "LLM response:  Time Expectation  \n",
      "\n",
      "LLM response:  Social Media Recognition   \n",
      "\n",
      "LLM response:  Phone Replacement Process   \n",
      "\n",
      "LLM response:  Social Connection Support  \n",
      "\n",
      "LLM response:  Social Comparison Desire  \n",
      "\n",
      "LLM response:  Food Preference Expression   \n",
      "\n",
      "LLM response:  Shared Perspectives  \n",
      "\n",
      "LLM response:  Packing Assistance Request  \n",
      "\n",
      "LLM response:  Tea Consumption Preference  \n",
      "\n",
      "LLM response:  Oral Functionality Description   \n",
      "\n",
      "LLM response:  Time Management Strategies  \n",
      "\n",
      "LLM response:  Pancake Preference Expression   \n",
      "\n",
      "LLM response:  Social Interaction Avoidance   \n",
      "\n",
      "LLM response:  Discomfort With Footwear  \n",
      "\n",
      "LLM response:  Electronic Key Failure  \n",
      "\n",
      "LLM response:  Social Media Engagement   \n",
      "\n",
      "LLM response:  Social Interaction Dynamics \n",
      "\n",
      "LLM response:  Greeting Exchange  \n",
      "\n",
      "LLM response:  Shift Work Motivation  \n",
      "\n",
      "LLM response:  Affectionate Greetings Exchange   \n",
      "\n",
      "LLM response:  Garden Snake Encounter \n",
      "\n",
      "LLM response:  Dog Ownership Experience  \n",
      "\n",
      "LLM response:  Residential Location Preferences  \n",
      "\n",
      "LLM response:  Maternal Affection Expression  \n",
      "\n",
      "LLM response:  Illness Symptoms Experience   \n",
      "\n",
      "LLM response:  Anticipation For Mcfly   \n",
      "\n",
      "LLM response:  Passenger Mortality Experience  \n",
      "\n",
      "LLM response:  G Reader Usage Experience \n",
      "\n",
      "LLM response:  Writing Style Preferences  \n",
      "\n",
      "LLM response:  Spiritual Support Seeking \n",
      "\n",
      "LLM response:  Desire For American Life  \n",
      "\n",
      "LLM response:  Social Media Engagement  \n",
      "\n",
      "LLM response:  Customer Dissatisfaction   \n",
      "\n",
      "LLM response:  Sleep Duration Concerns   \n",
      "\n",
      "LLM response:  Positive User Experience  \n",
      "\n",
      "LLM response:  Social Event Desire  \n",
      "\n",
      "LLM response:  Post Surgery Loneliness  \n",
      "\n",
      "LLM response:  Concert Attendance Plans \n",
      "\n",
      "LLM response:  Anticipated Return   \n",
      "\n",
      "LLM response:  Frustration With Outcome   \n",
      "\n",
      "LLM response:  Emotional Attachment To User \n",
      "\n",
      "LLM response:  Emotional Response To Product   \n",
      "\n",
      "LLM response:  Shopping Experience Location   \n",
      "\n",
      "LLM response:  Emotional Resistance To Change  \n",
      "\n",
      "LLM response:  Work Week Completion   \n",
      "\n",
      "LLM response:  Personal Identity Expression  \n",
      "\n",
      "LLM response:  CAD Degree Exploration  \n",
      "\n",
      "LLM response:  Pencil Sharpening Preferences \n",
      "\n",
      "LLM response:  End Of Day Sentiment  \n",
      "\n",
      "LLM response:  Travel Aspirations   \n",
      "\n",
      "LLM response:  Companionship Desire Evening \n",
      "\n",
      "LLM response:  Shared Kitchen Experiences   \n",
      "\n",
      "LLM response:  Emotional Response To Product  \n",
      "\n",
      "LLM response:  Sports Event Attendance  \n",
      "\n",
      "LLM response:  Social Music Preference  \n",
      "\n",
      "LLM response:  Cereal Consumption Preferences  \n",
      "\n",
      "LLM response:  User Confusion Product Drawing   \n",
      "\n",
      "LLM response:  Daughter Gift Giving  \n",
      "\n",
      "LLM response:  Sleep Deprivation Impact  \n",
      "\n",
      "LLM response:  Music Preference During Travel  \n",
      "\n",
      "LLM response:  Gaming Skill Level  \n",
      "\n",
      "LLM response:  Social Group Affiliation   \n",
      "\n",
      "LLM response:  Weekend Leisure Activities  \n",
      "\n",
      "LLM response:  Music Preference Exploration   \n",
      "\n",
      "LLM response:  Bug Related Injury   \n",
      "\n",
      "LLM response:  Delayed Online Purchase Realization   \n",
      "\n",
      "LLM response:  Social Media Platform Use \n",
      "\n",
      "LLM response:  Music Consumption Habits   \n",
      "\n",
      "LLM response:  Self Empowerment Aspirations \n",
      "\n",
      "LLM response:  Actor Performance Anxiety  \n",
      "\n",
      "LLM response:  Social Event Absence  \n",
      "\n",
      "LLM response:  Negative Social Perception  \n",
      "\n",
      "LLM response:  Family Health Concerns  \n",
      "\n",
      "LLM response:  Errands And Chores  \n",
      "\n",
      "LLM response:  Bedroom Transformation Plan  \n",
      "\n",
      "LLM response:  Daily Routines And Obligations  \n",
      "\n",
      "LLM response:  Sponsor Recognition   \n",
      "\n",
      "LLM response:  Office Work Environment \n",
      "\n",
      "LLM response:  Emotional Response To Product \n",
      "\n",
      "LLM response:  Noise Level Concern  \n",
      "\n",
      "LLM response:  Solo Homework Activity  \n",
      "\n",
      "LLM response:  Family Poverty Rates  \n",
      "\n",
      "LLM response:  Financial Planning Challenges  \n",
      "\n",
      "LLM response:  Social Media Sharing  \n",
      "\n",
      "LLM response:  Project Completion Timeline   \n",
      "\n",
      "LLM response:  Nostalgia For Location \n",
      "\n",
      "Lista completa de codes:  ['Positive User Experience  \\n', 'Emotional Connection To Place  \\n', 'Emotional Response To Situation  \\n', 'Classroom Learning Experience   \\n', 'Individual Choice Expression  \\n', 'Sleep And Mood  \\n', 'Positive Baby Interactions  \\n', 'Emotional Response To Product  \\n', 'Participant Interaction Dynamics   \\n', 'Boat Travel Experience  \\n', 'Conceptual Metaphor Usage  \\n', 'Musical Preference Expression  \\n', 'Ink Supply Depletion  \\n', 'Vocal Impairment Impact  \\n', 'Emotional Absence  \\n', 'User Request For Privacy  \\n', 'User Disinterest  \\n', 'Recent Illness Experience  \\n', 'Positive Past Employment  \\n', 'Romantic Feelings Expression  \\n', 'Concern For Missing Person \\n', 'Play Experiences With Children  \\n', 'Household Preparation  \\n', 'User Interface Frustration  \\n', 'Social Reciprocity  \\n', 'Daily Gameplay Engagement  \\n', 'Expression Of Regret  \\n', 'Village Internet Access  \\n', 'Travel Destination Preference  \\n', 'Power Outage Experience  \\n', 'Logo Perception  \\n', 'Customer Satisfaction With Book  \\n', 'Body Mass Index Perception \\n', 'Positive Child Reactions   \\n', 'Sports Team Preference \\n', 'Academic Achievement  \\n', 'Urban Nostalgia Experiences   \\n', 'Content Creation Volume  \\n', 'Exhaustion After School  \\n', 'Humor Perception Romance Zero   \\n', 'Vehicle Damage Concerns \\n', 'Relationship Dynamics  \\n', 'Emergency Response  \\n', 'Morning Running Preference \\n', 'Availability Constraints \\n', 'Age Perception In Salon  \\n', 'Communication Preference   \\n', 'Boredom With MusicVideo  \\n', 'Concert Experience  \\n', 'Nicotine Patch Experience  \\n', 'Weather Preparedness  \\n', 'Sleep Deprivation Symptoms \\n', 'Mental Health Crisis  \\n', 'Anticipation For Fall   \\n', 'Dream Content Description  \\n', 'Social Discomfort Feelings \\n', 'Pain Management Needs  \\n', 'Mothers Role As Heroes  \\n', 'Morning Routine Activities \\n', 'Anticipation Of Enjoyment  \\n', 'Valuable Day Experience  \\n', 'Humorous Self Deprecation   \\n', 'Staying Current Trends  \\n', 'Family And Affection  \\n', 'Minecraft Gameplay Engagement  \\n', 'Cloud Computing Preference  \\n', 'Positive User Experience  \\n', 'Emotional Connection To Place  \\n', 'Emotional Response To Situation  \\n', 'Classroom Learning Experience   \\n', 'Individual Choice Expression  \\n', 'Sleep And Mood  \\n', 'Positive Baby Interactions  \\n', 'Emotional Response To Product  \\n', 'Participant Interaction Dynamics   \\n', 'Boat Travel Experience  \\n', 'Conceptual Metaphor Usage  \\n', 'Musical Preference Expression  \\n', 'Ink Supply Depletion  \\n', 'Vocal Impairment Impact  \\n', 'Emotional Absence  \\n', 'User Request For Privacy  \\n', 'User Disinterest  \\n', 'Recent Illness Experience  \\n', 'Positive Past Employment  \\n', 'Romantic Feelings Expression  \\n', 'Concern For Missing Person \\n', 'Play Experiences With Children  \\n', 'Household Preparation  \\n', 'User Interface Frustration  \\n', 'Social Reciprocity  \\n', 'Daily Gameplay Engagement  \\n', 'Expression Of Regret  \\n', 'Village Internet Access  \\n', 'Travel Destination Preference  \\n', 'Power Outage Experience  \\n', 'Logo Perception  \\n', 'Customer Satisfaction With Book  \\n', 'Body Mass Index Perception \\n', 'Positive Child Reactions   \\n', 'Sports Team Preference \\n', 'Academic Achievement  \\n', 'Urban Nostalgia Experiences   \\n', 'Content Creation Volume  \\n', 'Exhaustion After School  \\n', 'Humor Perception Romance Zero   \\n', 'Vehicle Damage Concerns \\n', 'Relationship Dynamics  \\n', 'Emergency Response  \\n', 'Morning Running Preference \\n', 'Availability Constraints \\n', 'Age Perception In Salon  \\n', 'Communication Preference   \\n', 'Morning Routine Activities \\n', 'Anticipation Of Change  \\n', 'User Feedback On Product   \\n', 'Humorous Self Deprecation   \\n', 'Device Usage Update  \\n', 'Expressing Affection  \\n', 'Cricket Match Enthusiasm  \\n', 'Cricket Match Viewing Habits  \\n', 'Fan Expression Of Support  \\n', 'Customer Satisfaction Expression   \\n', 'Sensory Product Description  \\n', 'Emotional State Gloom  \\n', 'Concert Attendance Plans  \\n', 'Caffeine Consumption Desire  \\n', 'User Identification   \\n', 'Regretful Life Reflection   \\n', 'Student Transportation Preferences  \\n', 'Learning Machine Learning  \\n', 'Inspection Outcome  \\n', 'Musical Expression  \\n', 'Father Figure Recognition  \\n', 'Exam Experience  \\n', 'Positive User Experience  \\n', 'Physical Attribute Exception  \\n', 'Achievement Recognition  \\n', 'Social Media Following Limits  \\n', 'Work Schedule Preferences \\n', 'Participant Interpretation   \\n', 'Spa And Lunch Plans  \\n', 'Daily Routine Activities   \\n', 'Aspirational Educational Goals \\n', 'Please provide the interview segment so I can generate a thematic label. 😊  \\n', 'Positive Sports Experience  \\n', 'Need For Presence  \\n', 'Damaged Phone Screen Repair  \\n', 'Desire For Permanence \\n', 'Please provide the interview segment so I can generate a thematic label. 😊  \\n', 'Perceived User Tone   \\n', 'Thought Process Reflection   \\n', 'Event Celebration Day  \\n', 'Apology Resolution Process \\n', 'Educational Aspirations  \\n', 'Pain Seeking Behavior \\n', 'User Departure Announcement   \\n', 'Beach Visit Experience  \\n', 'Laptop Brightness Adjustment  \\n', 'Transportation Arrangements  \\n', 'Social Interaction Perception  \\n', 'Hygiene Concerns School  \\n', 'Language Communication Preference  \\n', 'Pricing Concerns Candy   \\n', 'Star Wars Enthusiasm  \\n', 'Workday Experiences  \\n', 'Emotional Attachment To Animals \\n', 'Teacher Workload And Satisfaction   \\n', 'Sibling Relationship Dynamics \\n', 'Educational Achievement  \\n', 'Morning Greeting And Thanks \\n', 'Motivational Film Experience  \\n', 'Concern For Well Being  \\n', 'Daily Emotional Distress  \\n', 'Tumbleweed Communication  \\n', 'Positive User Response   \\n', 'Clothing Brand Recognition   \\n', 'User Experience Feedback   \\n', 'Product Preference Expression   \\n', 'Social Gathering Interaction   \\n', 'Time Zone Greetings \\n', 'Parental Affection Expression   \\n', 'Holiday Greeting Expression  \\n', 'Self Confidence Expression   \\n', 'Please provide the interview segment so I can generate a thematic label.  \\n', 'Social Media Engagement  \\n', 'Weather Impact On Work   \\n', 'Emotional State Expression  \\n', 'Emotional Eating Sugar Almonds  \\n', 'Affection For Mother  \\n', 'Empathy Expression \\n', 'Celebrity Interaction Experience   \\n', 'Fan Enthusiasm For Nba   \\n', 'Social Media Engagement  \\n', 'Parking Space Accessibility  \\n', 'Immediate Need  \\n', 'Roommate Transition  \\n', 'Family Bathing Experience  \\n', 'Document Revision Process \\n', 'Birthday Memory Recall Difficulty \\n', 'Social Gathering  \\n', 'Leisure Activities Enjoyment   \\n', 'Concern For Wellbeing \\n', 'Work Schedule Constraints \\n', 'Movie Preference Expression \\n', 'Morning Routine Activities \\n', 'Anticipation Of Change  \\n', 'Morning Routine Activities \\n', 'Anticipation Of Change  \\n', 'User Feedback On Product   \\n', 'Humorous Self Deprecation   \\n', 'Device Usage Update  \\n', 'Travel Planning Experiences \\n', 'Childrens Media Consumption   \\n', 'Physical Appearance Observation  \\n', 'Color Preference Programming  \\n', 'Customer Satisfaction Expression   \\n', 'Sensory Product Description  \\n', 'Visual Perception Differences  \\n', 'Multitasking Student Activities  \\n', 'Emotional Color Associations  \\n', 'User Identification   \\n', 'Regretful Life Reflection   \\n', 'Student Transportation Preferences  \\n', 'User Satisfaction  \\n', 'Product Packaging Frustration  \\n', 'Concert Enthusiasm  \\n', 'Motherly Appreciation  \\n', 'Fever And Music Preference  \\n', 'Entertainment Consumption Experience  \\n', 'Attractiveness Perception  \\n', 'Actor Preference Satisfaction  \\n', 'Social Media Following Limits  \\n', 'Work Schedule Preferences   \\n', 'Media Perception Of Novelty \\n', 'Spa And Lunch Plans  \\n', 'Daily Routine Activities   \\n', 'Desire For Travel Destination \\n', 'User Experience Feedback \\n', 'Positive YouTube Experience  \\n', 'Blackberry Representation  \\n', 'Damaged Phone Screen Repair  \\n', 'Desire For Permanence \\n', 'Please provide the interview segment so I can generate a thematic label. 😊  \\n', 'Perceived User Tone   \\n', 'Thought Process Reflection   \\n', 'User Information Seeking \\n', 'Apology Resolution Process \\n', 'Celebrity Endorsement Impact  \\n', 'Pain Seeking Behavior \\n', 'User Departure Announcement   \\n', 'Newbie User Inquiry \\n', 'Screen Brightness Impact \\n', 'Transportation Arrangements  \\n', 'Social Decision Making Process   \\n', 'Hygiene Concerns School  \\n', 'Expressive Nonverbal Communication   \\n', 'Bug Resolution Process \\n', 'Learning Resources  \\n', 'Post Work Beverage Consumption  \\n', 'Emotional Attachment To Animals \\n', 'Teacher Workload And Satisfaction   \\n', 'Sibling Relationship Dynamics \\n', 'Workout Equipment Damage  \\n', 'Morning Greeting And Thanks \\n', 'Performance Satisfaction  \\n', 'Concern For Well Being  \\n', 'Daily Emotional Distress  \\n', 'Tumbleweed Communication  \\n', 'Positive User Response   \\n', 'Clothing Brand Recognition   \\n', 'User Experience Feedback   \\n', 'Product Preference Expression   \\n', 'Social Gathering Celebration  \\n', 'Time Zone Greetings   \\n', 'Parental Affection Expression   \\n', 'Holiday Greeting Expression  \\n', 'Self Confidence Expression   \\n', 'Please provide the interview segment so I can generate a thematic label.  \\n', 'Social Media Engagement  \\n', 'Weather Impact On Work   \\n', 'Emotional State Expression  \\n', 'Emotional Eating Sugar Almonds  \\n', 'Affection For Mother  \\n', 'Empathy Expression \\n', 'Celebrity Interaction Experience   \\n', 'Fan Enthusiasm For Nba   \\n', 'Social Media Engagement  \\n', 'Parking Space Accessibility  \\n', 'Immediate Need  \\n', 'Roommate Transition  \\n', 'Family Bathing Experience  \\n', 'Document Revision Process \\n', 'Birthday Memory Recall Difficulty \\n', 'Social Gathering  \\n', 'Leisure Activities Enjoyment   \\n', 'Concern For Wellbeing \\n', 'Work Schedule Constraints \\n', 'Movie Preference Expression \\n', 'Media Sensationalism   \\n', 'Social Gathering With Friends  \\n', 'Disappointment Over Response  \\n', 'User Response Simplicity   \\n', 'Cat Life Stages  \\n', 'Play Experience Observation   \\n', 'Social Media Debut  \\n', 'Family Connection  \\n', 'Desire For Abundance  \\n', 'Social Media Engagement  \\n', 'Effort And Outcome \\n', 'Social Media Preference  \\n', 'Transportation Difficulty  \\n', 'Anticipation For Event   \\n', 'Past Supportive Relationship   \\n', 'Daily Activities  \\n', 'Office Television Availability  \\n', 'Disappointment With Product Search   \\n', 'Physical Discomfort Experience  \\n', 'Workday Stress Levels  \\n', 'Weekend Schedule Conflicts \\n', 'Flight Cancellation Experience \\n', 'Tooth Pain Experience \\n', 'Social Media Engagement  \\n', 'Financial Strain Experiences \\n', 'Social Media Connection   \\n', 'Leisure Activity Plans  \\n', 'Concert Enthusiasm And Dress   \\n', 'Post R01 Stress Levels  \\n', 'User Satisfaction Expression   \\n', 'Negative Product Sentiment  \\n', 'Competition Outcome Anticipation   \\n', 'User Evaluation Process   \\n', 'Alertness Level Description \\n', 'Daily Writing Schedule \\n', 'Parental Absence Feelings  \\n', 'Dog Behavioral Changes  \\n', 'iPhone Messaging Limitations  \\n', 'New Car Search  \\n', 'Missed Television Event   \\n', 'Social Isolation Feelings  \\n', 'Desire For Belonging \\n', 'Emotional Song Lyrics \\n', 'Physical Strain Impact  \\n', 'User Reaction To Content   \\n', 'Positive User Response   \\n', 'Weekend Work Schedule  \\n', 'Family Celebration Plans  \\n', 'Agreement Expression   \\n', 'Computer Skill Preference \\n', 'Weather And Mood Connection \\n', 'Positive User Response  \\n', 'Platform Preference Expression   \\n', 'Shoe Size Disappointment  \\n', 'Oral Physical Discomfort  \\n', 'Website Functionality Issues \\n', 'Social Media Awareness Gap \\n', 'Disappointment With Outcome \\n', 'Relocation Plans \\n', 'Illness Symptoms  \\n', 'Academic Research Disruption  \\n', 'Social Connection Needs  \\n', 'Fan Excitement Concert   \\n', 'Movie Viewing Experience  \\n', 'Affectionate User Response \\n', 'Hunger On Social Media \\n', 'Positive User Sentiment  \\n', 'Information Seeking Behavior \\n', 'Jewish Identity Expression   \\n', 'Social Gathering Experience  \\n', 'Weekend Activity Limitations \\n', 'App Recommendation Request \\n', 'Shared Emotional Experience \\n', 'Delivery Timeline Expectation  \\n', 'Missing Accessory Description \\n', 'Anticipation Of ChildVisit  \\n', 'Dental Health Concerns   \\n', 'Nostalgia For Elmwood   \\n', 'Positive User Experience  \\n', 'Ticket Planner Functionality  \\n', 'Desire For Event Attendance  \\n', 'Participant Confidence In Outcome   \\n', 'Age Related Perception   \\n', 'User Emotional Response \\n', 'Greeting And Celebration   \\n', 'Television Viewing Habits   \\n', 'Work Obligations  \\n', 'Social Exclusion Boba   \\n', 'Interviewer Greeting  \\n', 'Arrival Time Uncertainty \\n', 'Time Tracking Experience  \\n', 'Time Constraints And Obligations   \\n', 'BrainFreeze Experiences  \\n', 'Character Limit Constraint  \\n', 'Sunburn Symptoms  \\n', 'Nail Polish Appearance Change  \\n', 'Smoking Area Surveillance   \\n', 'Play Pen Isolation  \\n', 'Negative Dental Experience  \\n', 'Social Participation Desire   \\n', 'Social Media Usage  \\n', 'Greeting Exchange   \\n', 'Creative Expression Process   \\n', 'Social Media Presence  \\n', 'Job Dissatisfaction   \\n', 'Digital Memory Remembrance   \\n', 'Airline Business Attraction Strategies \\n', 'User Interaction Experience   \\n', 'Public Recognition And Accomplishments \\n', 'Work Avoidance Motivation  \\n', 'Singing Talent Recognition  \\n', 'Blood Type Specificity  \\n', 'Weekend Dining Plans  \\n', 'Social Connection Through Location  \\n', 'Time Expectation  \\n', 'Social Media Recognition   \\n', 'Phone Replacement Process   \\n', 'Social Connection Support  \\n', 'Social Comparison Desire  \\n', 'Food Preference Expression   \\n', 'Shared Perspectives  \\n', 'Packing Assistance Request  \\n', 'Tea Consumption Preference  \\n', 'Oral Functionality Description   \\n', 'Time Management Strategies  \\n', 'Pancake Preference Expression   \\n', 'Social Interaction Avoidance   \\n', 'Discomfort With Footwear  \\n', 'Electronic Key Failure  \\n', 'Social Media Engagement   \\n', 'Social Interaction Dynamics \\n', 'Greeting Exchange  \\n', 'Shift Work Motivation  \\n', 'Affectionate Greetings Exchange   \\n', 'Garden Snake Encounter \\n', 'Dog Ownership Experience  \\n', 'Residential Location Preferences  \\n', 'Maternal Affection Expression  \\n', 'Illness Symptoms Experience   \\n', 'Anticipation For Mcfly   \\n', 'Passenger Mortality Experience  \\n', 'G Reader Usage Experience \\n', 'Writing Style Preferences  \\n', 'Spiritual Support Seeking \\n', 'Desire For American Life  \\n', 'Social Media Engagement  \\n', 'Customer Dissatisfaction   \\n', 'Sleep Duration Concerns   \\n', 'Positive User Experience  \\n', 'Social Event Desire  \\n', 'Post Surgery Loneliness  \\n', 'Concert Attendance Plans \\n', 'Anticipated Return   \\n', 'Frustration With Outcome   \\n', 'Emotional Attachment To User \\n', 'Emotional Response To Product   \\n', 'Shopping Experience Location   \\n', 'Emotional Resistance To Change  \\n', 'Work Week Completion   \\n', 'Personal Identity Expression  \\n', 'CAD Degree Exploration  \\n', 'Pencil Sharpening Preferences \\n', 'End Of Day Sentiment  \\n', 'Travel Aspirations   \\n', 'Companionship Desire Evening \\n', 'Shared Kitchen Experiences   \\n', 'Emotional Response To Product  \\n', 'Sports Event Attendance  \\n', 'Social Music Preference  \\n', 'Cereal Consumption Preferences  \\n', 'User Confusion Product Drawing   \\n', 'Daughter Gift Giving  \\n', 'Sleep Deprivation Impact  \\n', 'Music Preference During Travel  \\n', 'Gaming Skill Level  \\n', 'Social Group Affiliation   \\n', 'Weekend Leisure Activities  \\n', 'Music Preference Exploration   \\n', 'Bug Related Injury   \\n', 'Delayed Online Purchase Realization   \\n', 'Social Media Platform Use \\n', 'Music Consumption Habits   \\n', 'Self Empowerment Aspirations \\n', 'Actor Performance Anxiety  \\n', 'Social Event Absence  \\n', 'Negative Social Perception  \\n', 'Family Health Concerns  \\n', 'Errands And Chores  \\n', 'Bedroom Transformation Plan  \\n', 'Daily Routines And Obligations  \\n', 'Sponsor Recognition   \\n', 'Office Work Environment \\n', 'Emotional Response To Product \\n', 'Noise Level Concern  \\n', 'Solo Homework Activity  \\n', 'Family Poverty Rates  \\n', 'Financial Planning Challenges  \\n', 'Social Media Sharing  \\n', 'Project Completion Timeline   \\n', 'Nostalgia For Location \\n']\n"
     ]
    }
   ],
   "source": [
    "# le pasamos las palabras al llm \n",
    "# CALL CENTER DATA SET\n",
    "\n",
    "sentences_sentiment = sentiment[\"text\"].astype(str).tolist()\n",
    "    \n",
    "labels_sentiment = []\n",
    "GEN_OPTS = {\"temperature\": 0.0, \"top_p\": 1.0, \"repeat_penalty\": 1.2}\n",
    "\n",
    "for i in range(len(sentences_sentiment)): \n",
    "# Pasamos el prompt con un system para que nos regrese el output que deseamos\n",
    "    messages = [\n",
    "        {\n",
    "        'role':'system','content':prompt_template\n",
    "        },\n",
    "        {\n",
    "        'role':'user', 'content':f'This is the transcript i need the codes for: {sentences_sentiment[i]}',\n",
    "        },   \n",
    "    ]\n",
    "\n",
    "    label = chat(model = \"gemma2:9b\", messages=messages, options=GEN_OPTS)\n",
    "    labels_sentiment.append(label['message']['content'])\n",
    "    print(\"LLM response: \",label['message']['content'])\n",
    "\n",
    "print(\"Lista completa de codes: \",labels_sentiment)\n"
   ]
  },
  {
   "cell_type": "code",
   "execution_count": 13,
   "id": "53b0df70",
   "metadata": {},
   "outputs": [
    {
     "name": "stdout",
     "output_type": "stream",
     "text": [
      "Cantidad de thematic labels generados:  499\n"
     ]
    }
   ],
   "source": [
    "print(\"Cantidad de thematic labels generados: \",len(labels_sentiment))"
   ]
  },
  {
   "cell_type": "code",
   "execution_count": null,
   "id": "c07f15a5",
   "metadata": {},
   "outputs": [],
   "source": [
    "# Importamos a un csv solo los labels\n",
    "\n",
    "import pandas as pd\n",
    "\n",
    "pd.DataFrame({\"label\": labels_sentiment}).to_csv(\n",
    "    \"labels_only.csv\", index=False, encoding=\"utf-8-sig\"\n",
    ")\n"
   ]
  },
  {
   "cell_type": "code",
   "execution_count": null,
   "id": "557ecc1b",
   "metadata": {},
   "outputs": [],
   "source": [
    "# Importamos a un csv indice, sentiment analysis y su label generado por LLM\n",
    "\n",
    "pd.DataFrame({\n",
    "    \"idx\": range(len(labels_sentiment)),\n",
    "    \"text\": sentences_sentiment[:len(labels_sentiment)],\n",
    "    \"label\": labels_sentiment\n",
    "}).to_csv(\"labels_sentiment.csv\", index=False, encoding=\"utf-8-sig\")"
   ]
  },
  {
   "cell_type": "markdown",
   "id": "1bdf6599",
   "metadata": {},
   "source": [
    "**Vectorizamos los labels**"
   ]
  },
  {
   "cell_type": "code",
   "execution_count": 14,
   "id": "0d522a3e",
   "metadata": {},
   "outputs": [],
   "source": [
    "# Despues de generar los thematic labels vectorizamos y hacemos cluster con HBDSCAN\n",
    "from sentence_transformers import SentenceTransformer\n",
    "\n",
    "ST_model = SentenceTransformer('all-MiniLM-L6-v2')\n",
    "sentiment_embedded = ST_model.encode(labels_sentiment, convert_to_numpy=True)"
   ]
  },
  {
   "cell_type": "code",
   "execution_count": 15,
   "id": "7c141007",
   "metadata": {},
   "outputs": [
    {
     "name": "stdout",
     "output_type": "stream",
     "text": [
      "[[-0.03031873  0.05057195 -0.01491859 ... -0.02037648 -0.00163911\n",
      "   0.0413107 ]\n",
      " [ 0.07348786 -0.02340687  0.03307682 ...  0.1238998  -0.05009362\n",
      "  -0.03497658]\n",
      " [-0.00699909  0.05914862  0.00685273 ...  0.06271049 -0.07404987\n",
      "  -0.03521739]\n",
      " ...\n",
      " [-0.01479522 -0.02378483 -0.0498682  ...  0.02121904 -0.07809275\n",
      "   0.04581887]\n",
      " [-0.02023393 -0.02837187  0.0510417  ... -0.02707418  0.0074882\n",
      "   0.03977657]\n",
      " [ 0.06275199  0.03894886  0.0391977  ...  0.05683921 -0.08846852\n",
      "   0.05103279]]\n"
     ]
    },
    {
     "data": {
      "text/plain": [
       "499"
      ]
     },
     "execution_count": 15,
     "metadata": {},
     "output_type": "execute_result"
    }
   ],
   "source": [
    "print(sentiment_embedded)\n",
    "len(sentiment_embedded)"
   ]
  },
  {
   "cell_type": "markdown",
   "id": "bb028d27",
   "metadata": {},
   "source": [
    "**Graficamos el embbedded space**"
   ]
  },
  {
   "cell_type": "code",
   "execution_count": 25,
   "id": "74950728",
   "metadata": {},
   "outputs": [
    {
     "name": "stderr",
     "output_type": "stream",
     "text": [
      "c:\\Users\\Hiram\\AppData\\Local\\Programs\\Python\\Python312\\Lib\\site-packages\\umap\\umap_.py:1952: UserWarning:\n",
      "\n",
      "n_jobs value 1 overridden to 1 by setting random_state. Use no seed for parallelism.\n",
      "\n"
     ]
    },
    {
     "data": {
      "application/vnd.plotly.v1+json": {
       "config": {
        "plotlyServerURL": "https://plot.ly"
       },
       "data": [
        {
         "customdata": [
          [
           "Positive User Experience  \n"
          ],
          [
           "Emotional Connection To Place  \n"
          ],
          [
           "Emotional Response To Situation  \n"
          ],
          [
           "Classroom Learning Experience   \n"
          ],
          [
           "Individual Choice Expression  \n"
          ],
          [
           "Sleep And Mood  \n"
          ],
          [
           "Positive Baby Interactions  \n"
          ],
          [
           "Emotional Response To Product  \n"
          ],
          [
           "Participant Interaction Dynamics   \n"
          ],
          [
           "Boat Travel Experience  \n"
          ],
          [
           "Conceptual Metaphor Usage  \n"
          ],
          [
           "Musical Preference Expression  \n"
          ],
          [
           "Ink Supply Depletion  \n"
          ],
          [
           "Vocal Impairment Impact  \n"
          ],
          [
           "Emotional Absence  \n"
          ],
          [
           "User Request For Privacy  \n"
          ],
          [
           "User Disinterest  \n"
          ],
          [
           "Recent Illness Experience  \n"
          ],
          [
           "Positive Past Employment  \n"
          ],
          [
           "Romantic Feelings Expression  \n"
          ],
          [
           "Concern For Missing Person \n"
          ],
          [
           "Play Experiences With Children  \n"
          ],
          [
           "Household Preparation  \n"
          ],
          [
           "User Interface Frustration  \n"
          ],
          [
           "Social Reciprocity  \n"
          ],
          [
           "Daily Gameplay Engagement  \n"
          ],
          [
           "Expression Of Regret  \n"
          ],
          [
           "Village Internet Access  \n"
          ],
          [
           "Travel Destination Preference  \n"
          ],
          [
           "Power Outage Experience  \n"
          ],
          [
           "Logo Perception  \n"
          ],
          [
           "Customer Satisfaction With Book  \n"
          ],
          [
           "Body Mass Index Perception \n"
          ],
          [
           "Positive Child Reactions   \n"
          ],
          [
           "Sports Team Preference \n"
          ],
          [
           "Academic Achievement  \n"
          ],
          [
           "Urban Nostalgia Experiences   \n"
          ],
          [
           "Content Creation Volume  \n"
          ],
          [
           "Exhaustion After School  \n"
          ],
          [
           "Humor Perception Romance Zero   \n"
          ],
          [
           "Vehicle Damage Concerns \n"
          ],
          [
           "Relationship Dynamics  \n"
          ],
          [
           "Emergency Response  \n"
          ],
          [
           "Morning Running Preference \n"
          ],
          [
           "Availability Constraints \n"
          ],
          [
           "Age Perception In Salon  \n"
          ],
          [
           "Communication Preference   \n"
          ],
          [
           "Boredom With MusicVideo  \n"
          ],
          [
           "Concert Experience  \n"
          ],
          [
           "Nicotine Patch Experience  \n"
          ],
          [
           "Weather Preparedness  \n"
          ],
          [
           "Sleep Deprivation Symptoms \n"
          ],
          [
           "Mental Health Crisis  \n"
          ],
          [
           "Anticipation For Fall   \n"
          ],
          [
           "Dream Content Description  \n"
          ],
          [
           "Social Discomfort Feelings \n"
          ],
          [
           "Pain Management Needs  \n"
          ],
          [
           "Mothers Role As Heroes  \n"
          ],
          [
           "Morning Routine Activities \n"
          ],
          [
           "Anticipation Of Enjoyment  \n"
          ],
          [
           "Valuable Day Experience  \n"
          ],
          [
           "Humorous Self Deprecation   \n"
          ],
          [
           "Staying Current Trends  \n"
          ],
          [
           "Family And Affection  \n"
          ],
          [
           "Minecraft Gameplay Engagement  \n"
          ],
          [
           "Cloud Computing Preference  \n"
          ],
          [
           "Positive User Experience  \n"
          ],
          [
           "Emotional Connection To Place  \n"
          ],
          [
           "Emotional Response To Situation  \n"
          ],
          [
           "Classroom Learning Experience   \n"
          ],
          [
           "Individual Choice Expression  \n"
          ],
          [
           "Sleep And Mood  \n"
          ],
          [
           "Positive Baby Interactions  \n"
          ],
          [
           "Emotional Response To Product  \n"
          ],
          [
           "Participant Interaction Dynamics   \n"
          ],
          [
           "Boat Travel Experience  \n"
          ],
          [
           "Conceptual Metaphor Usage  \n"
          ],
          [
           "Musical Preference Expression  \n"
          ],
          [
           "Ink Supply Depletion  \n"
          ],
          [
           "Vocal Impairment Impact  \n"
          ],
          [
           "Emotional Absence  \n"
          ],
          [
           "User Request For Privacy  \n"
          ],
          [
           "User Disinterest  \n"
          ],
          [
           "Recent Illness Experience  \n"
          ],
          [
           "Positive Past Employment  \n"
          ],
          [
           "Romantic Feelings Expression  \n"
          ],
          [
           "Concern For Missing Person \n"
          ],
          [
           "Play Experiences With Children  \n"
          ],
          [
           "Household Preparation  \n"
          ],
          [
           "User Interface Frustration  \n"
          ],
          [
           "Social Reciprocity  \n"
          ],
          [
           "Daily Gameplay Engagement  \n"
          ],
          [
           "Expression Of Regret  \n"
          ],
          [
           "Village Internet Access  \n"
          ],
          [
           "Travel Destination Preference  \n"
          ],
          [
           "Power Outage Experience  \n"
          ],
          [
           "Logo Perception  \n"
          ],
          [
           "Customer Satisfaction With Book  \n"
          ],
          [
           "Body Mass Index Perception \n"
          ],
          [
           "Positive Child Reactions   \n"
          ],
          [
           "Sports Team Preference \n"
          ],
          [
           "Academic Achievement  \n"
          ],
          [
           "Urban Nostalgia Experiences   \n"
          ],
          [
           "Content Creation Volume  \n"
          ],
          [
           "Exhaustion After School  \n"
          ],
          [
           "Humor Perception Romance Zero   \n"
          ],
          [
           "Vehicle Damage Concerns \n"
          ],
          [
           "Relationship Dynamics  \n"
          ],
          [
           "Emergency Response  \n"
          ],
          [
           "Morning Running Preference \n"
          ],
          [
           "Availability Constraints \n"
          ],
          [
           "Age Perception In Salon  \n"
          ],
          [
           "Communication Preference   \n"
          ],
          [
           "Morning Routine Activities \n"
          ],
          [
           "Anticipation Of Change  \n"
          ],
          [
           "User Feedback On Product   \n"
          ],
          [
           "Humorous Self Deprecation   \n"
          ],
          [
           "Device Usage Update  \n"
          ],
          [
           "Expressing Affection  \n"
          ],
          [
           "Cricket Match Enthusiasm  \n"
          ],
          [
           "Cricket Match Viewing Habits  \n"
          ],
          [
           "Fan Expression Of Support  \n"
          ],
          [
           "Customer Satisfaction Expression   \n"
          ],
          [
           "Sensory Product Description  \n"
          ],
          [
           "Emotional State Gloom  \n"
          ],
          [
           "Concert Attendance Plans  \n"
          ],
          [
           "Caffeine Consumption Desire  \n"
          ],
          [
           "User Identification   \n"
          ],
          [
           "Regretful Life Reflection   \n"
          ],
          [
           "Student Transportation Preferences  \n"
          ],
          [
           "Learning Machine Learning  \n"
          ],
          [
           "Inspection Outcome  \n"
          ],
          [
           "Musical Expression  \n"
          ],
          [
           "Father Figure Recognition  \n"
          ],
          [
           "Exam Experience  \n"
          ],
          [
           "Positive User Experience  \n"
          ],
          [
           "Physical Attribute Exception  \n"
          ],
          [
           "Achievement Recognition  \n"
          ],
          [
           "Social Media Following Limits  \n"
          ],
          [
           "Work Schedule Preferences \n"
          ],
          [
           "Participant Interpretation   \n"
          ],
          [
           "Spa And Lunch Plans  \n"
          ],
          [
           "Daily Routine Activities   \n"
          ],
          [
           "Aspirational Educational Goals \n"
          ],
          [
           "Please provide the interview segment so I can generate a thematic label. 😊  \n"
          ],
          [
           "Positive Sports Experience  \n"
          ],
          [
           "Need For Presence  \n"
          ],
          [
           "Damaged Phone Screen Repair  \n"
          ],
          [
           "Desire For Permanence \n"
          ],
          [
           "Please provide the interview segment so I can generate a thematic label. 😊  \n"
          ],
          [
           "Perceived User Tone   \n"
          ],
          [
           "Thought Process Reflection   \n"
          ],
          [
           "Event Celebration Day  \n"
          ],
          [
           "Apology Resolution Process \n"
          ],
          [
           "Educational Aspirations  \n"
          ],
          [
           "Pain Seeking Behavior \n"
          ],
          [
           "User Departure Announcement   \n"
          ],
          [
           "Beach Visit Experience  \n"
          ],
          [
           "Laptop Brightness Adjustment  \n"
          ],
          [
           "Transportation Arrangements  \n"
          ],
          [
           "Social Interaction Perception  \n"
          ],
          [
           "Hygiene Concerns School  \n"
          ],
          [
           "Language Communication Preference  \n"
          ],
          [
           "Pricing Concerns Candy   \n"
          ],
          [
           "Star Wars Enthusiasm  \n"
          ],
          [
           "Workday Experiences  \n"
          ],
          [
           "Emotional Attachment To Animals \n"
          ],
          [
           "Teacher Workload And Satisfaction   \n"
          ],
          [
           "Sibling Relationship Dynamics \n"
          ],
          [
           "Educational Achievement  \n"
          ],
          [
           "Morning Greeting And Thanks \n"
          ],
          [
           "Motivational Film Experience  \n"
          ],
          [
           "Concern For Well Being  \n"
          ],
          [
           "Daily Emotional Distress  \n"
          ],
          [
           "Tumbleweed Communication  \n"
          ],
          [
           "Positive User Response   \n"
          ],
          [
           "Clothing Brand Recognition   \n"
          ],
          [
           "User Experience Feedback   \n"
          ],
          [
           "Product Preference Expression   \n"
          ],
          [
           "Social Gathering Interaction   \n"
          ],
          [
           "Time Zone Greetings \n"
          ],
          [
           "Parental Affection Expression   \n"
          ],
          [
           "Holiday Greeting Expression  \n"
          ],
          [
           "Self Confidence Expression   \n"
          ],
          [
           "Please provide the interview segment so I can generate a thematic label.  \n"
          ],
          [
           "Social Media Engagement  \n"
          ],
          [
           "Weather Impact On Work   \n"
          ],
          [
           "Emotional State Expression  \n"
          ],
          [
           "Emotional Eating Sugar Almonds  \n"
          ],
          [
           "Affection For Mother  \n"
          ],
          [
           "Empathy Expression \n"
          ],
          [
           "Celebrity Interaction Experience   \n"
          ],
          [
           "Fan Enthusiasm For Nba   \n"
          ],
          [
           "Social Media Engagement  \n"
          ],
          [
           "Parking Space Accessibility  \n"
          ],
          [
           "Immediate Need  \n"
          ],
          [
           "Roommate Transition  \n"
          ],
          [
           "Family Bathing Experience  \n"
          ],
          [
           "Document Revision Process \n"
          ],
          [
           "Birthday Memory Recall Difficulty \n"
          ],
          [
           "Social Gathering  \n"
          ],
          [
           "Leisure Activities Enjoyment   \n"
          ],
          [
           "Concern For Wellbeing \n"
          ],
          [
           "Work Schedule Constraints \n"
          ],
          [
           "Movie Preference Expression \n"
          ],
          [
           "Morning Routine Activities \n"
          ],
          [
           "Anticipation Of Change  \n"
          ],
          [
           "Morning Routine Activities \n"
          ],
          [
           "Anticipation Of Change  \n"
          ],
          [
           "User Feedback On Product   \n"
          ],
          [
           "Humorous Self Deprecation   \n"
          ],
          [
           "Device Usage Update  \n"
          ],
          [
           "Travel Planning Experiences \n"
          ],
          [
           "Childrens Media Consumption   \n"
          ],
          [
           "Physical Appearance Observation  \n"
          ],
          [
           "Color Preference Programming  \n"
          ],
          [
           "Customer Satisfaction Expression   \n"
          ],
          [
           "Sensory Product Description  \n"
          ],
          [
           "Visual Perception Differences  \n"
          ],
          [
           "Multitasking Student Activities  \n"
          ],
          [
           "Emotional Color Associations  \n"
          ],
          [
           "User Identification   \n"
          ],
          [
           "Regretful Life Reflection   \n"
          ],
          [
           "Student Transportation Preferences  \n"
          ],
          [
           "User Satisfaction  \n"
          ],
          [
           "Product Packaging Frustration  \n"
          ],
          [
           "Concert Enthusiasm  \n"
          ],
          [
           "Motherly Appreciation  \n"
          ],
          [
           "Fever And Music Preference  \n"
          ],
          [
           "Entertainment Consumption Experience  \n"
          ],
          [
           "Attractiveness Perception  \n"
          ],
          [
           "Actor Preference Satisfaction  \n"
          ],
          [
           "Social Media Following Limits  \n"
          ],
          [
           "Work Schedule Preferences   \n"
          ],
          [
           "Media Perception Of Novelty \n"
          ],
          [
           "Spa And Lunch Plans  \n"
          ],
          [
           "Daily Routine Activities   \n"
          ],
          [
           "Desire For Travel Destination \n"
          ],
          [
           "User Experience Feedback \n"
          ],
          [
           "Positive YouTube Experience  \n"
          ],
          [
           "Blackberry Representation  \n"
          ],
          [
           "Damaged Phone Screen Repair  \n"
          ],
          [
           "Desire For Permanence \n"
          ],
          [
           "Please provide the interview segment so I can generate a thematic label. 😊  \n"
          ],
          [
           "Perceived User Tone   \n"
          ],
          [
           "Thought Process Reflection   \n"
          ],
          [
           "User Information Seeking \n"
          ],
          [
           "Apology Resolution Process \n"
          ],
          [
           "Celebrity Endorsement Impact  \n"
          ],
          [
           "Pain Seeking Behavior \n"
          ],
          [
           "User Departure Announcement   \n"
          ],
          [
           "Newbie User Inquiry \n"
          ],
          [
           "Screen Brightness Impact \n"
          ],
          [
           "Transportation Arrangements  \n"
          ],
          [
           "Social Decision Making Process   \n"
          ],
          [
           "Hygiene Concerns School  \n"
          ],
          [
           "Expressive Nonverbal Communication   \n"
          ],
          [
           "Bug Resolution Process \n"
          ],
          [
           "Learning Resources  \n"
          ],
          [
           "Post Work Beverage Consumption  \n"
          ],
          [
           "Emotional Attachment To Animals \n"
          ],
          [
           "Teacher Workload And Satisfaction   \n"
          ],
          [
           "Sibling Relationship Dynamics \n"
          ],
          [
           "Workout Equipment Damage  \n"
          ],
          [
           "Morning Greeting And Thanks \n"
          ],
          [
           "Performance Satisfaction  \n"
          ],
          [
           "Concern For Well Being  \n"
          ],
          [
           "Daily Emotional Distress  \n"
          ],
          [
           "Tumbleweed Communication  \n"
          ],
          [
           "Positive User Response   \n"
          ],
          [
           "Clothing Brand Recognition   \n"
          ],
          [
           "User Experience Feedback   \n"
          ],
          [
           "Product Preference Expression   \n"
          ],
          [
           "Social Gathering Celebration  \n"
          ],
          [
           "Time Zone Greetings   \n"
          ],
          [
           "Parental Affection Expression   \n"
          ],
          [
           "Holiday Greeting Expression  \n"
          ],
          [
           "Self Confidence Expression   \n"
          ],
          [
           "Please provide the interview segment so I can generate a thematic label.  \n"
          ],
          [
           "Social Media Engagement  \n"
          ],
          [
           "Weather Impact On Work   \n"
          ],
          [
           "Emotional State Expression  \n"
          ],
          [
           "Emotional Eating Sugar Almonds  \n"
          ],
          [
           "Affection For Mother  \n"
          ],
          [
           "Empathy Expression \n"
          ],
          [
           "Celebrity Interaction Experience   \n"
          ],
          [
           "Fan Enthusiasm For Nba   \n"
          ],
          [
           "Social Media Engagement  \n"
          ],
          [
           "Parking Space Accessibility  \n"
          ],
          [
           "Immediate Need  \n"
          ],
          [
           "Roommate Transition  \n"
          ],
          [
           "Family Bathing Experience  \n"
          ],
          [
           "Document Revision Process \n"
          ],
          [
           "Birthday Memory Recall Difficulty \n"
          ],
          [
           "Social Gathering  \n"
          ],
          [
           "Leisure Activities Enjoyment   \n"
          ],
          [
           "Concern For Wellbeing \n"
          ],
          [
           "Work Schedule Constraints \n"
          ],
          [
           "Movie Preference Expression \n"
          ],
          [
           "Media Sensationalism   \n"
          ],
          [
           "Social Gathering With Friends  \n"
          ],
          [
           "Disappointment Over Response  \n"
          ],
          [
           "User Response Simplicity   \n"
          ],
          [
           "Cat Life Stages  \n"
          ],
          [
           "Play Experience Observation   \n"
          ],
          [
           "Social Media Debut  \n"
          ],
          [
           "Family Connection  \n"
          ],
          [
           "Desire For Abundance  \n"
          ],
          [
           "Social Media Engagement  \n"
          ],
          [
           "Effort And Outcome \n"
          ],
          [
           "Social Media Preference  \n"
          ],
          [
           "Transportation Difficulty  \n"
          ],
          [
           "Anticipation For Event   \n"
          ],
          [
           "Past Supportive Relationship   \n"
          ],
          [
           "Daily Activities  \n"
          ],
          [
           "Office Television Availability  \n"
          ],
          [
           "Disappointment With Product Search   \n"
          ],
          [
           "Physical Discomfort Experience  \n"
          ],
          [
           "Workday Stress Levels  \n"
          ],
          [
           "Weekend Schedule Conflicts \n"
          ],
          [
           "Flight Cancellation Experience \n"
          ],
          [
           "Tooth Pain Experience \n"
          ],
          [
           "Social Media Engagement  \n"
          ],
          [
           "Financial Strain Experiences \n"
          ],
          [
           "Social Media Connection   \n"
          ],
          [
           "Leisure Activity Plans  \n"
          ],
          [
           "Concert Enthusiasm And Dress   \n"
          ],
          [
           "Post R01 Stress Levels  \n"
          ],
          [
           "User Satisfaction Expression   \n"
          ],
          [
           "Negative Product Sentiment  \n"
          ],
          [
           "Competition Outcome Anticipation   \n"
          ],
          [
           "User Evaluation Process   \n"
          ],
          [
           "Alertness Level Description \n"
          ],
          [
           "Daily Writing Schedule \n"
          ],
          [
           "Parental Absence Feelings  \n"
          ],
          [
           "Dog Behavioral Changes  \n"
          ],
          [
           "iPhone Messaging Limitations  \n"
          ],
          [
           "New Car Search  \n"
          ],
          [
           "Missed Television Event   \n"
          ],
          [
           "Social Isolation Feelings  \n"
          ],
          [
           "Desire For Belonging \n"
          ],
          [
           "Emotional Song Lyrics \n"
          ],
          [
           "Physical Strain Impact  \n"
          ],
          [
           "User Reaction To Content   \n"
          ],
          [
           "Positive User Response   \n"
          ],
          [
           "Weekend Work Schedule  \n"
          ],
          [
           "Family Celebration Plans  \n"
          ],
          [
           "Agreement Expression   \n"
          ],
          [
           "Computer Skill Preference \n"
          ],
          [
           "Weather And Mood Connection \n"
          ],
          [
           "Positive User Response  \n"
          ],
          [
           "Platform Preference Expression   \n"
          ],
          [
           "Shoe Size Disappointment  \n"
          ],
          [
           "Oral Physical Discomfort  \n"
          ],
          [
           "Website Functionality Issues \n"
          ],
          [
           "Social Media Awareness Gap \n"
          ],
          [
           "Disappointment With Outcome \n"
          ],
          [
           "Relocation Plans \n"
          ],
          [
           "Illness Symptoms  \n"
          ],
          [
           "Academic Research Disruption  \n"
          ],
          [
           "Social Connection Needs  \n"
          ],
          [
           "Fan Excitement Concert   \n"
          ],
          [
           "Movie Viewing Experience  \n"
          ],
          [
           "Affectionate User Response \n"
          ],
          [
           "Hunger On Social Media \n"
          ],
          [
           "Positive User Sentiment  \n"
          ],
          [
           "Information Seeking Behavior \n"
          ],
          [
           "Jewish Identity Expression   \n"
          ],
          [
           "Social Gathering Experience  \n"
          ],
          [
           "Weekend Activity Limitations \n"
          ],
          [
           "App Recommendation Request \n"
          ],
          [
           "Shared Emotional Experience \n"
          ],
          [
           "Delivery Timeline Expectation  \n"
          ],
          [
           "Missing Accessory Description \n"
          ],
          [
           "Anticipation Of ChildVisit  \n"
          ],
          [
           "Dental Health Concerns   \n"
          ],
          [
           "Nostalgia For Elmwood   \n"
          ],
          [
           "Positive User Experience  \n"
          ],
          [
           "Ticket Planner Functionality  \n"
          ],
          [
           "Desire For Event Attendance  \n"
          ],
          [
           "Participant Confidence In Outcome   \n"
          ],
          [
           "Age Related Perception   \n"
          ],
          [
           "User Emotional Response \n"
          ],
          [
           "Greeting And Celebration   \n"
          ],
          [
           "Television Viewing Habits   \n"
          ],
          [
           "Work Obligations  \n"
          ],
          [
           "Social Exclusion Boba   \n"
          ],
          [
           "Interviewer Greeting  \n"
          ],
          [
           "Arrival Time Uncertainty \n"
          ],
          [
           "Time Tracking Experience  \n"
          ],
          [
           "Time Constraints And Obligations   \n"
          ],
          [
           "BrainFreeze Experiences  \n"
          ],
          [
           "Character Limit Constraint  \n"
          ],
          [
           "Sunburn Symptoms  \n"
          ],
          [
           "Nail Polish Appearance Change  \n"
          ],
          [
           "Smoking Area Surveillance   \n"
          ],
          [
           "Play Pen Isolation  \n"
          ],
          [
           "Negative Dental Experience  \n"
          ],
          [
           "Social Participation Desire   \n"
          ],
          [
           "Social Media Usage  \n"
          ],
          [
           "Greeting Exchange   \n"
          ],
          [
           "Creative Expression Process   \n"
          ],
          [
           "Social Media Presence  \n"
          ],
          [
           "Job Dissatisfaction   \n"
          ],
          [
           "Digital Memory Remembrance   \n"
          ],
          [
           "Airline Business Attraction Strategies \n"
          ],
          [
           "User Interaction Experience   \n"
          ],
          [
           "Public Recognition And Accomplishments \n"
          ],
          [
           "Work Avoidance Motivation  \n"
          ],
          [
           "Singing Talent Recognition  \n"
          ],
          [
           "Blood Type Specificity  \n"
          ],
          [
           "Weekend Dining Plans  \n"
          ],
          [
           "Social Connection Through Location  \n"
          ],
          [
           "Time Expectation  \n"
          ],
          [
           "Social Media Recognition   \n"
          ],
          [
           "Phone Replacement Process   \n"
          ],
          [
           "Social Connection Support  \n"
          ],
          [
           "Social Comparison Desire  \n"
          ],
          [
           "Food Preference Expression   \n"
          ],
          [
           "Shared Perspectives  \n"
          ],
          [
           "Packing Assistance Request  \n"
          ],
          [
           "Tea Consumption Preference  \n"
          ],
          [
           "Oral Functionality Description   \n"
          ],
          [
           "Time Management Strategies  \n"
          ],
          [
           "Pancake Preference Expression   \n"
          ],
          [
           "Social Interaction Avoidance   \n"
          ],
          [
           "Discomfort With Footwear  \n"
          ],
          [
           "Electronic Key Failure  \n"
          ],
          [
           "Social Media Engagement   \n"
          ],
          [
           "Social Interaction Dynamics \n"
          ],
          [
           "Greeting Exchange  \n"
          ],
          [
           "Shift Work Motivation  \n"
          ],
          [
           "Affectionate Greetings Exchange   \n"
          ],
          [
           "Garden Snake Encounter \n"
          ],
          [
           "Dog Ownership Experience  \n"
          ],
          [
           "Residential Location Preferences  \n"
          ],
          [
           "Maternal Affection Expression  \n"
          ],
          [
           "Illness Symptoms Experience   \n"
          ],
          [
           "Anticipation For Mcfly   \n"
          ],
          [
           "Passenger Mortality Experience  \n"
          ],
          [
           "G Reader Usage Experience \n"
          ],
          [
           "Writing Style Preferences  \n"
          ],
          [
           "Spiritual Support Seeking \n"
          ],
          [
           "Desire For American Life  \n"
          ],
          [
           "Social Media Engagement  \n"
          ],
          [
           "Customer Dissatisfaction   \n"
          ],
          [
           "Sleep Duration Concerns   \n"
          ],
          [
           "Positive User Experience  \n"
          ],
          [
           "Social Event Desire  \n"
          ],
          [
           "Post Surgery Loneliness  \n"
          ],
          [
           "Concert Attendance Plans \n"
          ],
          [
           "Anticipated Return   \n"
          ],
          [
           "Frustration With Outcome   \n"
          ],
          [
           "Emotional Attachment To User \n"
          ],
          [
           "Emotional Response To Product   \n"
          ],
          [
           "Shopping Experience Location   \n"
          ],
          [
           "Emotional Resistance To Change  \n"
          ],
          [
           "Work Week Completion   \n"
          ],
          [
           "Personal Identity Expression  \n"
          ],
          [
           "CAD Degree Exploration  \n"
          ],
          [
           "Pencil Sharpening Preferences \n"
          ],
          [
           "End Of Day Sentiment  \n"
          ],
          [
           "Travel Aspirations   \n"
          ],
          [
           "Companionship Desire Evening \n"
          ],
          [
           "Shared Kitchen Experiences   \n"
          ],
          [
           "Emotional Response To Product  \n"
          ],
          [
           "Sports Event Attendance  \n"
          ],
          [
           "Social Music Preference  \n"
          ],
          [
           "Cereal Consumption Preferences  \n"
          ],
          [
           "User Confusion Product Drawing   \n"
          ],
          [
           "Daughter Gift Giving  \n"
          ],
          [
           "Sleep Deprivation Impact  \n"
          ],
          [
           "Music Preference During Travel  \n"
          ],
          [
           "Gaming Skill Level  \n"
          ],
          [
           "Social Group Affiliation   \n"
          ],
          [
           "Weekend Leisure Activities  \n"
          ],
          [
           "Music Preference Exploration   \n"
          ],
          [
           "Bug Related Injury   \n"
          ],
          [
           "Delayed Online Purchase Realization   \n"
          ],
          [
           "Social Media Platform Use \n"
          ],
          [
           "Music Consumption Habits   \n"
          ],
          [
           "Self Empowerment Aspirations \n"
          ],
          [
           "Actor Performance Anxiety  \n"
          ],
          [
           "Social Event Absence  \n"
          ],
          [
           "Negative Social Perception  \n"
          ],
          [
           "Family Health Concerns  \n"
          ],
          [
           "Errands And Chores  \n"
          ],
          [
           "Bedroom Transformation Plan  \n"
          ],
          [
           "Daily Routines And Obligations  \n"
          ],
          [
           "Sponsor Recognition   \n"
          ],
          [
           "Office Work Environment \n"
          ],
          [
           "Emotional Response To Product \n"
          ],
          [
           "Noise Level Concern  \n"
          ],
          [
           "Solo Homework Activity  \n"
          ],
          [
           "Family Poverty Rates  \n"
          ],
          [
           "Financial Planning Challenges  \n"
          ],
          [
           "Social Media Sharing  \n"
          ],
          [
           "Project Completion Timeline   \n"
          ],
          [
           "Nostalgia For Location \n"
          ]
         ],
         "hovertemplate": "x1=%{x}<br>x2=%{y}<br>code=%{customdata[0]}<extra></extra>",
         "legendgroup": "",
         "marker": {
          "color": "#636efa",
          "symbol": "circle"
         },
         "mode": "markers",
         "name": "",
         "orientation": "v",
         "showlegend": false,
         "type": "scatter",
         "x": {
          "bdata": "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",
          "dtype": "f4"
         },
         "xaxis": "x",
         "y": {
          "bdata": "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",
          "dtype": "f4"
         },
         "yaxis": "y"
        }
       ],
       "layout": {
        "legend": {
         "tracegroupgap": 0
        },
        "margin": {
         "t": 60
        },
        "template": {
         "data": {
          "bar": [
           {
            "error_x": {
             "color": "#2a3f5f"
            },
            "error_y": {
             "color": "#2a3f5f"
            },
            "marker": {
             "line": {
              "color": "#E5ECF6",
              "width": 0.5
             },
             "pattern": {
              "fillmode": "overlay",
              "size": 10,
              "solidity": 0.2
             }
            },
            "type": "bar"
           }
          ],
          "barpolar": [
           {
            "marker": {
             "line": {
              "color": "#E5ECF6",
              "width": 0.5
             },
             "pattern": {
              "fillmode": "overlay",
              "size": 10,
              "solidity": 0.2
             }
            },
            "type": "barpolar"
           }
          ],
          "carpet": [
           {
            "aaxis": {
             "endlinecolor": "#2a3f5f",
             "gridcolor": "white",
             "linecolor": "white",
             "minorgridcolor": "white",
             "startlinecolor": "#2a3f5f"
            },
            "baxis": {
             "endlinecolor": "#2a3f5f",
             "gridcolor": "white",
             "linecolor": "white",
             "minorgridcolor": "white",
             "startlinecolor": "#2a3f5f"
            },
            "type": "carpet"
           }
          ],
          "choropleth": [
           {
            "colorbar": {
             "outlinewidth": 0,
             "ticks": ""
            },
            "type": "choropleth"
           }
          ],
          "contour": [
           {
            "colorbar": {
             "outlinewidth": 0,
             "ticks": ""
            },
            "colorscale": [
             [
              0,
              "#0d0887"
             ],
             [
              0.1111111111111111,
              "#46039f"
             ],
             [
              0.2222222222222222,
              "#7201a8"
             ],
             [
              0.3333333333333333,
              "#9c179e"
             ],
             [
              0.4444444444444444,
              "#bd3786"
             ],
             [
              0.5555555555555556,
              "#d8576b"
             ],
             [
              0.6666666666666666,
              "#ed7953"
             ],
             [
              0.7777777777777778,
              "#fb9f3a"
             ],
             [
              0.8888888888888888,
              "#fdca26"
             ],
             [
              1,
              "#f0f921"
             ]
            ],
            "type": "contour"
           }
          ],
          "contourcarpet": [
           {
            "colorbar": {
             "outlinewidth": 0,
             "ticks": ""
            },
            "type": "contourcarpet"
           }
          ],
          "heatmap": [
           {
            "colorbar": {
             "outlinewidth": 0,
             "ticks": ""
            },
            "colorscale": [
             [
              0,
              "#0d0887"
             ],
             [
              0.1111111111111111,
              "#46039f"
             ],
             [
              0.2222222222222222,
              "#7201a8"
             ],
             [
              0.3333333333333333,
              "#9c179e"
             ],
             [
              0.4444444444444444,
              "#bd3786"
             ],
             [
              0.5555555555555556,
              "#d8576b"
             ],
             [
              0.6666666666666666,
              "#ed7953"
             ],
             [
              0.7777777777777778,
              "#fb9f3a"
             ],
             [
              0.8888888888888888,
              "#fdca26"
             ],
             [
              1,
              "#f0f921"
             ]
            ],
            "type": "heatmap"
           }
          ],
          "histogram": [
           {
            "marker": {
             "pattern": {
              "fillmode": "overlay",
              "size": 10,
              "solidity": 0.2
             }
            },
            "type": "histogram"
           }
          ],
          "histogram2d": [
           {
            "colorbar": {
             "outlinewidth": 0,
             "ticks": ""
            },
            "colorscale": [
             [
              0,
              "#0d0887"
             ],
             [
              0.1111111111111111,
              "#46039f"
             ],
             [
              0.2222222222222222,
              "#7201a8"
             ],
             [
              0.3333333333333333,
              "#9c179e"
             ],
             [
              0.4444444444444444,
              "#bd3786"
             ],
             [
              0.5555555555555556,
              "#d8576b"
             ],
             [
              0.6666666666666666,
              "#ed7953"
             ],
             [
              0.7777777777777778,
              "#fb9f3a"
             ],
             [
              0.8888888888888888,
              "#fdca26"
             ],
             [
              1,
              "#f0f921"
             ]
            ],
            "type": "histogram2d"
           }
          ],
          "histogram2dcontour": [
           {
            "colorbar": {
             "outlinewidth": 0,
             "ticks": ""
            },
            "colorscale": [
             [
              0,
              "#0d0887"
             ],
             [
              0.1111111111111111,
              "#46039f"
             ],
             [
              0.2222222222222222,
              "#7201a8"
             ],
             [
              0.3333333333333333,
              "#9c179e"
             ],
             [
              0.4444444444444444,
              "#bd3786"
             ],
             [
              0.5555555555555556,
              "#d8576b"
             ],
             [
              0.6666666666666666,
              "#ed7953"
             ],
             [
              0.7777777777777778,
              "#fb9f3a"
             ],
             [
              0.8888888888888888,
              "#fdca26"
             ],
             [
              1,
              "#f0f921"
             ]
            ],
            "type": "histogram2dcontour"
           }
          ],
          "mesh3d": [
           {
            "colorbar": {
             "outlinewidth": 0,
             "ticks": ""
            },
            "type": "mesh3d"
           }
          ],
          "parcoords": [
           {
            "line": {
             "colorbar": {
              "outlinewidth": 0,
              "ticks": ""
             }
            },
            "type": "parcoords"
           }
          ],
          "pie": [
           {
            "automargin": true,
            "type": "pie"
           }
          ],
          "scatter": [
           {
            "fillpattern": {
             "fillmode": "overlay",
             "size": 10,
             "solidity": 0.2
            },
            "type": "scatter"
           }
          ],
          "scatter3d": [
           {
            "line": {
             "colorbar": {
              "outlinewidth": 0,
              "ticks": ""
             }
            },
            "marker": {
             "colorbar": {
              "outlinewidth": 0,
              "ticks": ""
             }
            },
            "type": "scatter3d"
           }
          ],
          "scattercarpet": [
           {
            "marker": {
             "colorbar": {
              "outlinewidth": 0,
              "ticks": ""
             }
            },
            "type": "scattercarpet"
           }
          ],
          "scattergeo": [
           {
            "marker": {
             "colorbar": {
              "outlinewidth": 0,
              "ticks": ""
             }
            },
            "type": "scattergeo"
           }
          ],
          "scattergl": [
           {
            "marker": {
             "colorbar": {
              "outlinewidth": 0,
              "ticks": ""
             }
            },
            "type": "scattergl"
           }
          ],
          "scattermap": [
           {
            "marker": {
             "colorbar": {
              "outlinewidth": 0,
              "ticks": ""
             }
            },
            "type": "scattermap"
           }
          ],
          "scattermapbox": [
           {
            "marker": {
             "colorbar": {
              "outlinewidth": 0,
              "ticks": ""
             }
            },
            "type": "scattermapbox"
           }
          ],
          "scatterpolar": [
           {
            "marker": {
             "colorbar": {
              "outlinewidth": 0,
              "ticks": ""
             }
            },
            "type": "scatterpolar"
           }
          ],
          "scatterpolargl": [
           {
            "marker": {
             "colorbar": {
              "outlinewidth": 0,
              "ticks": ""
             }
            },
            "type": "scatterpolargl"
           }
          ],
          "scatterternary": [
           {
            "marker": {
             "colorbar": {
              "outlinewidth": 0,
              "ticks": ""
             }
            },
            "type": "scatterternary"
           }
          ],
          "surface": [
           {
            "colorbar": {
             "outlinewidth": 0,
             "ticks": ""
            },
            "colorscale": [
             [
              0,
              "#0d0887"
             ],
             [
              0.1111111111111111,
              "#46039f"
             ],
             [
              0.2222222222222222,
              "#7201a8"
             ],
             [
              0.3333333333333333,
              "#9c179e"
             ],
             [
              0.4444444444444444,
              "#bd3786"
             ],
             [
              0.5555555555555556,
              "#d8576b"
             ],
             [
              0.6666666666666666,
              "#ed7953"
             ],
             [
              0.7777777777777778,
              "#fb9f3a"
             ],
             [
              0.8888888888888888,
              "#fdca26"
             ],
             [
              1,
              "#f0f921"
             ]
            ],
            "type": "surface"
           }
          ],
          "table": [
           {
            "cells": {
             "fill": {
              "color": "#EBF0F8"
             },
             "line": {
              "color": "white"
             }
            },
            "header": {
             "fill": {
              "color": "#C8D4E3"
             },
             "line": {
              "color": "white"
             }
            },
            "type": "table"
           }
          ]
         },
         "layout": {
          "annotationdefaults": {
           "arrowcolor": "#2a3f5f",
           "arrowhead": 0,
           "arrowwidth": 1
          },
          "autotypenumbers": "strict",
          "coloraxis": {
           "colorbar": {
            "outlinewidth": 0,
            "ticks": ""
           }
          },
          "colorscale": {
           "diverging": [
            [
             0,
             "#8e0152"
            ],
            [
             0.1,
             "#c51b7d"
            ],
            [
             0.2,
             "#de77ae"
            ],
            [
             0.3,
             "#f1b6da"
            ],
            [
             0.4,
             "#fde0ef"
            ],
            [
             0.5,
             "#f7f7f7"
            ],
            [
             0.6,
             "#e6f5d0"
            ],
            [
             0.7,
             "#b8e186"
            ],
            [
             0.8,
             "#7fbc41"
            ],
            [
             0.9,
             "#4d9221"
            ],
            [
             1,
             "#276419"
            ]
           ],
           "sequential": [
            [
             0,
             "#0d0887"
            ],
            [
             0.1111111111111111,
             "#46039f"
            ],
            [
             0.2222222222222222,
             "#7201a8"
            ],
            [
             0.3333333333333333,
             "#9c179e"
            ],
            [
             0.4444444444444444,
             "#bd3786"
            ],
            [
             0.5555555555555556,
             "#d8576b"
            ],
            [
             0.6666666666666666,
             "#ed7953"
            ],
            [
             0.7777777777777778,
             "#fb9f3a"
            ],
            [
             0.8888888888888888,
             "#fdca26"
            ],
            [
             1,
             "#f0f921"
            ]
           ],
           "sequentialminus": [
            [
             0,
             "#0d0887"
            ],
            [
             0.1111111111111111,
             "#46039f"
            ],
            [
             0.2222222222222222,
             "#7201a8"
            ],
            [
             0.3333333333333333,
             "#9c179e"
            ],
            [
             0.4444444444444444,
             "#bd3786"
            ],
            [
             0.5555555555555556,
             "#d8576b"
            ],
            [
             0.6666666666666666,
             "#ed7953"
            ],
            [
             0.7777777777777778,
             "#fb9f3a"
            ],
            [
             0.8888888888888888,
             "#fdca26"
            ],
            [
             1,
             "#f0f921"
            ]
           ]
          },
          "colorway": [
           "#636efa",
           "#EF553B",
           "#00cc96",
           "#ab63fa",
           "#FFA15A",
           "#19d3f3",
           "#FF6692",
           "#B6E880",
           "#FF97FF",
           "#FECB52"
          ],
          "font": {
           "color": "#2a3f5f"
          },
          "geo": {
           "bgcolor": "white",
           "lakecolor": "white",
           "landcolor": "#E5ECF6",
           "showlakes": true,
           "showland": true,
           "subunitcolor": "white"
          },
          "hoverlabel": {
           "align": "left"
          },
          "hovermode": "closest",
          "mapbox": {
           "style": "light"
          },
          "paper_bgcolor": "white",
          "plot_bgcolor": "#E5ECF6",
          "polar": {
           "angularaxis": {
            "gridcolor": "white",
            "linecolor": "white",
            "ticks": ""
           },
           "bgcolor": "#E5ECF6",
           "radialaxis": {
            "gridcolor": "white",
            "linecolor": "white",
            "ticks": ""
           }
          },
          "scene": {
           "xaxis": {
            "backgroundcolor": "#E5ECF6",
            "gridcolor": "white",
            "gridwidth": 2,
            "linecolor": "white",
            "showbackground": true,
            "ticks": "",
            "zerolinecolor": "white"
           },
           "yaxis": {
            "backgroundcolor": "#E5ECF6",
            "gridcolor": "white",
            "gridwidth": 2,
            "linecolor": "white",
            "showbackground": true,
            "ticks": "",
            "zerolinecolor": "white"
           },
           "zaxis": {
            "backgroundcolor": "#E5ECF6",
            "gridcolor": "white",
            "gridwidth": 2,
            "linecolor": "white",
            "showbackground": true,
            "ticks": "",
            "zerolinecolor": "white"
           }
          },
          "shapedefaults": {
           "line": {
            "color": "#2a3f5f"
           }
          },
          "ternary": {
           "aaxis": {
            "gridcolor": "white",
            "linecolor": "white",
            "ticks": ""
           },
           "baxis": {
            "gridcolor": "white",
            "linecolor": "white",
            "ticks": ""
           },
           "bgcolor": "#E5ECF6",
           "caxis": {
            "gridcolor": "white",
            "linecolor": "white",
            "ticks": ""
           }
          },
          "title": {
           "x": 0.05
          },
          "xaxis": {
           "automargin": true,
           "gridcolor": "white",
           "linecolor": "white",
           "ticks": "",
           "title": {
            "standoff": 15
           },
           "zerolinecolor": "white",
           "zerolinewidth": 2
          },
          "yaxis": {
           "automargin": true,
           "gridcolor": "white",
           "linecolor": "white",
           "ticks": "",
           "title": {
            "standoff": 15
           },
           "zerolinecolor": "white",
           "zerolinewidth": 2
          }
         }
        },
        "xaxis": {
         "anchor": "y",
         "domain": [
          0,
          1
         ],
         "title": {
          "text": "x1"
         }
        },
        "yaxis": {
         "anchor": "x",
         "domain": [
          0,
          1
         ],
         "title": {
          "text": "x2"
         }
        }
       }
      }
     },
     "metadata": {},
     "output_type": "display_data"
    }
   ],
   "source": [
    "# Requisitos: sentiment_embedded (np.ndarray n×d) y labels_sentiment (list[str] de largo n)\n",
    "\n",
    "import numpy as np\n",
    "import pandas as pd\n",
    "import plotly.express as px\n",
    "from umap import UMAP\n",
    "\n",
    "# Seguridad: que coincidan tamaños\n",
    "assert len(labels_sentiment) == sentiment_embedded.shape[0], \"Dim mismatch\"\n",
    "\n",
    "# Reducir a 2D solo para visualizar\n",
    "X2 = UMAP(n_components=2, metric=\"cosine\", random_state=42).fit_transform(sentiment_embedded)\n",
    "\n",
    "# DataFrame para el plot (incluye 'code' = tus labels)\n",
    "df_plot = pd.DataFrame({\n",
    "    \"x1\": X2[:, 0],\n",
    "    \"x2\": X2[:, 1],\n",
    "    \"code\": [str(c) if c is not None else \"\" for c in labels_sentiment],\n",
    "})\n",
    "\n",
    "fig = px.scatter(\n",
    "    df_plot, x=\"x1\", y=\"x2\",\n",
    "    hover_data=[\"code\"]   # <-- aquí se ve el label en el hover\n",
    ")\n",
    "fig.update_layout(xaxis_title=\"x1\", yaxis_title=\"x2\")\n",
    "fig.show()\n"
   ]
  },
  {
   "cell_type": "markdown",
   "id": "34d61067",
   "metadata": {},
   "source": [
    "**Implementamos HDBSCAN**"
   ]
  },
  {
   "cell_type": "code",
   "execution_count": null,
   "id": "d43cab05",
   "metadata": {},
   "outputs": [
    {
     "name": "stdout",
     "output_type": "stream",
     "text": [
      "[ 1 -1  1 -1 -1 -1 -1  1  1  2 -1  2 -1 -1  1 -1 -1 -1 -1  1 -1 -1 -1 -1\n",
      " -1 -1 -1 -1  2 -1 -1  1 -1 -1 -1  2 -1 -1 -1 -1 -1  1 -1  0  0 -1  2 -1\n",
      "  1 -1 -1 -1 -1  0 -1  1  1 -1  0  0 -1 -1 -1  1 -1 -1  1 -1  1 -1 -1 -1\n",
      " -1  1  1  2 -1  2 -1 -1  1 -1 -1 -1 -1  1 -1 -1 -1 -1 -1 -1 -1 -1  2 -1\n",
      " -1  1 -1 -1 -1  2 -1 -1 -1 -1 -1  1 -1  0  0 -1  2  0  0  1 -1 -1  1 -1\n",
      " -1 -1  1 -1  1  1 -1 -1 -1  2 -1 -1  2 -1 -1  1 -1  2  2  0 -1 -1  0  2\n",
      " -1  1  2 -1  1 -1  1 -1  1 -1  2  1 -1 -1 -1 -1  1 -1  2 -1 -1 -1  1 -1\n",
      "  1  2  1  0 -1  1 -1  1 -1  1 -1  1 -1  1  1 -1 -1  2 -1  1 -1  1  1 -1\n",
      " -1  2 -1 -1 -1 -1 -1 -1  1  0 -1  0  2  0  0  0  0  1 -1 -1  2 -1 -1 -1\n",
      "  1 -1 -1 -1 -1 -1 -1  2  1 -1  1 -1  2  0 -1  2  2  0 -1 -1  0  2  1  1\n",
      " -1 -1  1 -1  1 -1 -1 -1 -1  1 -1 -1 -1 -1 -1 -1 -1 -1 -1 -1  1 -1  1 -1\n",
      "  1  1 -1  1 -1  1 -1  1 -1  1 -1  1  1 -1 -1  2 -1  1 -1  1  1 -1 -1  2\n",
      " -1 -1 -1 -1 -1 -1  1  0 -1  0  2 -1  1  1  1 -1 -1  2  1  1  2  1  2 -1\n",
      "  0 -1  0 -1 -1  1 -1  0 -1  1  2 -1  2  0  1 -1  1  1  0 -1 -1 -1  1 -1\n",
      " -1 -1 -1  1  1  1 -1  1  1  0  1 -1 -1 -1  1 -1 -1  1 -1  2  1 -1 -1 -1\n",
      "  2  1  0  1  2  1 -1 -1  1  0 -1  1 -1 -1 -1  1 -1  1 -1  1 -1 -1  1  1\n",
      " -1  0 -1  1 -1  0  0 -1 -1 -1 -1 -1 -1  1  1  2  1 -1  2  1 -1 -1  1  2\n",
      " -1 -1 -1  0  2 -1  2 -1  2 -1 -1 -1 -1 -1 -1  0 -1  1 -1 -1  2  1  1 -1\n",
      "  1 -1 -1 -1  1 -1 -1 -1 -1 -1 -1 -1  2  1 -1  1  1 -1  1 -1  1  1  1 -1\n",
      " -1  0 -1 -1 -1 -1  2 -1 -1  1  1  2 -1 -1 -1 -1  2 -1  2  0  2 -1 -1  2\n",
      "  2  2 -1  1  1 -1 -1 -1  0 -1 -1  1 -1 -1 -1 -1  2 -1 -1]\n"
     ]
    },
    {
     "name": "stderr",
     "output_type": "stream",
     "text": [
      "c:\\Users\\Hiram\\AppData\\Local\\Programs\\Python\\Python312\\Lib\\site-packages\\sklearn\\utils\\deprecation.py:132: FutureWarning:\n",
      "\n",
      "'force_all_finite' was renamed to 'ensure_all_finite' in 1.6 and will be removed in 1.8.\n",
      "\n",
      "c:\\Users\\Hiram\\AppData\\Local\\Programs\\Python\\Python312\\Lib\\site-packages\\sklearn\\utils\\deprecation.py:132: FutureWarning:\n",
      "\n",
      "'force_all_finite' was renamed to 'ensure_all_finite' in 1.6 and will be removed in 1.8.\n",
      "\n"
     ]
    }
   ],
   "source": [
    "from hdbscan import HDBSCAN\n",
    "from sklearn.preprocessing import normalize\n",
    "\n",
    "\n",
    "hdb = HDBSCAN(min_cluster_size=16, min_samples=1 ).fit(sentiment_embedded)\n",
    "labels = hdb.labels_\n",
    "\n",
    "\n",
    "print(labels)\n",
    "\n"
   ]
  },
  {
   "cell_type": "markdown",
   "id": "f80762cf",
   "metadata": {},
   "source": [
    "**Graficamos clusters**"
   ]
  },
  {
   "cell_type": "code",
   "execution_count": 21,
   "id": "4c256aef",
   "metadata": {},
   "outputs": [
    {
     "data": {
      "application/vnd.plotly.v1+json": {
       "config": {
        "plotlyServerURL": "https://plot.ly"
       },
       "data": [
        {
         "customdata": [
          [
           "Positive User Experience  \n"
          ],
          [
           "Emotional Response To Situation  \n"
          ],
          [
           "Emotional Response To Product  \n"
          ],
          [
           "Participant Interaction Dynamics   \n"
          ],
          [
           "Emotional Absence  \n"
          ],
          [
           "Romantic Feelings Expression  \n"
          ],
          [
           "Customer Satisfaction With Book  \n"
          ],
          [
           "Relationship Dynamics  \n"
          ],
          [
           "Concert Experience  \n"
          ],
          [
           "Social Discomfort Feelings \n"
          ],
          [
           "Pain Management Needs  \n"
          ],
          [
           "Family And Affection  \n"
          ],
          [
           "Positive User Experience  \n"
          ],
          [
           "Emotional Response To Situation  \n"
          ],
          [
           "Emotional Response To Product  \n"
          ],
          [
           "Participant Interaction Dynamics   \n"
          ],
          [
           "Emotional Absence  \n"
          ],
          [
           "Romantic Feelings Expression  \n"
          ],
          [
           "Customer Satisfaction With Book  \n"
          ],
          [
           "Relationship Dynamics  \n"
          ],
          [
           "User Feedback On Product   \n"
          ],
          [
           "Expressing Affection  \n"
          ],
          [
           "Customer Satisfaction Expression   \n"
          ],
          [
           "Emotional State Gloom  \n"
          ],
          [
           "Concert Attendance Plans  \n"
          ],
          [
           "Positive User Experience  \n"
          ],
          [
           "Positive Sports Experience  \n"
          ],
          [
           "Desire For Permanence \n"
          ],
          [
           "Perceived User Tone   \n"
          ],
          [
           "Event Celebration Day  \n"
          ],
          [
           "Pain Seeking Behavior \n"
          ],
          [
           "Social Interaction Perception  \n"
          ],
          [
           "Emotional Attachment To Animals \n"
          ],
          [
           "Sibling Relationship Dynamics \n"
          ],
          [
           "Morning Greeting And Thanks \n"
          ],
          [
           "Daily Emotional Distress  \n"
          ],
          [
           "Positive User Response   \n"
          ],
          [
           "User Experience Feedback   \n"
          ],
          [
           "Social Gathering Interaction   \n"
          ],
          [
           "Parental Affection Expression   \n"
          ],
          [
           "Holiday Greeting Expression  \n"
          ],
          [
           "Emotional State Expression  \n"
          ],
          [
           "Affection For Mother  \n"
          ],
          [
           "Empathy Expression \n"
          ],
          [
           "Social Gathering  \n"
          ],
          [
           "User Feedback On Product   \n"
          ],
          [
           "Customer Satisfaction Expression   \n"
          ],
          [
           "User Satisfaction  \n"
          ],
          [
           "Concert Enthusiasm  \n"
          ],
          [
           "User Experience Feedback \n"
          ],
          [
           "Positive YouTube Experience  \n"
          ],
          [
           "Desire For Permanence \n"
          ],
          [
           "Perceived User Tone   \n"
          ],
          [
           "Pain Seeking Behavior \n"
          ],
          [
           "Emotional Attachment To Animals \n"
          ],
          [
           "Sibling Relationship Dynamics \n"
          ],
          [
           "Morning Greeting And Thanks \n"
          ],
          [
           "Performance Satisfaction  \n"
          ],
          [
           "Daily Emotional Distress  \n"
          ],
          [
           "Positive User Response   \n"
          ],
          [
           "User Experience Feedback   \n"
          ],
          [
           "Social Gathering Celebration  \n"
          ],
          [
           "Parental Affection Expression   \n"
          ],
          [
           "Holiday Greeting Expression  \n"
          ],
          [
           "Emotional State Expression  \n"
          ],
          [
           "Affection For Mother  \n"
          ],
          [
           "Empathy Expression \n"
          ],
          [
           "Social Gathering  \n"
          ],
          [
           "Social Gathering With Friends  \n"
          ],
          [
           "Disappointment Over Response  \n"
          ],
          [
           "User Response Simplicity   \n"
          ],
          [
           "Family Connection  \n"
          ],
          [
           "Desire For Abundance  \n"
          ],
          [
           "Effort And Outcome \n"
          ],
          [
           "Physical Discomfort Experience  \n"
          ],
          [
           "Tooth Pain Experience \n"
          ],
          [
           "Concert Enthusiasm And Dress   \n"
          ],
          [
           "User Satisfaction Expression   \n"
          ],
          [
           "Negative Product Sentiment  \n"
          ],
          [
           "Parental Absence Feelings  \n"
          ],
          [
           "Social Isolation Feelings  \n"
          ],
          [
           "Desire For Belonging \n"
          ],
          [
           "Emotional Song Lyrics \n"
          ],
          [
           "User Reaction To Content   \n"
          ],
          [
           "Positive User Response   \n"
          ],
          [
           "Family Celebration Plans  \n"
          ],
          [
           "Positive User Response  \n"
          ],
          [
           "Oral Physical Discomfort  \n"
          ],
          [
           "Disappointment With Outcome \n"
          ],
          [
           "Fan Excitement Concert   \n"
          ],
          [
           "Affectionate User Response \n"
          ],
          [
           "Positive User Sentiment  \n"
          ],
          [
           "Social Gathering Experience  \n"
          ],
          [
           "Shared Emotional Experience \n"
          ],
          [
           "Dental Health Concerns   \n"
          ],
          [
           "Positive User Experience  \n"
          ],
          [
           "Desire For Event Attendance  \n"
          ],
          [
           "User Emotional Response \n"
          ],
          [
           "Greeting And Celebration   \n"
          ],
          [
           "Interviewer Greeting  \n"
          ],
          [
           "Negative Dental Experience  \n"
          ],
          [
           "Social Participation Desire   \n"
          ],
          [
           "Greeting Exchange   \n"
          ],
          [
           "Job Dissatisfaction   \n"
          ],
          [
           "User Interaction Experience   \n"
          ],
          [
           "Social Interaction Avoidance   \n"
          ],
          [
           "Social Interaction Dynamics \n"
          ],
          [
           "Greeting Exchange  \n"
          ],
          [
           "Affectionate Greetings Exchange   \n"
          ],
          [
           "Maternal Affection Expression  \n"
          ],
          [
           "Customer Dissatisfaction   \n"
          ],
          [
           "Positive User Experience  \n"
          ],
          [
           "Social Event Desire  \n"
          ],
          [
           "Concert Attendance Plans \n"
          ],
          [
           "Frustration With Outcome   \n"
          ],
          [
           "Emotional Attachment To User \n"
          ],
          [
           "Emotional Response To Product   \n"
          ],
          [
           "Emotional Response To Product  \n"
          ],
          [
           "Sports Event Attendance  \n"
          ],
          [
           "Social Event Absence  \n"
          ],
          [
           "Negative Social Perception  \n"
          ],
          [
           "Emotional Response To Product \n"
          ]
         ],
         "hovertemplate": "cluster_str=1<br>x1=%{x}<br>x2=%{y}<br>code=%{customdata[0]}<extra></extra>",
         "legendgroup": "1",
         "marker": {
          "color": "#636EFA",
          "symbol": "circle"
         },
         "mode": "markers",
         "name": "1",
         "orientation": "v",
         "showlegend": true,
         "type": "scatter",
         "x": {
          "bdata": "78HmvyDDXj8g8MI+XwVgQJH0TUBe1fg/8qDevzuYXkCph01AZSR8QFkNGL+oxyhAjPvpv1QlUj+hmb4+1O5mQC7JUkBwx/4//Dfgv41rXkC11pK/SzkSQMWc1b9HQYw/X0hWQE8u6r8Vr+W/C+iXQADhgr8koGpAp6cNv0RCfkC65co/msVaQINHV0ComUw/YXQTv59Wpb9kGItACUMiQA8WVUBd3ag/aVAnQBIdvz+5vYlA16WQvzgj17+TSLW/CxZKQJU8rr8ZufK/2B2YQOapZr93oBy/hV7LP1CeV0B56lRAowS7v2A3ND9rxRy/7zmnv4lsg0D9rh5AvsFVQLmxoj+CIipAfCeyP7B1jEBeao9Ap3ZovgW1Jr9GvUxAVrGXQGUm9r4GD9K+7W9Tv/FvR0AdOLG/+S8FvlvrUEBNMXtAZCuVQJIelz8pT+G+cnATv3KqbkAgIy2/lrUSv9nPNr6ink9AaXsNQLNd875P3IpAH+K8P99zRr/SVu+/s1VlQMekuj4ZxFJAkDVYQG25p7+8uItAAbpWQMwz3L/f8qC/cyGAQOLdbEAZy1lAcoZJQGwPIECOmNu/7Ejxv6/jiUCVUlJAqhhsvkzMvj8/c98+4XTePiYrZEB3H2dAxAiBQJo6tT4=",
          "dtype": "f4"
         },
         "xaxis": "x",
         "y": {
          "bdata": "039JvmD7lz+y5vI/1kRZP+jt8T7ssf4/PcN6P0qGrz8/LFq/e+n6Pgohw73h2wVA/3Qrvnl9lT9z6+0/T5RzP3/c3T4ClwFAFspwP7NbsT8EKf8/yCINQDEGiz8jPaA/kjVzv+PbUr6uLJa+iymvvbgKsT8Tzj2/s28ovRVrMD8ZnXE/Jua8P9q8h0AgI4A/yTkXQA8k+j+QHBK/PF0OQGPchEBQQ9E/cCQOQDiQ3T9rgQK/PUD6P7z5hT8GuJQ/hdpXvzrq/D8WVm++QRCwvYHyvT+PE+q9KnBUPz3nwj/DW4ZAnThcP1jsdT8LEBpAgoP/P6xPGb9aAQlAaT+EQG6yzT+cPQ9Ae5zXPwzLBb9hw/a+fNS8P3gKG0DZftw/1RisvMHncD+D7i29FstkvizoN7835pk/Mer/P2TTBj+N+Kk+B05DvYgRvD8zNAZAQ2EWQNqKNr8fuB9AENZJvsRjnz8TBUi/Uu8ZQFpAE0C7TAG/ObqDP9SJyL6wkGe+jjdNvxWb1j+T24JACwKIQK8Fcr6MWjW+6OqGQEq1wz7wpeg/tjPIPhlaaD81Y4hAI5d3QLlREUCxv20/uvGBvrBFqr3Pklq/CZaYPy4xnT/ZwPM/6e7nP9viUr82Xzo+xosIP0Oq8D8=",
          "dtype": "f4"
         },
         "yaxis": "y"
        },
        {
         "customdata": [
          [
           "Emotional Connection To Place  \n"
          ],
          [
           "Classroom Learning Experience   \n"
          ],
          [
           "Individual Choice Expression  \n"
          ],
          [
           "Sleep And Mood  \n"
          ],
          [
           "Positive Baby Interactions  \n"
          ],
          [
           "Conceptual Metaphor Usage  \n"
          ],
          [
           "Ink Supply Depletion  \n"
          ],
          [
           "Vocal Impairment Impact  \n"
          ],
          [
           "User Request For Privacy  \n"
          ],
          [
           "User Disinterest  \n"
          ],
          [
           "Recent Illness Experience  \n"
          ],
          [
           "Positive Past Employment  \n"
          ],
          [
           "Concern For Missing Person \n"
          ],
          [
           "Play Experiences With Children  \n"
          ],
          [
           "Household Preparation  \n"
          ],
          [
           "User Interface Frustration  \n"
          ],
          [
           "Social Reciprocity  \n"
          ],
          [
           "Daily Gameplay Engagement  \n"
          ],
          [
           "Expression Of Regret  \n"
          ],
          [
           "Village Internet Access  \n"
          ],
          [
           "Power Outage Experience  \n"
          ],
          [
           "Logo Perception  \n"
          ],
          [
           "Body Mass Index Perception \n"
          ],
          [
           "Positive Child Reactions   \n"
          ],
          [
           "Sports Team Preference \n"
          ],
          [
           "Urban Nostalgia Experiences   \n"
          ],
          [
           "Content Creation Volume  \n"
          ],
          [
           "Exhaustion After School  \n"
          ],
          [
           "Humor Perception Romance Zero   \n"
          ],
          [
           "Vehicle Damage Concerns \n"
          ],
          [
           "Emergency Response  \n"
          ],
          [
           "Age Perception In Salon  \n"
          ],
          [
           "Boredom With MusicVideo  \n"
          ],
          [
           "Nicotine Patch Experience  \n"
          ],
          [
           "Weather Preparedness  \n"
          ],
          [
           "Sleep Deprivation Symptoms \n"
          ],
          [
           "Mental Health Crisis  \n"
          ],
          [
           "Dream Content Description  \n"
          ],
          [
           "Mothers Role As Heroes  \n"
          ],
          [
           "Valuable Day Experience  \n"
          ],
          [
           "Humorous Self Deprecation   \n"
          ],
          [
           "Staying Current Trends  \n"
          ],
          [
           "Minecraft Gameplay Engagement  \n"
          ],
          [
           "Cloud Computing Preference  \n"
          ],
          [
           "Emotional Connection To Place  \n"
          ],
          [
           "Classroom Learning Experience   \n"
          ],
          [
           "Individual Choice Expression  \n"
          ],
          [
           "Sleep And Mood  \n"
          ],
          [
           "Positive Baby Interactions  \n"
          ],
          [
           "Conceptual Metaphor Usage  \n"
          ],
          [
           "Ink Supply Depletion  \n"
          ],
          [
           "Vocal Impairment Impact  \n"
          ],
          [
           "User Request For Privacy  \n"
          ],
          [
           "User Disinterest  \n"
          ],
          [
           "Recent Illness Experience  \n"
          ],
          [
           "Positive Past Employment  \n"
          ],
          [
           "Concern For Missing Person \n"
          ],
          [
           "Play Experiences With Children  \n"
          ],
          [
           "Household Preparation  \n"
          ],
          [
           "User Interface Frustration  \n"
          ],
          [
           "Social Reciprocity  \n"
          ],
          [
           "Daily Gameplay Engagement  \n"
          ],
          [
           "Expression Of Regret  \n"
          ],
          [
           "Village Internet Access  \n"
          ],
          [
           "Power Outage Experience  \n"
          ],
          [
           "Logo Perception  \n"
          ],
          [
           "Body Mass Index Perception \n"
          ],
          [
           "Positive Child Reactions   \n"
          ],
          [
           "Sports Team Preference \n"
          ],
          [
           "Urban Nostalgia Experiences   \n"
          ],
          [
           "Content Creation Volume  \n"
          ],
          [
           "Exhaustion After School  \n"
          ],
          [
           "Humor Perception Romance Zero   \n"
          ],
          [
           "Vehicle Damage Concerns \n"
          ],
          [
           "Emergency Response  \n"
          ],
          [
           "Age Perception In Salon  \n"
          ],
          [
           "Humorous Self Deprecation   \n"
          ],
          [
           "Device Usage Update  \n"
          ],
          [
           "Cricket Match Enthusiasm  \n"
          ],
          [
           "Cricket Match Viewing Habits  \n"
          ],
          [
           "Fan Expression Of Support  \n"
          ],
          [
           "Sensory Product Description  \n"
          ],
          [
           "Caffeine Consumption Desire  \n"
          ],
          [
           "User Identification   \n"
          ],
          [
           "Regretful Life Reflection   \n"
          ],
          [
           "Learning Machine Learning  \n"
          ],
          [
           "Inspection Outcome  \n"
          ],
          [
           "Father Figure Recognition  \n"
          ],
          [
           "Exam Experience  \n"
          ],
          [
           "Physical Attribute Exception  \n"
          ],
          [
           "Participant Interpretation   \n"
          ],
          [
           "Spa And Lunch Plans  \n"
          ],
          [
           "Please provide the interview segment so I can generate a thematic label. 😊  \n"
          ],
          [
           "Damaged Phone Screen Repair  \n"
          ],
          [
           "Please provide the interview segment so I can generate a thematic label. 😊  \n"
          ],
          [
           "Thought Process Reflection   \n"
          ],
          [
           "Apology Resolution Process \n"
          ],
          [
           "User Departure Announcement   \n"
          ],
          [
           "Beach Visit Experience  \n"
          ],
          [
           "Laptop Brightness Adjustment  \n"
          ],
          [
           "Transportation Arrangements  \n"
          ],
          [
           "Hygiene Concerns School  \n"
          ],
          [
           "Pricing Concerns Candy   \n"
          ],
          [
           "Star Wars Enthusiasm  \n"
          ],
          [
           "Workday Experiences  \n"
          ],
          [
           "Teacher Workload And Satisfaction   \n"
          ],
          [
           "Concern For Well Being  \n"
          ],
          [
           "Tumbleweed Communication  \n"
          ],
          [
           "Clothing Brand Recognition   \n"
          ],
          [
           "Product Preference Expression   \n"
          ],
          [
           "Time Zone Greetings \n"
          ],
          [
           "Self Confidence Expression   \n"
          ],
          [
           "Please provide the interview segment so I can generate a thematic label.  \n"
          ],
          [
           "Weather Impact On Work   \n"
          ],
          [
           "Emotional Eating Sugar Almonds  \n"
          ],
          [
           "Celebrity Interaction Experience   \n"
          ],
          [
           "Fan Enthusiasm For Nba   \n"
          ],
          [
           "Parking Space Accessibility  \n"
          ],
          [
           "Immediate Need  \n"
          ],
          [
           "Roommate Transition  \n"
          ],
          [
           "Family Bathing Experience  \n"
          ],
          [
           "Document Revision Process \n"
          ],
          [
           "Birthday Memory Recall Difficulty \n"
          ],
          [
           "Concern For Wellbeing \n"
          ],
          [
           "Humorous Self Deprecation   \n"
          ],
          [
           "Device Usage Update  \n"
          ],
          [
           "Childrens Media Consumption   \n"
          ],
          [
           "Physical Appearance Observation  \n"
          ],
          [
           "Color Preference Programming  \n"
          ],
          [
           "Sensory Product Description  \n"
          ],
          [
           "Visual Perception Differences  \n"
          ],
          [
           "Multitasking Student Activities  \n"
          ],
          [
           "Emotional Color Associations  \n"
          ],
          [
           "User Identification   \n"
          ],
          [
           "Regretful Life Reflection   \n"
          ],
          [
           "Product Packaging Frustration  \n"
          ],
          [
           "Motherly Appreciation  \n"
          ],
          [
           "Attractiveness Perception  \n"
          ],
          [
           "Media Perception Of Novelty \n"
          ],
          [
           "Spa And Lunch Plans  \n"
          ],
          [
           "Blackberry Representation  \n"
          ],
          [
           "Damaged Phone Screen Repair  \n"
          ],
          [
           "Please provide the interview segment so I can generate a thematic label. 😊  \n"
          ],
          [
           "Thought Process Reflection   \n"
          ],
          [
           "User Information Seeking \n"
          ],
          [
           "Apology Resolution Process \n"
          ],
          [
           "Celebrity Endorsement Impact  \n"
          ],
          [
           "User Departure Announcement   \n"
          ],
          [
           "Newbie User Inquiry \n"
          ],
          [
           "Screen Brightness Impact \n"
          ],
          [
           "Transportation Arrangements  \n"
          ],
          [
           "Social Decision Making Process   \n"
          ],
          [
           "Hygiene Concerns School  \n"
          ],
          [
           "Expressive Nonverbal Communication   \n"
          ],
          [
           "Bug Resolution Process \n"
          ],
          [
           "Learning Resources  \n"
          ],
          [
           "Post Work Beverage Consumption  \n"
          ],
          [
           "Teacher Workload And Satisfaction   \n"
          ],
          [
           "Workout Equipment Damage  \n"
          ],
          [
           "Concern For Well Being  \n"
          ],
          [
           "Tumbleweed Communication  \n"
          ],
          [
           "Clothing Brand Recognition   \n"
          ],
          [
           "Product Preference Expression   \n"
          ],
          [
           "Time Zone Greetings   \n"
          ],
          [
           "Self Confidence Expression   \n"
          ],
          [
           "Please provide the interview segment so I can generate a thematic label.  \n"
          ],
          [
           "Weather Impact On Work   \n"
          ],
          [
           "Emotional Eating Sugar Almonds  \n"
          ],
          [
           "Celebrity Interaction Experience   \n"
          ],
          [
           "Fan Enthusiasm For Nba   \n"
          ],
          [
           "Parking Space Accessibility  \n"
          ],
          [
           "Immediate Need  \n"
          ],
          [
           "Roommate Transition  \n"
          ],
          [
           "Family Bathing Experience  \n"
          ],
          [
           "Document Revision Process \n"
          ],
          [
           "Birthday Memory Recall Difficulty \n"
          ],
          [
           "Concern For Wellbeing \n"
          ],
          [
           "Media Sensationalism   \n"
          ],
          [
           "Cat Life Stages  \n"
          ],
          [
           "Play Experience Observation   \n"
          ],
          [
           "Transportation Difficulty  \n"
          ],
          [
           "Past Supportive Relationship   \n"
          ],
          [
           "Office Television Availability  \n"
          ],
          [
           "Disappointment With Product Search   \n"
          ],
          [
           "Workday Stress Levels  \n"
          ],
          [
           "Flight Cancellation Experience \n"
          ],
          [
           "Financial Strain Experiences \n"
          ],
          [
           "Post R01 Stress Levels  \n"
          ],
          [
           "User Evaluation Process   \n"
          ],
          [
           "Alertness Level Description \n"
          ],
          [
           "Daily Writing Schedule \n"
          ],
          [
           "Dog Behavioral Changes  \n"
          ],
          [
           "iPhone Messaging Limitations  \n"
          ],
          [
           "New Car Search  \n"
          ],
          [
           "Missed Television Event   \n"
          ],
          [
           "Physical Strain Impact  \n"
          ],
          [
           "Agreement Expression   \n"
          ],
          [
           "Computer Skill Preference \n"
          ],
          [
           "Weather And Mood Connection \n"
          ],
          [
           "Platform Preference Expression   \n"
          ],
          [
           "Shoe Size Disappointment  \n"
          ],
          [
           "Website Functionality Issues \n"
          ],
          [
           "Relocation Plans \n"
          ],
          [
           "Illness Symptoms  \n"
          ],
          [
           "Academic Research Disruption  \n"
          ],
          [
           "Information Seeking Behavior \n"
          ],
          [
           "Jewish Identity Expression   \n"
          ],
          [
           "App Recommendation Request \n"
          ],
          [
           "Delivery Timeline Expectation  \n"
          ],
          [
           "Missing Accessory Description \n"
          ],
          [
           "Anticipation Of ChildVisit  \n"
          ],
          [
           "Nostalgia For Elmwood   \n"
          ],
          [
           "Ticket Planner Functionality  \n"
          ],
          [
           "Participant Confidence In Outcome   \n"
          ],
          [
           "Age Related Perception   \n"
          ],
          [
           "Television Viewing Habits   \n"
          ],
          [
           "Social Exclusion Boba   \n"
          ],
          [
           "Arrival Time Uncertainty \n"
          ],
          [
           "BrainFreeze Experiences  \n"
          ],
          [
           "Character Limit Constraint  \n"
          ],
          [
           "Sunburn Symptoms  \n"
          ],
          [
           "Nail Polish Appearance Change  \n"
          ],
          [
           "Smoking Area Surveillance   \n"
          ],
          [
           "Play Pen Isolation  \n"
          ],
          [
           "Creative Expression Process   \n"
          ],
          [
           "Digital Memory Remembrance   \n"
          ],
          [
           "Airline Business Attraction Strategies \n"
          ],
          [
           "Work Avoidance Motivation  \n"
          ],
          [
           "Singing Talent Recognition  \n"
          ],
          [
           "Blood Type Specificity  \n"
          ],
          [
           "Time Expectation  \n"
          ],
          [
           "Phone Replacement Process   \n"
          ],
          [
           "Social Comparison Desire  \n"
          ],
          [
           "Food Preference Expression   \n"
          ],
          [
           "Shared Perspectives  \n"
          ],
          [
           "Packing Assistance Request  \n"
          ],
          [
           "Tea Consumption Preference  \n"
          ],
          [
           "Oral Functionality Description   \n"
          ],
          [
           "Pancake Preference Expression   \n"
          ],
          [
           "Discomfort With Footwear  \n"
          ],
          [
           "Electronic Key Failure  \n"
          ],
          [
           "Shift Work Motivation  \n"
          ],
          [
           "Garden Snake Encounter \n"
          ],
          [
           "Dog Ownership Experience  \n"
          ],
          [
           "Residential Location Preferences  \n"
          ],
          [
           "Illness Symptoms Experience   \n"
          ],
          [
           "Anticipation For Mcfly   \n"
          ],
          [
           "Passenger Mortality Experience  \n"
          ],
          [
           "G Reader Usage Experience \n"
          ],
          [
           "Writing Style Preferences  \n"
          ],
          [
           "Spiritual Support Seeking \n"
          ],
          [
           "Desire For American Life  \n"
          ],
          [
           "Sleep Duration Concerns   \n"
          ],
          [
           "Post Surgery Loneliness  \n"
          ],
          [
           "Anticipated Return   \n"
          ],
          [
           "Shopping Experience Location   \n"
          ],
          [
           "Emotional Resistance To Change  \n"
          ],
          [
           "Personal Identity Expression  \n"
          ],
          [
           "CAD Degree Exploration  \n"
          ],
          [
           "Pencil Sharpening Preferences \n"
          ],
          [
           "End Of Day Sentiment  \n"
          ],
          [
           "Companionship Desire Evening \n"
          ],
          [
           "Shared Kitchen Experiences   \n"
          ],
          [
           "Cereal Consumption Preferences  \n"
          ],
          [
           "User Confusion Product Drawing   \n"
          ],
          [
           "Daughter Gift Giving  \n"
          ],
          [
           "Sleep Deprivation Impact  \n"
          ],
          [
           "Gaming Skill Level  \n"
          ],
          [
           "Bug Related Injury   \n"
          ],
          [
           "Delayed Online Purchase Realization   \n"
          ],
          [
           "Actor Performance Anxiety  \n"
          ],
          [
           "Family Health Concerns  \n"
          ],
          [
           "Errands And Chores  \n"
          ],
          [
           "Bedroom Transformation Plan  \n"
          ],
          [
           "Sponsor Recognition   \n"
          ],
          [
           "Office Work Environment \n"
          ],
          [
           "Noise Level Concern  \n"
          ],
          [
           "Solo Homework Activity  \n"
          ],
          [
           "Family Poverty Rates  \n"
          ],
          [
           "Financial Planning Challenges  \n"
          ],
          [
           "Project Completion Timeline   \n"
          ],
          [
           "Nostalgia For Location \n"
          ]
         ],
         "hovertemplate": "cluster_str=noise<br>x1=%{x}<br>x2=%{y}<br>code=%{customdata[0]}<extra></extra>",
         "legendgroup": "noise",
         "marker": {
          "color": "#EF553B",
          "symbol": "circle"
         },
         "mode": "markers",
         "name": "noise",
         "orientation": "v",
         "showlegend": true,
         "type": "scatter",
         "x": {
          "bdata": "/T2dPwLIPED5ZIQ/7PsNv5U0P0B/UgFAWwZVvnDls771W5m/RTKmv28WML7KWe6/vUhbQMnfgUCwR1s/d+qmv4/0hkDSsZtAwrW8PsfGo0C//Ok9FmySQAutiEARrz5AFws4QGZg5D/WOxfA6nAbvyRaJUExnKo+OT1LPyTOgUAKdglAafdCv1GVi76pJBS/ZnHiPlC/OsBX6C1AH3qrP/fJJUFoTMA/cqOaQOG3fUBkh40/2OhBQKGgdT9hEwu/qbw8QMAZBEAmy3i+4YfNvhZNnb/lLKu/h+BTvlls87/nY1tANC2AQNqcSz9+Ia6/7y+IQD+PmkCl1r0+8jWkQHO/oT0gQJJA9BmKQFl5PUD0WDlAyN3gPyjYG8DD1iK/hbUlQbwXxT7lLkw/eHOBQFyZJUFsYZk/3Yk6QJi2H0BY+0JAKEEtP8frFz+H/56/cmrgPsBnSECxvRe/KBlfQMlDN0CSvPA+LOcKQLHsHD9KRUfAp2oUPxjKQsDVLgNAjEj1PeiCpb/16eo/dsUnP/KQHkDEXia/mKRLPw+hMkAPdHc+scG6vz4S4j76MY1AkGCWQKRlaD80pllAMF+8PzQFRMAd2WW+y6FBP/6iMUAhoDtAXyApQMdodUDTNj5AG//XP6l+T7+N4+o/N+/TPqDkJUF9ZI8/GH2EQNTEiUAVAP8/OQkuP3KejUCMH42+sKzQP+W+nr9tkfI+b9mrPko5LUAVU4ZATGBKQPfMIz+lYpNAlpAFP7azR8B6/QZAcieav1K/qT0fMT5A9LGovx8qrb/5ffU+b2AiQEhiiEAauBa/pg7cP3xIA79uGEhAYbzjPsAFt7/aT8w+dczTPs3ZjECZGpVADyxnP0dsWUCglL0/IdVEwJpbfr4uYTs/zNkyQKHzOkChISpAGP93QHJ8PED7OtM/j39mvwIm6T/GUOM++1KfQBXbtj/8CIFAQmwkQC0yVkCPUBNAJfsOv/QIab3nHQZAKVn9PiDiRL5IN5W/ya9ivLXcBD1uzMQ/BYOZQFVVCL94xl9AWKelPlzzhz9Yx35AQv7NvjEGez+GLNC+fuCzv/lALUCUkWW+njf9PztzVr9gRqs/pRSpv8ULkz/iDRU/qw+6P9cr5T/1WjdAJyHBP8oih0BcGRZA8Y58QMDQkD+lXgq//G6hQHIfcr4CkHxANmpRv5yGikA8Bts/pXzfP/ttFkD9hwM+kZ0eQK1h3j+9/YU/f0dLPylZhkDZMoA/24wQQN3WIUCo5Q8/SSjkPk3QiD9PU6u+1IkyP4MLUz6PJ4xAqN7BPzRyJ0Bzv1q+LVm8P0aOD0B14+O/efsPQGNXl0BPnpRAbEAVv0hlckDvclC+1HDwP8P6sD94XJ0/cqMmQHkVdUAnp+u9QRCXQMDReD8P4F8/1liKvwnAJUAa//6+pXiFQGeARD2ONI0/fqwtQLeNMj4VhMG6wJM5QK73S0CyS+o9t+kYv4LyJ76xSkVAz4/KPzfAKj8NtO8/",
          "dtype": "f4"
         },
         "xaxis": "x",
         "y": {
          "bdata": "5cWIP802GcCgNS5Ac6W3vy6UIUAx0Ls/TGk+v2kceb+MXzdAe9Y/QL3MUD0SXoW86zS+PvnWI8BgjVjAXzLvP0fxHTzWyynA4QWcPxaOfb/hZnO/cni8P03hwj+9QiJAde+av0hTHMBqaBo/hHaJvziAgT8A5hw+DKo9P1C/pj/XLTy+ZCtzO8g+9L+7Cp+/xEDrPtWhET9GBAxAj7IRwIkGhT+TbpC/6RkpwDQx87/A4Y0/9sYWwHVDK0Dkvbe/xsEfQIOAwD9JBDe/jKR7v+W5NUDQjj1AC5B9PPTcbL3BMbs+CfUlwKHvVMB11uQ/BHZzvdGNKMBUHpw/MyuCvyNYcb8Hfb0/wVDGPxXGIkDUOKG/wu8bwJ+qHz9pRJG/7K+DP7Losz0Ja00/tMqoP2xtgz/oY+K9YzCUvxFkpL/Q3Im/WW4oQNwqqL+xTzxASKOWP7xRBMDuKj0/DaDnP7NpG8Cln7o+IyCwP0rlTsD4agA/kbNQPTN6BT/sibQ/41+PP780QUC+RGHAQPkQvpTcgsD+0xC/gHoPQJXDhb+KohfAa94rP3esIb9Hx66/rPS2P7nOLkAIkIhA9KADQO2uDD/XE/m/kpfsP8+KHr8YxZS/e0iIwHqXDL6XVXHA0UpbwBcbKT8dd/6/uT47v6t8hT9zOq+9WPsMwCbnyz/DKig/FtkpQN4Suz/mOVHAfQ+EP+EmOkC/1Zw/vT36P1xDEUBpbro/II8CvlWaUMAJAL2/wPWqPU5Q/T6uZbU/bl8pQI7XhD8XvD+/iR9EQNvcCED8iiW+gJGFwJDOVD1Ncx6/6yP3PxseIj82IgnAos7Qv5EiKT+KJBg+sNkwv482sr+w27s/IEUzQHiAiEA98wNAo54IP5nb97/JlPI/JgIav2hpl79S04jAwnMEvjoObcB2V1nA4LQeP6O6AMD/hym/4SwJwJs/+b5GaSXAQJWJwMpguD+z0KW/8VjdP5lSAcAL2mLAz72ZvnRd4L6voKQ/XwzgP/oAPMCBqCw/Sm3bv/ZptD9OoDK/LDvSPOzbIUCB1v2/Npfiv7l5M0BziFY/rZPkP+00fcDu5iK85OfGv+jEDkAWmxZAf9oMQBLwwr8DkiZA9S2IvxjsIMAqjMe/twECQESTtT/ZTJW/+hGZPiIhxb/R4py/VcP0v582Mb5InLc/+7frPR80J8BGHOU/YjAEwPldccAqEA3AG90Ov2hneT/2Isy/4YZEvJqBZj6/9TBAL9NcPyV1hcB9GbG/yZERQDPoM0ALJR0++HMSPy4QDsBsuoq/xv05P1RXasBHWju9nXedv3hGcsCn0Us/TbO7PnTADb/WAGQ9r0ivv0rbzz4yR6c/6Wg3wN2QYr+oDxVAXfgwwFol7r9fdPU/iFIQvcVkXMCUXw5ADDABQF9jFUA0P6K/NSwdwPpogD5SBsi/POW3vidPHb8diT/AXsBvwE9Hnr/qNgzAFc2zP2GyUcDYLd0/ciA6wFp7IMC2lyvA",
          "dtype": "f4"
         },
         "yaxis": "y"
        },
        {
         "customdata": [
          [
           "Boat Travel Experience  \n"
          ],
          [
           "Musical Preference Expression  \n"
          ],
          [
           "Travel Destination Preference  \n"
          ],
          [
           "Academic Achievement  \n"
          ],
          [
           "Communication Preference   \n"
          ],
          [
           "Boat Travel Experience  \n"
          ],
          [
           "Musical Preference Expression  \n"
          ],
          [
           "Travel Destination Preference  \n"
          ],
          [
           "Academic Achievement  \n"
          ],
          [
           "Communication Preference   \n"
          ],
          [
           "Student Transportation Preferences  \n"
          ],
          [
           "Musical Expression  \n"
          ],
          [
           "Achievement Recognition  \n"
          ],
          [
           "Social Media Following Limits  \n"
          ],
          [
           "Aspirational Educational Goals \n"
          ],
          [
           "Need For Presence  \n"
          ],
          [
           "Educational Aspirations  \n"
          ],
          [
           "Language Communication Preference  \n"
          ],
          [
           "Educational Achievement  \n"
          ],
          [
           "Social Media Engagement  \n"
          ],
          [
           "Social Media Engagement  \n"
          ],
          [
           "Movie Preference Expression \n"
          ],
          [
           "Travel Planning Experiences \n"
          ],
          [
           "Student Transportation Preferences  \n"
          ],
          [
           "Fever And Music Preference  \n"
          ],
          [
           "Actor Preference Satisfaction  \n"
          ],
          [
           "Social Media Following Limits  \n"
          ],
          [
           "Desire For Travel Destination \n"
          ],
          [
           "Social Media Engagement  \n"
          ],
          [
           "Social Media Engagement  \n"
          ],
          [
           "Movie Preference Expression \n"
          ],
          [
           "Social Media Debut  \n"
          ],
          [
           "Social Media Engagement  \n"
          ],
          [
           "Social Media Preference  \n"
          ],
          [
           "Social Media Engagement  \n"
          ],
          [
           "Social Media Connection   \n"
          ],
          [
           "Social Media Awareness Gap \n"
          ],
          [
           "Social Connection Needs  \n"
          ],
          [
           "Hunger On Social Media \n"
          ],
          [
           "Social Media Usage  \n"
          ],
          [
           "Social Media Presence  \n"
          ],
          [
           "Public Recognition And Accomplishments \n"
          ],
          [
           "Social Connection Through Location  \n"
          ],
          [
           "Social Media Recognition   \n"
          ],
          [
           "Social Connection Support  \n"
          ],
          [
           "Social Media Engagement   \n"
          ],
          [
           "Social Media Engagement  \n"
          ],
          [
           "Travel Aspirations   \n"
          ],
          [
           "Social Music Preference  \n"
          ],
          [
           "Music Preference During Travel  \n"
          ],
          [
           "Social Group Affiliation   \n"
          ],
          [
           "Music Preference Exploration   \n"
          ],
          [
           "Social Media Platform Use \n"
          ],
          [
           "Music Consumption Habits   \n"
          ],
          [
           "Self Empowerment Aspirations \n"
          ],
          [
           "Social Media Sharing  \n"
          ]
         ],
         "hovertemplate": "cluster_str=2<br>x1=%{x}<br>x2=%{y}<br>code=%{customdata[0]}<extra></extra>",
         "legendgroup": "2",
         "marker": {
          "color": "#00CC96",
          "symbol": "circle"
         },
         "mode": "markers",
         "name": "2",
         "orientation": "v",
         "showlegend": true,
         "type": "scatter",
         "x": {
          "bdata": "YGkLQJj5EED4jRtAGgooQNJdiEA4ygZAvnEPQCbCFkCetCdAKTCLQHnrHUAjeA1AWXotQFWhpEAd0iZAMSRwQFn1LkBBaYlAUFQsQD0Pr0DC6rBASSIjQHfFEEDjaR5AbMsJQD+LKEDle6VAHBYcQLCXr0AjVK9AQ74aQM/qrECXULFAqcapQC9hskBjWKdAo4erQILRm0CToKlA2o6tQPX+rECA2ThAv0CiQAGJq0BV1ZxA+HywQM/GrkDIch1AKn0OQPewDUCPlZhAcnUOQCVCsEAt+QFAuwY3QOISsEA=",
          "dtype": "f4"
         },
         "xaxis": "x",
         "y": {
          "bdata": "qyVuwKd78z3m0nHARPITwEVux78BuWvADRZOPi/bdsBVSxTA/dDFv0CEfMDmCYQ+5XkJwPkV9L/teB/A05IvvvzZKMB0rc2/+LkawJ+MIMCJdyHA0O+gPgK1bsCMRoHAY+QOvUpYQT6vhe2/+iBwwKgVH8CIFx/AmB2EPh5F67+5UyPARCn3vw3GGsC7g7u/j9fqv+j+UL801O+/w93xv0Rq4r+MwNy/9WaAvzGW4L8c0k6/UDIgwLWfIsDjJGjAPX1evdwY9rxJK0G/DPKHutaL+b866xq+uhEnwAxd+b8=",
          "dtype": "f4"
         },
         "yaxis": "y"
        },
        {
         "customdata": [
          [
           "Morning Running Preference \n"
          ],
          [
           "Availability Constraints \n"
          ],
          [
           "Anticipation For Fall   \n"
          ],
          [
           "Morning Routine Activities \n"
          ],
          [
           "Anticipation Of Enjoyment  \n"
          ],
          [
           "Morning Running Preference \n"
          ],
          [
           "Availability Constraints \n"
          ],
          [
           "Morning Routine Activities \n"
          ],
          [
           "Anticipation Of Change  \n"
          ],
          [
           "Work Schedule Preferences \n"
          ],
          [
           "Daily Routine Activities   \n"
          ],
          [
           "Motivational Film Experience  \n"
          ],
          [
           "Leisure Activities Enjoyment   \n"
          ],
          [
           "Work Schedule Constraints \n"
          ],
          [
           "Morning Routine Activities \n"
          ],
          [
           "Anticipation Of Change  \n"
          ],
          [
           "Morning Routine Activities \n"
          ],
          [
           "Anticipation Of Change  \n"
          ],
          [
           "Entertainment Consumption Experience  \n"
          ],
          [
           "Work Schedule Preferences   \n"
          ],
          [
           "Daily Routine Activities   \n"
          ],
          [
           "Leisure Activities Enjoyment   \n"
          ],
          [
           "Work Schedule Constraints \n"
          ],
          [
           "Anticipation For Event   \n"
          ],
          [
           "Daily Activities  \n"
          ],
          [
           "Weekend Schedule Conflicts \n"
          ],
          [
           "Leisure Activity Plans  \n"
          ],
          [
           "Competition Outcome Anticipation   \n"
          ],
          [
           "Weekend Work Schedule  \n"
          ],
          [
           "Movie Viewing Experience  \n"
          ],
          [
           "Weekend Activity Limitations \n"
          ],
          [
           "Work Obligations  \n"
          ],
          [
           "Time Tracking Experience  \n"
          ],
          [
           "Time Constraints And Obligations   \n"
          ],
          [
           "Weekend Dining Plans  \n"
          ],
          [
           "Time Management Strategies  \n"
          ],
          [
           "Work Week Completion   \n"
          ],
          [
           "Weekend Leisure Activities  \n"
          ],
          [
           "Daily Routines And Obligations  \n"
          ]
         ],
         "hovertemplate": "cluster_str=0<br>x1=%{x}<br>x2=%{y}<br>code=%{customdata[0]}<extra></extra>",
         "legendgroup": "0",
         "marker": {
          "color": "#AB63FA",
          "symbol": "circle"
         },
         "mode": "markers",
         "name": "0",
         "orientation": "v",
         "showlegend": true,
         "type": "scatter",
         "x": {
          "bdata": "SwQcv3c1LD/Di6g/q/ocv0ObsD+zoB+/O9IdP1JnDb/nYbM/dQKXPhOE3L5E1xpA0HWTP9MK1D6o8w6//+yqP+2pAb8Pfao/hiUWQDB5mj5v1cS+KvWRPwdtzz7PSKw/XhBdvmROwD5QPyU/nk6dP4mwzT5F3xVARaXnPjD4LT6MZYs/fFkLP/P5CT8Osz8/fe++PgHQHj/HEBi+",
          "dtype": "f4"
         },
         "xaxis": "x",
         "y": {
          "bdata": "x41cwNnVDsDgM5G/guZawFDdsr/oM13AvTgTwAQvWsCi3IW/7sMpwMhIVsA8fFO/1+YkwBF2I8DxWFrAaoeJvygMXcCHcJC/2RSgv/vvKcA7IVPAcQsmwAyAI8BI96K/jK9OwHHeNsBEekTAFnaDv1YZO8CcWX6/7R09wKXZKcDwUQDAcwwdwHPdRsDjnCLAJqkuwG0nQ8CRlkHA",
          "dtype": "f4"
         },
         "yaxis": "y"
        }
       ],
       "layout": {
        "legend": {
         "orientation": "h",
         "title": {
          "text": "cluster"
         },
         "tracegroupgap": 0,
         "x": 0.5,
         "xanchor": "center",
         "y": -0.25,
         "yanchor": "bottom"
        },
        "margin": {
         "t": 60
        },
        "template": {
         "data": {
          "bar": [
           {
            "error_x": {
             "color": "#2a3f5f"
            },
            "error_y": {
             "color": "#2a3f5f"
            },
            "marker": {
             "line": {
              "color": "#E5ECF6",
              "width": 0.5
             },
             "pattern": {
              "fillmode": "overlay",
              "size": 10,
              "solidity": 0.2
             }
            },
            "type": "bar"
           }
          ],
          "barpolar": [
           {
            "marker": {
             "line": {
              "color": "#E5ECF6",
              "width": 0.5
             },
             "pattern": {
              "fillmode": "overlay",
              "size": 10,
              "solidity": 0.2
             }
            },
            "type": "barpolar"
           }
          ],
          "carpet": [
           {
            "aaxis": {
             "endlinecolor": "#2a3f5f",
             "gridcolor": "white",
             "linecolor": "white",
             "minorgridcolor": "white",
             "startlinecolor": "#2a3f5f"
            },
            "baxis": {
             "endlinecolor": "#2a3f5f",
             "gridcolor": "white",
             "linecolor": "white",
             "minorgridcolor": "white",
             "startlinecolor": "#2a3f5f"
            },
            "type": "carpet"
           }
          ],
          "choropleth": [
           {
            "colorbar": {
             "outlinewidth": 0,
             "ticks": ""
            },
            "type": "choropleth"
           }
          ],
          "contour": [
           {
            "colorbar": {
             "outlinewidth": 0,
             "ticks": ""
            },
            "colorscale": [
             [
              0,
              "#0d0887"
             ],
             [
              0.1111111111111111,
              "#46039f"
             ],
             [
              0.2222222222222222,
              "#7201a8"
             ],
             [
              0.3333333333333333,
              "#9c179e"
             ],
             [
              0.4444444444444444,
              "#bd3786"
             ],
             [
              0.5555555555555556,
              "#d8576b"
             ],
             [
              0.6666666666666666,
              "#ed7953"
             ],
             [
              0.7777777777777778,
              "#fb9f3a"
             ],
             [
              0.8888888888888888,
              "#fdca26"
             ],
             [
              1,
              "#f0f921"
             ]
            ],
            "type": "contour"
           }
          ],
          "contourcarpet": [
           {
            "colorbar": {
             "outlinewidth": 0,
             "ticks": ""
            },
            "type": "contourcarpet"
           }
          ],
          "heatmap": [
           {
            "colorbar": {
             "outlinewidth": 0,
             "ticks": ""
            },
            "colorscale": [
             [
              0,
              "#0d0887"
             ],
             [
              0.1111111111111111,
              "#46039f"
             ],
             [
              0.2222222222222222,
              "#7201a8"
             ],
             [
              0.3333333333333333,
              "#9c179e"
             ],
             [
              0.4444444444444444,
              "#bd3786"
             ],
             [
              0.5555555555555556,
              "#d8576b"
             ],
             [
              0.6666666666666666,
              "#ed7953"
             ],
             [
              0.7777777777777778,
              "#fb9f3a"
             ],
             [
              0.8888888888888888,
              "#fdca26"
             ],
             [
              1,
              "#f0f921"
             ]
            ],
            "type": "heatmap"
           }
          ],
          "histogram": [
           {
            "marker": {
             "pattern": {
              "fillmode": "overlay",
              "size": 10,
              "solidity": 0.2
             }
            },
            "type": "histogram"
           }
          ],
          "histogram2d": [
           {
            "colorbar": {
             "outlinewidth": 0,
             "ticks": ""
            },
            "colorscale": [
             [
              0,
              "#0d0887"
             ],
             [
              0.1111111111111111,
              "#46039f"
             ],
             [
              0.2222222222222222,
              "#7201a8"
             ],
             [
              0.3333333333333333,
              "#9c179e"
             ],
             [
              0.4444444444444444,
              "#bd3786"
             ],
             [
              0.5555555555555556,
              "#d8576b"
             ],
             [
              0.6666666666666666,
              "#ed7953"
             ],
             [
              0.7777777777777778,
              "#fb9f3a"
             ],
             [
              0.8888888888888888,
              "#fdca26"
             ],
             [
              1,
              "#f0f921"
             ]
            ],
            "type": "histogram2d"
           }
          ],
          "histogram2dcontour": [
           {
            "colorbar": {
             "outlinewidth": 0,
             "ticks": ""
            },
            "colorscale": [
             [
              0,
              "#0d0887"
             ],
             [
              0.1111111111111111,
              "#46039f"
             ],
             [
              0.2222222222222222,
              "#7201a8"
             ],
             [
              0.3333333333333333,
              "#9c179e"
             ],
             [
              0.4444444444444444,
              "#bd3786"
             ],
             [
              0.5555555555555556,
              "#d8576b"
             ],
             [
              0.6666666666666666,
              "#ed7953"
             ],
             [
              0.7777777777777778,
              "#fb9f3a"
             ],
             [
              0.8888888888888888,
              "#fdca26"
             ],
             [
              1,
              "#f0f921"
             ]
            ],
            "type": "histogram2dcontour"
           }
          ],
          "mesh3d": [
           {
            "colorbar": {
             "outlinewidth": 0,
             "ticks": ""
            },
            "type": "mesh3d"
           }
          ],
          "parcoords": [
           {
            "line": {
             "colorbar": {
              "outlinewidth": 0,
              "ticks": ""
             }
            },
            "type": "parcoords"
           }
          ],
          "pie": [
           {
            "automargin": true,
            "type": "pie"
           }
          ],
          "scatter": [
           {
            "fillpattern": {
             "fillmode": "overlay",
             "size": 10,
             "solidity": 0.2
            },
            "type": "scatter"
           }
          ],
          "scatter3d": [
           {
            "line": {
             "colorbar": {
              "outlinewidth": 0,
              "ticks": ""
             }
            },
            "marker": {
             "colorbar": {
              "outlinewidth": 0,
              "ticks": ""
             }
            },
            "type": "scatter3d"
           }
          ],
          "scattercarpet": [
           {
            "marker": {
             "colorbar": {
              "outlinewidth": 0,
              "ticks": ""
             }
            },
            "type": "scattercarpet"
           }
          ],
          "scattergeo": [
           {
            "marker": {
             "colorbar": {
              "outlinewidth": 0,
              "ticks": ""
             }
            },
            "type": "scattergeo"
           }
          ],
          "scattergl": [
           {
            "marker": {
             "colorbar": {
              "outlinewidth": 0,
              "ticks": ""
             }
            },
            "type": "scattergl"
           }
          ],
          "scattermap": [
           {
            "marker": {
             "colorbar": {
              "outlinewidth": 0,
              "ticks": ""
             }
            },
            "type": "scattermap"
           }
          ],
          "scattermapbox": [
           {
            "marker": {
             "colorbar": {
              "outlinewidth": 0,
              "ticks": ""
             }
            },
            "type": "scattermapbox"
           }
          ],
          "scatterpolar": [
           {
            "marker": {
             "colorbar": {
              "outlinewidth": 0,
              "ticks": ""
             }
            },
            "type": "scatterpolar"
           }
          ],
          "scatterpolargl": [
           {
            "marker": {
             "colorbar": {
              "outlinewidth": 0,
              "ticks": ""
             }
            },
            "type": "scatterpolargl"
           }
          ],
          "scatterternary": [
           {
            "marker": {
             "colorbar": {
              "outlinewidth": 0,
              "ticks": ""
             }
            },
            "type": "scatterternary"
           }
          ],
          "surface": [
           {
            "colorbar": {
             "outlinewidth": 0,
             "ticks": ""
            },
            "colorscale": [
             [
              0,
              "#0d0887"
             ],
             [
              0.1111111111111111,
              "#46039f"
             ],
             [
              0.2222222222222222,
              "#7201a8"
             ],
             [
              0.3333333333333333,
              "#9c179e"
             ],
             [
              0.4444444444444444,
              "#bd3786"
             ],
             [
              0.5555555555555556,
              "#d8576b"
             ],
             [
              0.6666666666666666,
              "#ed7953"
             ],
             [
              0.7777777777777778,
              "#fb9f3a"
             ],
             [
              0.8888888888888888,
              "#fdca26"
             ],
             [
              1,
              "#f0f921"
             ]
            ],
            "type": "surface"
           }
          ],
          "table": [
           {
            "cells": {
             "fill": {
              "color": "#EBF0F8"
             },
             "line": {
              "color": "white"
             }
            },
            "header": {
             "fill": {
              "color": "#C8D4E3"
             },
             "line": {
              "color": "white"
             }
            },
            "type": "table"
           }
          ]
         },
         "layout": {
          "annotationdefaults": {
           "arrowcolor": "#2a3f5f",
           "arrowhead": 0,
           "arrowwidth": 1
          },
          "autotypenumbers": "strict",
          "coloraxis": {
           "colorbar": {
            "outlinewidth": 0,
            "ticks": ""
           }
          },
          "colorscale": {
           "diverging": [
            [
             0,
             "#8e0152"
            ],
            [
             0.1,
             "#c51b7d"
            ],
            [
             0.2,
             "#de77ae"
            ],
            [
             0.3,
             "#f1b6da"
            ],
            [
             0.4,
             "#fde0ef"
            ],
            [
             0.5,
             "#f7f7f7"
            ],
            [
             0.6,
             "#e6f5d0"
            ],
            [
             0.7,
             "#b8e186"
            ],
            [
             0.8,
             "#7fbc41"
            ],
            [
             0.9,
             "#4d9221"
            ],
            [
             1,
             "#276419"
            ]
           ],
           "sequential": [
            [
             0,
             "#0d0887"
            ],
            [
             0.1111111111111111,
             "#46039f"
            ],
            [
             0.2222222222222222,
             "#7201a8"
            ],
            [
             0.3333333333333333,
             "#9c179e"
            ],
            [
             0.4444444444444444,
             "#bd3786"
            ],
            [
             0.5555555555555556,
             "#d8576b"
            ],
            [
             0.6666666666666666,
             "#ed7953"
            ],
            [
             0.7777777777777778,
             "#fb9f3a"
            ],
            [
             0.8888888888888888,
             "#fdca26"
            ],
            [
             1,
             "#f0f921"
            ]
           ],
           "sequentialminus": [
            [
             0,
             "#0d0887"
            ],
            [
             0.1111111111111111,
             "#46039f"
            ],
            [
             0.2222222222222222,
             "#7201a8"
            ],
            [
             0.3333333333333333,
             "#9c179e"
            ],
            [
             0.4444444444444444,
             "#bd3786"
            ],
            [
             0.5555555555555556,
             "#d8576b"
            ],
            [
             0.6666666666666666,
             "#ed7953"
            ],
            [
             0.7777777777777778,
             "#fb9f3a"
            ],
            [
             0.8888888888888888,
             "#fdca26"
            ],
            [
             1,
             "#f0f921"
            ]
           ]
          },
          "colorway": [
           "#636efa",
           "#EF553B",
           "#00cc96",
           "#ab63fa",
           "#FFA15A",
           "#19d3f3",
           "#FF6692",
           "#B6E880",
           "#FF97FF",
           "#FECB52"
          ],
          "font": {
           "color": "#2a3f5f"
          },
          "geo": {
           "bgcolor": "white",
           "lakecolor": "white",
           "landcolor": "#E5ECF6",
           "showlakes": true,
           "showland": true,
           "subunitcolor": "white"
          },
          "hoverlabel": {
           "align": "left"
          },
          "hovermode": "closest",
          "mapbox": {
           "style": "light"
          },
          "paper_bgcolor": "white",
          "plot_bgcolor": "#E5ECF6",
          "polar": {
           "angularaxis": {
            "gridcolor": "white",
            "linecolor": "white",
            "ticks": ""
           },
           "bgcolor": "#E5ECF6",
           "radialaxis": {
            "gridcolor": "white",
            "linecolor": "white",
            "ticks": ""
           }
          },
          "scene": {
           "xaxis": {
            "backgroundcolor": "#E5ECF6",
            "gridcolor": "white",
            "gridwidth": 2,
            "linecolor": "white",
            "showbackground": true,
            "ticks": "",
            "zerolinecolor": "white"
           },
           "yaxis": {
            "backgroundcolor": "#E5ECF6",
            "gridcolor": "white",
            "gridwidth": 2,
            "linecolor": "white",
            "showbackground": true,
            "ticks": "",
            "zerolinecolor": "white"
           },
           "zaxis": {
            "backgroundcolor": "#E5ECF6",
            "gridcolor": "white",
            "gridwidth": 2,
            "linecolor": "white",
            "showbackground": true,
            "ticks": "",
            "zerolinecolor": "white"
           }
          },
          "shapedefaults": {
           "line": {
            "color": "#2a3f5f"
           }
          },
          "ternary": {
           "aaxis": {
            "gridcolor": "white",
            "linecolor": "white",
            "ticks": ""
           },
           "baxis": {
            "gridcolor": "white",
            "linecolor": "white",
            "ticks": ""
           },
           "bgcolor": "#E5ECF6",
           "caxis": {
            "gridcolor": "white",
            "linecolor": "white",
            "ticks": ""
           }
          },
          "title": {
           "x": 0.05
          },
          "xaxis": {
           "automargin": true,
           "gridcolor": "white",
           "linecolor": "white",
           "ticks": "",
           "title": {
            "standoff": 15
           },
           "zerolinecolor": "white",
           "zerolinewidth": 2
          },
          "yaxis": {
           "automargin": true,
           "gridcolor": "white",
           "linecolor": "white",
           "ticks": "",
           "title": {
            "standoff": 15
           },
           "zerolinecolor": "white",
           "zerolinewidth": 2
          }
         }
        },
        "xaxis": {
         "anchor": "y",
         "domain": [
          0,
          1
         ],
         "title": {
          "text": "x1"
         }
        },
        "yaxis": {
         "anchor": "x",
         "domain": [
          0,
          1
         ],
         "title": {
          "text": "x2"
         }
        }
       }
      }
     },
     "metadata": {},
     "output_type": "display_data"
    }
   ],
   "source": [
    "import pandas as pd\n",
    "import plotly.express as px\n",
    "\n",
    "df_plot = pd.DataFrame({\n",
    "    \"x1\": X2[:, 0],           # reusa la proyeccion 2D de la celda anterior\n",
    "    \"x2\": X2[:, 1],\n",
    "    \"cluster\": labels,    # −1 = ruido\n",
    "    \"code\": labels_sentiment\n",
    "})\n",
    "\n",
    "# opcion: mostrar \"noise\" en la leyenda\n",
    "df_plot[\"cluster_str\"] = df_plot[\"cluster\"].astype(str).replace({\"-1\": \"noise\"})\n",
    "\n",
    "fig = px.scatter(\n",
    "    df_plot, x=\"x1\", y=\"x2\",\n",
    "    color=\"cluster_str\",               # o usa \"cluster\" si prefieres numerico\n",
    "    hover_data=[\"code\"],\n",
    "    color_discrete_sequence=px.colors.qualitative.Plotly\n",
    ")\n",
    "fig.update_layout(\n",
    "    xaxis_title=\"x1\", yaxis_title=\"x2\",\n",
    "    legend_title_text=\"cluster\",\n",
    "    legend=dict(orientation=\"h\", yanchor=\"bottom\", y=-0.25, xanchor=\"center\", x=0.5)\n",
    ")\n",
    "fig.show()\n"
   ]
  },
  {
   "cell_type": "markdown",
   "id": "72ba1379",
   "metadata": {},
   "source": [
    "**Implementamos optuna para el HDBSCAN** "
   ]
  },
  {
   "cell_type": "code",
   "execution_count": null,
   "id": "6b5e9398",
   "metadata": {},
   "outputs": [],
   "source": [
    "#Vimos mucho ruido entonces ahora usamos el Optuna para ver si prevalece el ruido con los mejores parametros "
   ]
  },
  {
   "cell_type": "markdown",
   "id": "6f0a5542",
   "metadata": {},
   "source": [
    "**Pedimos el thematic analysis para clasificar y nombrar los clusters al LLM**"
   ]
  },
  {
   "cell_type": "code",
   "execution_count": 26,
   "id": "1a4e25e3",
   "metadata": {},
   "outputs": [
    {
     "name": "stdout",
     "output_type": "stream",
     "text": [
      "   cluster_id  n_items                   cluster_name\n",
      "0           0       39         Daily Life And Leisure\n",
      "1           1      122  Social Connection And Emotion\n",
      "2           2       56      Social Identity Formation\n"
     ]
    }
   ],
   "source": [
    "# === Theme naming por cluster con Ollama ===\n",
    "# Requiere: labels_sentiment (list[str]) y labels_hdb (np.ndarray o list[int])\n",
    "# Salida: df_cluster_themes (tabla con nombres) y cluster_name_por_fila (list[str])\n",
    "\n",
    "import json, random\n",
    "import pandas as pd\n",
    "from collections import defaultdict\n",
    "from ollama import chat\n",
    "\n",
    "MODEL = \"gemma2:9b\"   # o \"gemma2:9b\"\n",
    "GEN_OPTS = {\n",
    "    \"temperature\": 0.0,\n",
    "    \"top_p\": 1.0,\n",
    "    \"repeat_penalty\": 1.2,\n",
    "    \"num_predict\": 96,   # suficiente para nombre + definición\n",
    "}\n",
    "\n",
    "SYSTEM_PROMPT = \"\"\"\n",
    "You are a qualitative research analyst.\n",
    "Given several short codes that belong to ONE cluster, propose:\n",
    "- a concise cluster name (2–5 words, Title Case, no punctuation),\n",
    "- a one-sentence definition describing the common theme.\n",
    "\n",
    "Return STRICT JSON in ONE line:\n",
    "{\"cluster_name\":\"<2-5 words>\", \"definition\":\"<one sentence>\"}\n",
    "Do not include any extra text.\n",
    "\"\"\"\n",
    "\n",
    "def sample_codes(codes, k=12):\n",
    "    \"\"\"muestra sin repetidos (hasta k)\"\"\"\n",
    "    uniq = list(dict.fromkeys([c.strip() for c in codes if str(c).strip()]))\n",
    "    if len(uniq) <= k:\n",
    "        return uniq\n",
    "    return random.sample(uniq, k)\n",
    "\n",
    "def ask_theme_ollama(codes_sample):\n",
    "    # pasa los codes como bullets para que el LLM vea variedad\n",
    "    bullets = \"\\n\".join(f\"- {c}\" for c in codes_sample)\n",
    "    user = f\"Here are representative codes from one cluster:\\n{bullets}\\n\\nReturn JSON only.\"\n",
    "    resp = chat(\n",
    "        model=MODEL,\n",
    "        messages=[{\"role\":\"system\",\"content\":SYSTEM_PROMPT},\n",
    "                  {\"role\":\"user\",\"content\":user}],\n",
    "        options=GEN_OPTS,\n",
    "        keep_alive=-1,\n",
    "    )\n",
    "    txt = resp[\"message\"][\"content\"].strip()\n",
    "    # intenta parsear JSON\n",
    "    try:\n",
    "        data = json.loads(txt)\n",
    "        name = str(data.get(\"cluster_name\",\"\")).strip()\n",
    "        definition = str(data.get(\"definition\",\"\")).strip()\n",
    "        if not name:\n",
    "            name = \"Unnamed Theme\"\n",
    "        if not definition:\n",
    "            definition = \"No definition provided.\"\n",
    "        return name, definition, txt\n",
    "    except json.JSONDecodeError:\n",
    "        # fallback: usa el texto completo como nombre\n",
    "        return txt[:60], \"LLM returned non-JSON; truncated as name.\", txt\n",
    "\n",
    "# --- agrupa codes por cluster ---\n",
    "codes_por_cluster = defaultdict(list)\n",
    "for lab, clu in zip(labels_sentiment, labels):\n",
    "    if clu == -1:\n",
    "        continue  # omite ruido\n",
    "    codes_por_cluster[int(clu)].append(lab)\n",
    "\n",
    "# --- pide nombre/definición por cluster ---\n",
    "rows = []\n",
    "for clu_id, codes_list in sorted(codes_por_cluster.items()):\n",
    "    sample = sample_codes(codes_list, k=12)\n",
    "    name, definition, raw = ask_theme_ollama(sample)\n",
    "    rows.append({\n",
    "        \"cluster_id\": clu_id,\n",
    "        \"n_items\": len(codes_list),\n",
    "        \"sampled_codes\": sample,\n",
    "        \"cluster_name\": name,\n",
    "        \"definition\": definition,\n",
    "        \"raw_llm\": raw,      # por si quieres inspeccionar lo que devolvió\n",
    "    })\n",
    "\n",
    "df_cluster_themes = pd.DataFrame(rows).sort_values(\"cluster_id\").reset_index(drop=True)\n",
    "print(df_cluster_themes[[\"cluster_id\",\"n_items\",\"cluster_name\"]])\n",
    "\n",
    "# --- mapea nombre a cada fila (alineado a labels_hdb) ---\n",
    "name_map = {row.cluster_id: row.cluster_name for _, row in df_cluster_themes.iterrows()}\n",
    "cluster_name_por_fila = [name_map.get(int(c), \"noise\") if c != -1 else \"noise\" for c in labels]\n",
    "\n",
    "# Ejemplo: si tienes un DataFrame con tus puntos, añade la columna\n",
    "# df_plot[\"cluster_name\"] = cluster_name_por_fila\n",
    "\n",
    "# Guarda opcional\n",
    "# df_cluster_themes.to_csv(\"cluster_themes.csv\", index=False, encoding=\"utf-8-sig\")\n"
   ]
  },
  {
   "cell_type": "markdown",
   "id": "afd8eb48",
   "metadata": {},
   "source": [
    "**Graficamos los clusters con nombre**"
   ]
  },
  {
   "cell_type": "code",
   "execution_count": 28,
   "id": "fb6a4f89",
   "metadata": {},
   "outputs": [
    {
     "name": "stderr",
     "output_type": "stream",
     "text": [
      "c:\\Users\\Hiram\\AppData\\Local\\Programs\\Python\\Python312\\Lib\\site-packages\\umap\\umap_.py:1952: UserWarning:\n",
      "\n",
      "n_jobs value 1 overridden to 1 by setting random_state. Use no seed for parallelism.\n",
      "\n"
     ]
    },
    {
     "data": {
      "application/vnd.plotly.v1+json": {
       "config": {
        "plotlyServerURL": "https://plot.ly"
       },
       "data": [
        {
         "customdata": [
          [
           "Positive User Experience  \n",
           "Social Connection And Emotion"
          ],
          [
           "Emotional Response To Situation  \n",
           "Social Connection And Emotion"
          ],
          [
           "Emotional Response To Product  \n",
           "Social Connection And Emotion"
          ],
          [
           "Participant Interaction Dynamics   \n",
           "Social Connection And Emotion"
          ],
          [
           "Emotional Absence  \n",
           "Social Connection And Emotion"
          ],
          [
           "Romantic Feelings Expression  \n",
           "Social Connection And Emotion"
          ],
          [
           "Customer Satisfaction With Book  \n",
           "Social Connection And Emotion"
          ],
          [
           "Relationship Dynamics  \n",
           "Social Connection And Emotion"
          ],
          [
           "Concert Experience  \n",
           "Social Connection And Emotion"
          ],
          [
           "Social Discomfort Feelings \n",
           "Social Connection And Emotion"
          ],
          [
           "Pain Management Needs  \n",
           "Social Connection And Emotion"
          ],
          [
           "Family And Affection  \n",
           "Social Connection And Emotion"
          ],
          [
           "Positive User Experience  \n",
           "Social Connection And Emotion"
          ],
          [
           "Emotional Response To Situation  \n",
           "Social Connection And Emotion"
          ],
          [
           "Emotional Response To Product  \n",
           "Social Connection And Emotion"
          ],
          [
           "Participant Interaction Dynamics   \n",
           "Social Connection And Emotion"
          ],
          [
           "Emotional Absence  \n",
           "Social Connection And Emotion"
          ],
          [
           "Romantic Feelings Expression  \n",
           "Social Connection And Emotion"
          ],
          [
           "Customer Satisfaction With Book  \n",
           "Social Connection And Emotion"
          ],
          [
           "Relationship Dynamics  \n",
           "Social Connection And Emotion"
          ],
          [
           "User Feedback On Product   \n",
           "Social Connection And Emotion"
          ],
          [
           "Expressing Affection  \n",
           "Social Connection And Emotion"
          ],
          [
           "Customer Satisfaction Expression   \n",
           "Social Connection And Emotion"
          ],
          [
           "Emotional State Gloom  \n",
           "Social Connection And Emotion"
          ],
          [
           "Concert Attendance Plans  \n",
           "Social Connection And Emotion"
          ],
          [
           "Positive User Experience  \n",
           "Social Connection And Emotion"
          ],
          [
           "Positive Sports Experience  \n",
           "Social Connection And Emotion"
          ],
          [
           "Desire For Permanence \n",
           "Social Connection And Emotion"
          ],
          [
           "Perceived User Tone   \n",
           "Social Connection And Emotion"
          ],
          [
           "Event Celebration Day  \n",
           "Social Connection And Emotion"
          ],
          [
           "Pain Seeking Behavior \n",
           "Social Connection And Emotion"
          ],
          [
           "Social Interaction Perception  \n",
           "Social Connection And Emotion"
          ],
          [
           "Emotional Attachment To Animals \n",
           "Social Connection And Emotion"
          ],
          [
           "Sibling Relationship Dynamics \n",
           "Social Connection And Emotion"
          ],
          [
           "Morning Greeting And Thanks \n",
           "Social Connection And Emotion"
          ],
          [
           "Daily Emotional Distress  \n",
           "Social Connection And Emotion"
          ],
          [
           "Positive User Response   \n",
           "Social Connection And Emotion"
          ],
          [
           "User Experience Feedback   \n",
           "Social Connection And Emotion"
          ],
          [
           "Social Gathering Interaction   \n",
           "Social Connection And Emotion"
          ],
          [
           "Parental Affection Expression   \n",
           "Social Connection And Emotion"
          ],
          [
           "Holiday Greeting Expression  \n",
           "Social Connection And Emotion"
          ],
          [
           "Emotional State Expression  \n",
           "Social Connection And Emotion"
          ],
          [
           "Affection For Mother  \n",
           "Social Connection And Emotion"
          ],
          [
           "Empathy Expression \n",
           "Social Connection And Emotion"
          ],
          [
           "Social Gathering  \n",
           "Social Connection And Emotion"
          ],
          [
           "User Feedback On Product   \n",
           "Social Connection And Emotion"
          ],
          [
           "Customer Satisfaction Expression   \n",
           "Social Connection And Emotion"
          ],
          [
           "User Satisfaction  \n",
           "Social Connection And Emotion"
          ],
          [
           "Concert Enthusiasm  \n",
           "Social Connection And Emotion"
          ],
          [
           "User Experience Feedback \n",
           "Social Connection And Emotion"
          ],
          [
           "Positive YouTube Experience  \n",
           "Social Connection And Emotion"
          ],
          [
           "Desire For Permanence \n",
           "Social Connection And Emotion"
          ],
          [
           "Perceived User Tone   \n",
           "Social Connection And Emotion"
          ],
          [
           "Pain Seeking Behavior \n",
           "Social Connection And Emotion"
          ],
          [
           "Emotional Attachment To Animals \n",
           "Social Connection And Emotion"
          ],
          [
           "Sibling Relationship Dynamics \n",
           "Social Connection And Emotion"
          ],
          [
           "Morning Greeting And Thanks \n",
           "Social Connection And Emotion"
          ],
          [
           "Performance Satisfaction  \n",
           "Social Connection And Emotion"
          ],
          [
           "Daily Emotional Distress  \n",
           "Social Connection And Emotion"
          ],
          [
           "Positive User Response   \n",
           "Social Connection And Emotion"
          ],
          [
           "User Experience Feedback   \n",
           "Social Connection And Emotion"
          ],
          [
           "Social Gathering Celebration  \n",
           "Social Connection And Emotion"
          ],
          [
           "Parental Affection Expression   \n",
           "Social Connection And Emotion"
          ],
          [
           "Holiday Greeting Expression  \n",
           "Social Connection And Emotion"
          ],
          [
           "Emotional State Expression  \n",
           "Social Connection And Emotion"
          ],
          [
           "Affection For Mother  \n",
           "Social Connection And Emotion"
          ],
          [
           "Empathy Expression \n",
           "Social Connection And Emotion"
          ],
          [
           "Social Gathering  \n",
           "Social Connection And Emotion"
          ],
          [
           "Social Gathering With Friends  \n",
           "Social Connection And Emotion"
          ],
          [
           "Disappointment Over Response  \n",
           "Social Connection And Emotion"
          ],
          [
           "User Response Simplicity   \n",
           "Social Connection And Emotion"
          ],
          [
           "Family Connection  \n",
           "Social Connection And Emotion"
          ],
          [
           "Desire For Abundance  \n",
           "Social Connection And Emotion"
          ],
          [
           "Effort And Outcome \n",
           "Social Connection And Emotion"
          ],
          [
           "Physical Discomfort Experience  \n",
           "Social Connection And Emotion"
          ],
          [
           "Tooth Pain Experience \n",
           "Social Connection And Emotion"
          ],
          [
           "Concert Enthusiasm And Dress   \n",
           "Social Connection And Emotion"
          ],
          [
           "User Satisfaction Expression   \n",
           "Social Connection And Emotion"
          ],
          [
           "Negative Product Sentiment  \n",
           "Social Connection And Emotion"
          ],
          [
           "Parental Absence Feelings  \n",
           "Social Connection And Emotion"
          ],
          [
           "Social Isolation Feelings  \n",
           "Social Connection And Emotion"
          ],
          [
           "Desire For Belonging \n",
           "Social Connection And Emotion"
          ],
          [
           "Emotional Song Lyrics \n",
           "Social Connection And Emotion"
          ],
          [
           "User Reaction To Content   \n",
           "Social Connection And Emotion"
          ],
          [
           "Positive User Response   \n",
           "Social Connection And Emotion"
          ],
          [
           "Family Celebration Plans  \n",
           "Social Connection And Emotion"
          ],
          [
           "Positive User Response  \n",
           "Social Connection And Emotion"
          ],
          [
           "Oral Physical Discomfort  \n",
           "Social Connection And Emotion"
          ],
          [
           "Disappointment With Outcome \n",
           "Social Connection And Emotion"
          ],
          [
           "Fan Excitement Concert   \n",
           "Social Connection And Emotion"
          ],
          [
           "Affectionate User Response \n",
           "Social Connection And Emotion"
          ],
          [
           "Positive User Sentiment  \n",
           "Social Connection And Emotion"
          ],
          [
           "Social Gathering Experience  \n",
           "Social Connection And Emotion"
          ],
          [
           "Shared Emotional Experience \n",
           "Social Connection And Emotion"
          ],
          [
           "Dental Health Concerns   \n",
           "Social Connection And Emotion"
          ],
          [
           "Positive User Experience  \n",
           "Social Connection And Emotion"
          ],
          [
           "Desire For Event Attendance  \n",
           "Social Connection And Emotion"
          ],
          [
           "User Emotional Response \n",
           "Social Connection And Emotion"
          ],
          [
           "Greeting And Celebration   \n",
           "Social Connection And Emotion"
          ],
          [
           "Interviewer Greeting  \n",
           "Social Connection And Emotion"
          ],
          [
           "Negative Dental Experience  \n",
           "Social Connection And Emotion"
          ],
          [
           "Social Participation Desire   \n",
           "Social Connection And Emotion"
          ],
          [
           "Greeting Exchange   \n",
           "Social Connection And Emotion"
          ],
          [
           "Job Dissatisfaction   \n",
           "Social Connection And Emotion"
          ],
          [
           "User Interaction Experience   \n",
           "Social Connection And Emotion"
          ],
          [
           "Social Interaction Avoidance   \n",
           "Social Connection And Emotion"
          ],
          [
           "Social Interaction Dynamics \n",
           "Social Connection And Emotion"
          ],
          [
           "Greeting Exchange  \n",
           "Social Connection And Emotion"
          ],
          [
           "Affectionate Greetings Exchange   \n",
           "Social Connection And Emotion"
          ],
          [
           "Maternal Affection Expression  \n",
           "Social Connection And Emotion"
          ],
          [
           "Customer Dissatisfaction   \n",
           "Social Connection And Emotion"
          ],
          [
           "Positive User Experience  \n",
           "Social Connection And Emotion"
          ],
          [
           "Social Event Desire  \n",
           "Social Connection And Emotion"
          ],
          [
           "Concert Attendance Plans \n",
           "Social Connection And Emotion"
          ],
          [
           "Frustration With Outcome   \n",
           "Social Connection And Emotion"
          ],
          [
           "Emotional Attachment To User \n",
           "Social Connection And Emotion"
          ],
          [
           "Emotional Response To Product   \n",
           "Social Connection And Emotion"
          ],
          [
           "Emotional Response To Product  \n",
           "Social Connection And Emotion"
          ],
          [
           "Sports Event Attendance  \n",
           "Social Connection And Emotion"
          ],
          [
           "Social Event Absence  \n",
           "Social Connection And Emotion"
          ],
          [
           "Negative Social Perception  \n",
           "Social Connection And Emotion"
          ],
          [
           "Emotional Response To Product \n",
           "Social Connection And Emotion"
          ]
         ],
         "hovertemplate": "theme=%{customdata[1]}<br>x1=%{x}<br>x2=%{y}<br>code=%{customdata[0]}<extra></extra>",
         "legendgroup": "Social Connection And Emotion",
         "marker": {
          "color": "#636EFA",
          "symbol": "circle"
         },
         "mode": "markers",
         "name": "Social Connection And Emotion",
         "orientation": "v",
         "showlegend": true,
         "type": "scatter",
         "x": {
          "bdata": "78HmvyDDXj8g8MI+XwVgQJH0TUBe1fg/8qDevzuYXkCph01AZSR8QFkNGL+oxyhAjPvpv1QlUj+hmb4+1O5mQC7JUkBwx/4//Dfgv41rXkC11pK/SzkSQMWc1b9HQYw/X0hWQE8u6r8Vr+W/C+iXQADhgr8koGpAp6cNv0RCfkC65co/msVaQINHV0ComUw/YXQTv59Wpb9kGItACUMiQA8WVUBd3ag/aVAnQBIdvz+5vYlA16WQvzgj17+TSLW/CxZKQJU8rr8ZufK/2B2YQOapZr93oBy/hV7LP1CeV0B56lRAowS7v2A3ND9rxRy/7zmnv4lsg0D9rh5AvsFVQLmxoj+CIipAfCeyP7B1jEBeao9Ap3ZovgW1Jr9GvUxAVrGXQGUm9r4GD9K+7W9Tv/FvR0AdOLG/+S8FvlvrUEBNMXtAZCuVQJIelz8pT+G+cnATv3KqbkAgIy2/lrUSv9nPNr6ink9AaXsNQLNd875P3IpAH+K8P99zRr/SVu+/s1VlQMekuj4ZxFJAkDVYQG25p7+8uItAAbpWQMwz3L/f8qC/cyGAQOLdbEAZy1lAcoZJQGwPIECOmNu/7Ejxv6/jiUCVUlJAqhhsvkzMvj8/c98+4XTePiYrZEB3H2dAxAiBQJo6tT4=",
          "dtype": "f4"
         },
         "xaxis": "x",
         "y": {
          "bdata": "039JvmD7lz+y5vI/1kRZP+jt8T7ssf4/PcN6P0qGrz8/LFq/e+n6Pgohw73h2wVA/3Qrvnl9lT9z6+0/T5RzP3/c3T4ClwFAFspwP7NbsT8EKf8/yCINQDEGiz8jPaA/kjVzv+PbUr6uLJa+iymvvbgKsT8Tzj2/s28ovRVrMD8ZnXE/Jua8P9q8h0AgI4A/yTkXQA8k+j+QHBK/PF0OQGPchEBQQ9E/cCQOQDiQ3T9rgQK/PUD6P7z5hT8GuJQ/hdpXvzrq/D8WVm++QRCwvYHyvT+PE+q9KnBUPz3nwj/DW4ZAnThcP1jsdT8LEBpAgoP/P6xPGb9aAQlAaT+EQG6yzT+cPQ9Ae5zXPwzLBb9hw/a+fNS8P3gKG0DZftw/1RisvMHncD+D7i29FstkvizoN7835pk/Mer/P2TTBj+N+Kk+B05DvYgRvD8zNAZAQ2EWQNqKNr8fuB9AENZJvsRjnz8TBUi/Uu8ZQFpAE0C7TAG/ObqDP9SJyL6wkGe+jjdNvxWb1j+T24JACwKIQK8Fcr6MWjW+6OqGQEq1wz7wpeg/tjPIPhlaaD81Y4hAI5d3QLlREUCxv20/uvGBvrBFqr3Pklq/CZaYPy4xnT/ZwPM/6e7nP9viUr82Xzo+xosIP0Oq8D8=",
          "dtype": "f4"
         },
         "yaxis": "y"
        },
        {
         "customdata": [
          [
           "Emotional Connection To Place  \n",
           "noise"
          ],
          [
           "Classroom Learning Experience   \n",
           "noise"
          ],
          [
           "Individual Choice Expression  \n",
           "noise"
          ],
          [
           "Sleep And Mood  \n",
           "noise"
          ],
          [
           "Positive Baby Interactions  \n",
           "noise"
          ],
          [
           "Conceptual Metaphor Usage  \n",
           "noise"
          ],
          [
           "Ink Supply Depletion  \n",
           "noise"
          ],
          [
           "Vocal Impairment Impact  \n",
           "noise"
          ],
          [
           "User Request For Privacy  \n",
           "noise"
          ],
          [
           "User Disinterest  \n",
           "noise"
          ],
          [
           "Recent Illness Experience  \n",
           "noise"
          ],
          [
           "Positive Past Employment  \n",
           "noise"
          ],
          [
           "Concern For Missing Person \n",
           "noise"
          ],
          [
           "Play Experiences With Children  \n",
           "noise"
          ],
          [
           "Household Preparation  \n",
           "noise"
          ],
          [
           "User Interface Frustration  \n",
           "noise"
          ],
          [
           "Social Reciprocity  \n",
           "noise"
          ],
          [
           "Daily Gameplay Engagement  \n",
           "noise"
          ],
          [
           "Expression Of Regret  \n",
           "noise"
          ],
          [
           "Village Internet Access  \n",
           "noise"
          ],
          [
           "Power Outage Experience  \n",
           "noise"
          ],
          [
           "Logo Perception  \n",
           "noise"
          ],
          [
           "Body Mass Index Perception \n",
           "noise"
          ],
          [
           "Positive Child Reactions   \n",
           "noise"
          ],
          [
           "Sports Team Preference \n",
           "noise"
          ],
          [
           "Urban Nostalgia Experiences   \n",
           "noise"
          ],
          [
           "Content Creation Volume  \n",
           "noise"
          ],
          [
           "Exhaustion After School  \n",
           "noise"
          ],
          [
           "Humor Perception Romance Zero   \n",
           "noise"
          ],
          [
           "Vehicle Damage Concerns \n",
           "noise"
          ],
          [
           "Emergency Response  \n",
           "noise"
          ],
          [
           "Age Perception In Salon  \n",
           "noise"
          ],
          [
           "Boredom With MusicVideo  \n",
           "noise"
          ],
          [
           "Nicotine Patch Experience  \n",
           "noise"
          ],
          [
           "Weather Preparedness  \n",
           "noise"
          ],
          [
           "Sleep Deprivation Symptoms \n",
           "noise"
          ],
          [
           "Mental Health Crisis  \n",
           "noise"
          ],
          [
           "Dream Content Description  \n",
           "noise"
          ],
          [
           "Mothers Role As Heroes  \n",
           "noise"
          ],
          [
           "Valuable Day Experience  \n",
           "noise"
          ],
          [
           "Humorous Self Deprecation   \n",
           "noise"
          ],
          [
           "Staying Current Trends  \n",
           "noise"
          ],
          [
           "Minecraft Gameplay Engagement  \n",
           "noise"
          ],
          [
           "Cloud Computing Preference  \n",
           "noise"
          ],
          [
           "Emotional Connection To Place  \n",
           "noise"
          ],
          [
           "Classroom Learning Experience   \n",
           "noise"
          ],
          [
           "Individual Choice Expression  \n",
           "noise"
          ],
          [
           "Sleep And Mood  \n",
           "noise"
          ],
          [
           "Positive Baby Interactions  \n",
           "noise"
          ],
          [
           "Conceptual Metaphor Usage  \n",
           "noise"
          ],
          [
           "Ink Supply Depletion  \n",
           "noise"
          ],
          [
           "Vocal Impairment Impact  \n",
           "noise"
          ],
          [
           "User Request For Privacy  \n",
           "noise"
          ],
          [
           "User Disinterest  \n",
           "noise"
          ],
          [
           "Recent Illness Experience  \n",
           "noise"
          ],
          [
           "Positive Past Employment  \n",
           "noise"
          ],
          [
           "Concern For Missing Person \n",
           "noise"
          ],
          [
           "Play Experiences With Children  \n",
           "noise"
          ],
          [
           "Household Preparation  \n",
           "noise"
          ],
          [
           "User Interface Frustration  \n",
           "noise"
          ],
          [
           "Social Reciprocity  \n",
           "noise"
          ],
          [
           "Daily Gameplay Engagement  \n",
           "noise"
          ],
          [
           "Expression Of Regret  \n",
           "noise"
          ],
          [
           "Village Internet Access  \n",
           "noise"
          ],
          [
           "Power Outage Experience  \n",
           "noise"
          ],
          [
           "Logo Perception  \n",
           "noise"
          ],
          [
           "Body Mass Index Perception \n",
           "noise"
          ],
          [
           "Positive Child Reactions   \n",
           "noise"
          ],
          [
           "Sports Team Preference \n",
           "noise"
          ],
          [
           "Urban Nostalgia Experiences   \n",
           "noise"
          ],
          [
           "Content Creation Volume  \n",
           "noise"
          ],
          [
           "Exhaustion After School  \n",
           "noise"
          ],
          [
           "Humor Perception Romance Zero   \n",
           "noise"
          ],
          [
           "Vehicle Damage Concerns \n",
           "noise"
          ],
          [
           "Emergency Response  \n",
           "noise"
          ],
          [
           "Age Perception In Salon  \n",
           "noise"
          ],
          [
           "Humorous Self Deprecation   \n",
           "noise"
          ],
          [
           "Device Usage Update  \n",
           "noise"
          ],
          [
           "Cricket Match Enthusiasm  \n",
           "noise"
          ],
          [
           "Cricket Match Viewing Habits  \n",
           "noise"
          ],
          [
           "Fan Expression Of Support  \n",
           "noise"
          ],
          [
           "Sensory Product Description  \n",
           "noise"
          ],
          [
           "Caffeine Consumption Desire  \n",
           "noise"
          ],
          [
           "User Identification   \n",
           "noise"
          ],
          [
           "Regretful Life Reflection   \n",
           "noise"
          ],
          [
           "Learning Machine Learning  \n",
           "noise"
          ],
          [
           "Inspection Outcome  \n",
           "noise"
          ],
          [
           "Father Figure Recognition  \n",
           "noise"
          ],
          [
           "Exam Experience  \n",
           "noise"
          ],
          [
           "Physical Attribute Exception  \n",
           "noise"
          ],
          [
           "Participant Interpretation   \n",
           "noise"
          ],
          [
           "Spa And Lunch Plans  \n",
           "noise"
          ],
          [
           "Please provide the interview segment so I can generate a thematic label. 😊  \n",
           "noise"
          ],
          [
           "Damaged Phone Screen Repair  \n",
           "noise"
          ],
          [
           "Please provide the interview segment so I can generate a thematic label. 😊  \n",
           "noise"
          ],
          [
           "Thought Process Reflection   \n",
           "noise"
          ],
          [
           "Apology Resolution Process \n",
           "noise"
          ],
          [
           "User Departure Announcement   \n",
           "noise"
          ],
          [
           "Beach Visit Experience  \n",
           "noise"
          ],
          [
           "Laptop Brightness Adjustment  \n",
           "noise"
          ],
          [
           "Transportation Arrangements  \n",
           "noise"
          ],
          [
           "Hygiene Concerns School  \n",
           "noise"
          ],
          [
           "Pricing Concerns Candy   \n",
           "noise"
          ],
          [
           "Star Wars Enthusiasm  \n",
           "noise"
          ],
          [
           "Workday Experiences  \n",
           "noise"
          ],
          [
           "Teacher Workload And Satisfaction   \n",
           "noise"
          ],
          [
           "Concern For Well Being  \n",
           "noise"
          ],
          [
           "Tumbleweed Communication  \n",
           "noise"
          ],
          [
           "Clothing Brand Recognition   \n",
           "noise"
          ],
          [
           "Product Preference Expression   \n",
           "noise"
          ],
          [
           "Time Zone Greetings \n",
           "noise"
          ],
          [
           "Self Confidence Expression   \n",
           "noise"
          ],
          [
           "Please provide the interview segment so I can generate a thematic label.  \n",
           "noise"
          ],
          [
           "Weather Impact On Work   \n",
           "noise"
          ],
          [
           "Emotional Eating Sugar Almonds  \n",
           "noise"
          ],
          [
           "Celebrity Interaction Experience   \n",
           "noise"
          ],
          [
           "Fan Enthusiasm For Nba   \n",
           "noise"
          ],
          [
           "Parking Space Accessibility  \n",
           "noise"
          ],
          [
           "Immediate Need  \n",
           "noise"
          ],
          [
           "Roommate Transition  \n",
           "noise"
          ],
          [
           "Family Bathing Experience  \n",
           "noise"
          ],
          [
           "Document Revision Process \n",
           "noise"
          ],
          [
           "Birthday Memory Recall Difficulty \n",
           "noise"
          ],
          [
           "Concern For Wellbeing \n",
           "noise"
          ],
          [
           "Humorous Self Deprecation   \n",
           "noise"
          ],
          [
           "Device Usage Update  \n",
           "noise"
          ],
          [
           "Childrens Media Consumption   \n",
           "noise"
          ],
          [
           "Physical Appearance Observation  \n",
           "noise"
          ],
          [
           "Color Preference Programming  \n",
           "noise"
          ],
          [
           "Sensory Product Description  \n",
           "noise"
          ],
          [
           "Visual Perception Differences  \n",
           "noise"
          ],
          [
           "Multitasking Student Activities  \n",
           "noise"
          ],
          [
           "Emotional Color Associations  \n",
           "noise"
          ],
          [
           "User Identification   \n",
           "noise"
          ],
          [
           "Regretful Life Reflection   \n",
           "noise"
          ],
          [
           "Product Packaging Frustration  \n",
           "noise"
          ],
          [
           "Motherly Appreciation  \n",
           "noise"
          ],
          [
           "Attractiveness Perception  \n",
           "noise"
          ],
          [
           "Media Perception Of Novelty \n",
           "noise"
          ],
          [
           "Spa And Lunch Plans  \n",
           "noise"
          ],
          [
           "Blackberry Representation  \n",
           "noise"
          ],
          [
           "Damaged Phone Screen Repair  \n",
           "noise"
          ],
          [
           "Please provide the interview segment so I can generate a thematic label. 😊  \n",
           "noise"
          ],
          [
           "Thought Process Reflection   \n",
           "noise"
          ],
          [
           "User Information Seeking \n",
           "noise"
          ],
          [
           "Apology Resolution Process \n",
           "noise"
          ],
          [
           "Celebrity Endorsement Impact  \n",
           "noise"
          ],
          [
           "User Departure Announcement   \n",
           "noise"
          ],
          [
           "Newbie User Inquiry \n",
           "noise"
          ],
          [
           "Screen Brightness Impact \n",
           "noise"
          ],
          [
           "Transportation Arrangements  \n",
           "noise"
          ],
          [
           "Social Decision Making Process   \n",
           "noise"
          ],
          [
           "Hygiene Concerns School  \n",
           "noise"
          ],
          [
           "Expressive Nonverbal Communication   \n",
           "noise"
          ],
          [
           "Bug Resolution Process \n",
           "noise"
          ],
          [
           "Learning Resources  \n",
           "noise"
          ],
          [
           "Post Work Beverage Consumption  \n",
           "noise"
          ],
          [
           "Teacher Workload And Satisfaction   \n",
           "noise"
          ],
          [
           "Workout Equipment Damage  \n",
           "noise"
          ],
          [
           "Concern For Well Being  \n",
           "noise"
          ],
          [
           "Tumbleweed Communication  \n",
           "noise"
          ],
          [
           "Clothing Brand Recognition   \n",
           "noise"
          ],
          [
           "Product Preference Expression   \n",
           "noise"
          ],
          [
           "Time Zone Greetings   \n",
           "noise"
          ],
          [
           "Self Confidence Expression   \n",
           "noise"
          ],
          [
           "Please provide the interview segment so I can generate a thematic label.  \n",
           "noise"
          ],
          [
           "Weather Impact On Work   \n",
           "noise"
          ],
          [
           "Emotional Eating Sugar Almonds  \n",
           "noise"
          ],
          [
           "Celebrity Interaction Experience   \n",
           "noise"
          ],
          [
           "Fan Enthusiasm For Nba   \n",
           "noise"
          ],
          [
           "Parking Space Accessibility  \n",
           "noise"
          ],
          [
           "Immediate Need  \n",
           "noise"
          ],
          [
           "Roommate Transition  \n",
           "noise"
          ],
          [
           "Family Bathing Experience  \n",
           "noise"
          ],
          [
           "Document Revision Process \n",
           "noise"
          ],
          [
           "Birthday Memory Recall Difficulty \n",
           "noise"
          ],
          [
           "Concern For Wellbeing \n",
           "noise"
          ],
          [
           "Media Sensationalism   \n",
           "noise"
          ],
          [
           "Cat Life Stages  \n",
           "noise"
          ],
          [
           "Play Experience Observation   \n",
           "noise"
          ],
          [
           "Transportation Difficulty  \n",
           "noise"
          ],
          [
           "Past Supportive Relationship   \n",
           "noise"
          ],
          [
           "Office Television Availability  \n",
           "noise"
          ],
          [
           "Disappointment With Product Search   \n",
           "noise"
          ],
          [
           "Workday Stress Levels  \n",
           "noise"
          ],
          [
           "Flight Cancellation Experience \n",
           "noise"
          ],
          [
           "Financial Strain Experiences \n",
           "noise"
          ],
          [
           "Post R01 Stress Levels  \n",
           "noise"
          ],
          [
           "User Evaluation Process   \n",
           "noise"
          ],
          [
           "Alertness Level Description \n",
           "noise"
          ],
          [
           "Daily Writing Schedule \n",
           "noise"
          ],
          [
           "Dog Behavioral Changes  \n",
           "noise"
          ],
          [
           "iPhone Messaging Limitations  \n",
           "noise"
          ],
          [
           "New Car Search  \n",
           "noise"
          ],
          [
           "Missed Television Event   \n",
           "noise"
          ],
          [
           "Physical Strain Impact  \n",
           "noise"
          ],
          [
           "Agreement Expression   \n",
           "noise"
          ],
          [
           "Computer Skill Preference \n",
           "noise"
          ],
          [
           "Weather And Mood Connection \n",
           "noise"
          ],
          [
           "Platform Preference Expression   \n",
           "noise"
          ],
          [
           "Shoe Size Disappointment  \n",
           "noise"
          ],
          [
           "Website Functionality Issues \n",
           "noise"
          ],
          [
           "Relocation Plans \n",
           "noise"
          ],
          [
           "Illness Symptoms  \n",
           "noise"
          ],
          [
           "Academic Research Disruption  \n",
           "noise"
          ],
          [
           "Information Seeking Behavior \n",
           "noise"
          ],
          [
           "Jewish Identity Expression   \n",
           "noise"
          ],
          [
           "App Recommendation Request \n",
           "noise"
          ],
          [
           "Delivery Timeline Expectation  \n",
           "noise"
          ],
          [
           "Missing Accessory Description \n",
           "noise"
          ],
          [
           "Anticipation Of ChildVisit  \n",
           "noise"
          ],
          [
           "Nostalgia For Elmwood   \n",
           "noise"
          ],
          [
           "Ticket Planner Functionality  \n",
           "noise"
          ],
          [
           "Participant Confidence In Outcome   \n",
           "noise"
          ],
          [
           "Age Related Perception   \n",
           "noise"
          ],
          [
           "Television Viewing Habits   \n",
           "noise"
          ],
          [
           "Social Exclusion Boba   \n",
           "noise"
          ],
          [
           "Arrival Time Uncertainty \n",
           "noise"
          ],
          [
           "BrainFreeze Experiences  \n",
           "noise"
          ],
          [
           "Character Limit Constraint  \n",
           "noise"
          ],
          [
           "Sunburn Symptoms  \n",
           "noise"
          ],
          [
           "Nail Polish Appearance Change  \n",
           "noise"
          ],
          [
           "Smoking Area Surveillance   \n",
           "noise"
          ],
          [
           "Play Pen Isolation  \n",
           "noise"
          ],
          [
           "Creative Expression Process   \n",
           "noise"
          ],
          [
           "Digital Memory Remembrance   \n",
           "noise"
          ],
          [
           "Airline Business Attraction Strategies \n",
           "noise"
          ],
          [
           "Work Avoidance Motivation  \n",
           "noise"
          ],
          [
           "Singing Talent Recognition  \n",
           "noise"
          ],
          [
           "Blood Type Specificity  \n",
           "noise"
          ],
          [
           "Time Expectation  \n",
           "noise"
          ],
          [
           "Phone Replacement Process   \n",
           "noise"
          ],
          [
           "Social Comparison Desire  \n",
           "noise"
          ],
          [
           "Food Preference Expression   \n",
           "noise"
          ],
          [
           "Shared Perspectives  \n",
           "noise"
          ],
          [
           "Packing Assistance Request  \n",
           "noise"
          ],
          [
           "Tea Consumption Preference  \n",
           "noise"
          ],
          [
           "Oral Functionality Description   \n",
           "noise"
          ],
          [
           "Pancake Preference Expression   \n",
           "noise"
          ],
          [
           "Discomfort With Footwear  \n",
           "noise"
          ],
          [
           "Electronic Key Failure  \n",
           "noise"
          ],
          [
           "Shift Work Motivation  \n",
           "noise"
          ],
          [
           "Garden Snake Encounter \n",
           "noise"
          ],
          [
           "Dog Ownership Experience  \n",
           "noise"
          ],
          [
           "Residential Location Preferences  \n",
           "noise"
          ],
          [
           "Illness Symptoms Experience   \n",
           "noise"
          ],
          [
           "Anticipation For Mcfly   \n",
           "noise"
          ],
          [
           "Passenger Mortality Experience  \n",
           "noise"
          ],
          [
           "G Reader Usage Experience \n",
           "noise"
          ],
          [
           "Writing Style Preferences  \n",
           "noise"
          ],
          [
           "Spiritual Support Seeking \n",
           "noise"
          ],
          [
           "Desire For American Life  \n",
           "noise"
          ],
          [
           "Sleep Duration Concerns   \n",
           "noise"
          ],
          [
           "Post Surgery Loneliness  \n",
           "noise"
          ],
          [
           "Anticipated Return   \n",
           "noise"
          ],
          [
           "Shopping Experience Location   \n",
           "noise"
          ],
          [
           "Emotional Resistance To Change  \n",
           "noise"
          ],
          [
           "Personal Identity Expression  \n",
           "noise"
          ],
          [
           "CAD Degree Exploration  \n",
           "noise"
          ],
          [
           "Pencil Sharpening Preferences \n",
           "noise"
          ],
          [
           "End Of Day Sentiment  \n",
           "noise"
          ],
          [
           "Companionship Desire Evening \n",
           "noise"
          ],
          [
           "Shared Kitchen Experiences   \n",
           "noise"
          ],
          [
           "Cereal Consumption Preferences  \n",
           "noise"
          ],
          [
           "User Confusion Product Drawing   \n",
           "noise"
          ],
          [
           "Daughter Gift Giving  \n",
           "noise"
          ],
          [
           "Sleep Deprivation Impact  \n",
           "noise"
          ],
          [
           "Gaming Skill Level  \n",
           "noise"
          ],
          [
           "Bug Related Injury   \n",
           "noise"
          ],
          [
           "Delayed Online Purchase Realization   \n",
           "noise"
          ],
          [
           "Actor Performance Anxiety  \n",
           "noise"
          ],
          [
           "Family Health Concerns  \n",
           "noise"
          ],
          [
           "Errands And Chores  \n",
           "noise"
          ],
          [
           "Bedroom Transformation Plan  \n",
           "noise"
          ],
          [
           "Sponsor Recognition   \n",
           "noise"
          ],
          [
           "Office Work Environment \n",
           "noise"
          ],
          [
           "Noise Level Concern  \n",
           "noise"
          ],
          [
           "Solo Homework Activity  \n",
           "noise"
          ],
          [
           "Family Poverty Rates  \n",
           "noise"
          ],
          [
           "Financial Planning Challenges  \n",
           "noise"
          ],
          [
           "Project Completion Timeline   \n",
           "noise"
          ],
          [
           "Nostalgia For Location \n",
           "noise"
          ]
         ],
         "hovertemplate": "theme=%{customdata[1]}<br>x1=%{x}<br>x2=%{y}<br>code=%{customdata[0]}<extra></extra>",
         "legendgroup": "noise",
         "marker": {
          "color": "#EF553B",
          "symbol": "circle"
         },
         "mode": "markers",
         "name": "noise",
         "orientation": "v",
         "showlegend": true,
         "type": "scatter",
         "x": {
          "bdata": "/T2dPwLIPED5ZIQ/7PsNv5U0P0B/UgFAWwZVvnDls771W5m/RTKmv28WML7KWe6/vUhbQMnfgUCwR1s/d+qmv4/0hkDSsZtAwrW8PsfGo0C//Ok9FmySQAutiEARrz5AFws4QGZg5D/WOxfA6nAbvyRaJUExnKo+OT1LPyTOgUAKdglAafdCv1GVi76pJBS/ZnHiPlC/OsBX6C1AH3qrP/fJJUFoTMA/cqOaQOG3fUBkh40/2OhBQKGgdT9hEwu/qbw8QMAZBEAmy3i+4YfNvhZNnb/lLKu/h+BTvlls87/nY1tANC2AQNqcSz9+Ia6/7y+IQD+PmkCl1r0+8jWkQHO/oT0gQJJA9BmKQFl5PUD0WDlAyN3gPyjYG8DD1iK/hbUlQbwXxT7lLkw/eHOBQFyZJUFsYZk/3Yk6QJi2H0BY+0JAKEEtP8frFz+H/56/cmrgPsBnSECxvRe/KBlfQMlDN0CSvPA+LOcKQLHsHD9KRUfAp2oUPxjKQsDVLgNAjEj1PeiCpb/16eo/dsUnP/KQHkDEXia/mKRLPw+hMkAPdHc+scG6vz4S4j76MY1AkGCWQKRlaD80pllAMF+8PzQFRMAd2WW+y6FBP/6iMUAhoDtAXyApQMdodUDTNj5AG//XP6l+T7+N4+o/N+/TPqDkJUF9ZI8/GH2EQNTEiUAVAP8/OQkuP3KejUCMH42+sKzQP+W+nr9tkfI+b9mrPko5LUAVU4ZATGBKQPfMIz+lYpNAlpAFP7azR8B6/QZAcieav1K/qT0fMT5A9LGovx8qrb/5ffU+b2AiQEhiiEAauBa/pg7cP3xIA79uGEhAYbzjPsAFt7/aT8w+dczTPs3ZjECZGpVADyxnP0dsWUCglL0/IdVEwJpbfr4uYTs/zNkyQKHzOkChISpAGP93QHJ8PED7OtM/j39mvwIm6T/GUOM++1KfQBXbtj/8CIFAQmwkQC0yVkCPUBNAJfsOv/QIab3nHQZAKVn9PiDiRL5IN5W/ya9ivLXcBD1uzMQ/BYOZQFVVCL94xl9AWKelPlzzhz9Yx35AQv7NvjEGez+GLNC+fuCzv/lALUCUkWW+njf9PztzVr9gRqs/pRSpv8ULkz/iDRU/qw+6P9cr5T/1WjdAJyHBP8oih0BcGRZA8Y58QMDQkD+lXgq//G6hQHIfcr4CkHxANmpRv5yGikA8Bts/pXzfP/ttFkD9hwM+kZ0eQK1h3j+9/YU/f0dLPylZhkDZMoA/24wQQN3WIUCo5Q8/SSjkPk3QiD9PU6u+1IkyP4MLUz6PJ4xAqN7BPzRyJ0Bzv1q+LVm8P0aOD0B14+O/efsPQGNXl0BPnpRAbEAVv0hlckDvclC+1HDwP8P6sD94XJ0/cqMmQHkVdUAnp+u9QRCXQMDReD8P4F8/1liKvwnAJUAa//6+pXiFQGeARD2ONI0/fqwtQLeNMj4VhMG6wJM5QK73S0CyS+o9t+kYv4LyJ76xSkVAz4/KPzfAKj8NtO8/",
          "dtype": "f4"
         },
         "xaxis": "x",
         "y": {
          "bdata": "5cWIP802GcCgNS5Ac6W3vy6UIUAx0Ls/TGk+v2kceb+MXzdAe9Y/QL3MUD0SXoW86zS+PvnWI8BgjVjAXzLvP0fxHTzWyynA4QWcPxaOfb/hZnO/cni8P03hwj+9QiJAde+av0hTHMBqaBo/hHaJvziAgT8A5hw+DKo9P1C/pj/XLTy+ZCtzO8g+9L+7Cp+/xEDrPtWhET9GBAxAj7IRwIkGhT+TbpC/6RkpwDQx87/A4Y0/9sYWwHVDK0Dkvbe/xsEfQIOAwD9JBDe/jKR7v+W5NUDQjj1AC5B9PPTcbL3BMbs+CfUlwKHvVMB11uQ/BHZzvdGNKMBUHpw/MyuCvyNYcb8Hfb0/wVDGPxXGIkDUOKG/wu8bwJ+qHz9pRJG/7K+DP7Losz0Ja00/tMqoP2xtgz/oY+K9YzCUvxFkpL/Q3Im/WW4oQNwqqL+xTzxASKOWP7xRBMDuKj0/DaDnP7NpG8Cln7o+IyCwP0rlTsD4agA/kbNQPTN6BT/sibQ/41+PP780QUC+RGHAQPkQvpTcgsD+0xC/gHoPQJXDhb+KohfAa94rP3esIb9Hx66/rPS2P7nOLkAIkIhA9KADQO2uDD/XE/m/kpfsP8+KHr8YxZS/e0iIwHqXDL6XVXHA0UpbwBcbKT8dd/6/uT47v6t8hT9zOq+9WPsMwCbnyz/DKig/FtkpQN4Suz/mOVHAfQ+EP+EmOkC/1Zw/vT36P1xDEUBpbro/II8CvlWaUMAJAL2/wPWqPU5Q/T6uZbU/bl8pQI7XhD8XvD+/iR9EQNvcCED8iiW+gJGFwJDOVD1Ncx6/6yP3PxseIj82IgnAos7Qv5EiKT+KJBg+sNkwv482sr+w27s/IEUzQHiAiEA98wNAo54IP5nb97/JlPI/JgIav2hpl79S04jAwnMEvjoObcB2V1nA4LQeP6O6AMD/hym/4SwJwJs/+b5GaSXAQJWJwMpguD+z0KW/8VjdP5lSAcAL2mLAz72ZvnRd4L6voKQ/XwzgP/oAPMCBqCw/Sm3bv/ZptD9OoDK/LDvSPOzbIUCB1v2/Npfiv7l5M0BziFY/rZPkP+00fcDu5iK85OfGv+jEDkAWmxZAf9oMQBLwwr8DkiZA9S2IvxjsIMAqjMe/twECQESTtT/ZTJW/+hGZPiIhxb/R4py/VcP0v582Mb5InLc/+7frPR80J8BGHOU/YjAEwPldccAqEA3AG90Ov2hneT/2Isy/4YZEvJqBZj6/9TBAL9NcPyV1hcB9GbG/yZERQDPoM0ALJR0++HMSPy4QDsBsuoq/xv05P1RXasBHWju9nXedv3hGcsCn0Us/TbO7PnTADb/WAGQ9r0ivv0rbzz4yR6c/6Wg3wN2QYr+oDxVAXfgwwFol7r9fdPU/iFIQvcVkXMCUXw5ADDABQF9jFUA0P6K/NSwdwPpogD5SBsi/POW3vidPHb8diT/AXsBvwE9Hnr/qNgzAFc2zP2GyUcDYLd0/ciA6wFp7IMC2lyvA",
          "dtype": "f4"
         },
         "yaxis": "y"
        },
        {
         "customdata": [
          [
           "Boat Travel Experience  \n",
           "Social Identity Formation"
          ],
          [
           "Musical Preference Expression  \n",
           "Social Identity Formation"
          ],
          [
           "Travel Destination Preference  \n",
           "Social Identity Formation"
          ],
          [
           "Academic Achievement  \n",
           "Social Identity Formation"
          ],
          [
           "Communication Preference   \n",
           "Social Identity Formation"
          ],
          [
           "Boat Travel Experience  \n",
           "Social Identity Formation"
          ],
          [
           "Musical Preference Expression  \n",
           "Social Identity Formation"
          ],
          [
           "Travel Destination Preference  \n",
           "Social Identity Formation"
          ],
          [
           "Academic Achievement  \n",
           "Social Identity Formation"
          ],
          [
           "Communication Preference   \n",
           "Social Identity Formation"
          ],
          [
           "Student Transportation Preferences  \n",
           "Social Identity Formation"
          ],
          [
           "Musical Expression  \n",
           "Social Identity Formation"
          ],
          [
           "Achievement Recognition  \n",
           "Social Identity Formation"
          ],
          [
           "Social Media Following Limits  \n",
           "Social Identity Formation"
          ],
          [
           "Aspirational Educational Goals \n",
           "Social Identity Formation"
          ],
          [
           "Need For Presence  \n",
           "Social Identity Formation"
          ],
          [
           "Educational Aspirations  \n",
           "Social Identity Formation"
          ],
          [
           "Language Communication Preference  \n",
           "Social Identity Formation"
          ],
          [
           "Educational Achievement  \n",
           "Social Identity Formation"
          ],
          [
           "Social Media Engagement  \n",
           "Social Identity Formation"
          ],
          [
           "Social Media Engagement  \n",
           "Social Identity Formation"
          ],
          [
           "Movie Preference Expression \n",
           "Social Identity Formation"
          ],
          [
           "Travel Planning Experiences \n",
           "Social Identity Formation"
          ],
          [
           "Student Transportation Preferences  \n",
           "Social Identity Formation"
          ],
          [
           "Fever And Music Preference  \n",
           "Social Identity Formation"
          ],
          [
           "Actor Preference Satisfaction  \n",
           "Social Identity Formation"
          ],
          [
           "Social Media Following Limits  \n",
           "Social Identity Formation"
          ],
          [
           "Desire For Travel Destination \n",
           "Social Identity Formation"
          ],
          [
           "Social Media Engagement  \n",
           "Social Identity Formation"
          ],
          [
           "Social Media Engagement  \n",
           "Social Identity Formation"
          ],
          [
           "Movie Preference Expression \n",
           "Social Identity Formation"
          ],
          [
           "Social Media Debut  \n",
           "Social Identity Formation"
          ],
          [
           "Social Media Engagement  \n",
           "Social Identity Formation"
          ],
          [
           "Social Media Preference  \n",
           "Social Identity Formation"
          ],
          [
           "Social Media Engagement  \n",
           "Social Identity Formation"
          ],
          [
           "Social Media Connection   \n",
           "Social Identity Formation"
          ],
          [
           "Social Media Awareness Gap \n",
           "Social Identity Formation"
          ],
          [
           "Social Connection Needs  \n",
           "Social Identity Formation"
          ],
          [
           "Hunger On Social Media \n",
           "Social Identity Formation"
          ],
          [
           "Social Media Usage  \n",
           "Social Identity Formation"
          ],
          [
           "Social Media Presence  \n",
           "Social Identity Formation"
          ],
          [
           "Public Recognition And Accomplishments \n",
           "Social Identity Formation"
          ],
          [
           "Social Connection Through Location  \n",
           "Social Identity Formation"
          ],
          [
           "Social Media Recognition   \n",
           "Social Identity Formation"
          ],
          [
           "Social Connection Support  \n",
           "Social Identity Formation"
          ],
          [
           "Social Media Engagement   \n",
           "Social Identity Formation"
          ],
          [
           "Social Media Engagement  \n",
           "Social Identity Formation"
          ],
          [
           "Travel Aspirations   \n",
           "Social Identity Formation"
          ],
          [
           "Social Music Preference  \n",
           "Social Identity Formation"
          ],
          [
           "Music Preference During Travel  \n",
           "Social Identity Formation"
          ],
          [
           "Social Group Affiliation   \n",
           "Social Identity Formation"
          ],
          [
           "Music Preference Exploration   \n",
           "Social Identity Formation"
          ],
          [
           "Social Media Platform Use \n",
           "Social Identity Formation"
          ],
          [
           "Music Consumption Habits   \n",
           "Social Identity Formation"
          ],
          [
           "Self Empowerment Aspirations \n",
           "Social Identity Formation"
          ],
          [
           "Social Media Sharing  \n",
           "Social Identity Formation"
          ]
         ],
         "hovertemplate": "theme=%{customdata[1]}<br>x1=%{x}<br>x2=%{y}<br>code=%{customdata[0]}<extra></extra>",
         "legendgroup": "Social Identity Formation",
         "marker": {
          "color": "#00CC96",
          "symbol": "circle"
         },
         "mode": "markers",
         "name": "Social Identity Formation",
         "orientation": "v",
         "showlegend": true,
         "type": "scatter",
         "x": {
          "bdata": "YGkLQJj5EED4jRtAGgooQNJdiEA4ygZAvnEPQCbCFkCetCdAKTCLQHnrHUAjeA1AWXotQFWhpEAd0iZAMSRwQFn1LkBBaYlAUFQsQD0Pr0DC6rBASSIjQHfFEEDjaR5AbMsJQD+LKEDle6VAHBYcQLCXr0AjVK9AQ74aQM/qrECXULFAqcapQC9hskBjWKdAo4erQILRm0CToKlA2o6tQPX+rECA2ThAv0CiQAGJq0BV1ZxA+HywQM/GrkDIch1AKn0OQPewDUCPlZhAcnUOQCVCsEAt+QFAuwY3QOISsEA=",
          "dtype": "f4"
         },
         "xaxis": "x",
         "y": {
          "bdata": "qyVuwKd78z3m0nHARPITwEVux78BuWvADRZOPi/bdsBVSxTA/dDFv0CEfMDmCYQ+5XkJwPkV9L/teB/A05IvvvzZKMB0rc2/+LkawJ+MIMCJdyHA0O+gPgK1bsCMRoHAY+QOvUpYQT6vhe2/+iBwwKgVH8CIFx/AmB2EPh5F67+5UyPARCn3vw3GGsC7g7u/j9fqv+j+UL801O+/w93xv0Rq4r+MwNy/9WaAvzGW4L8c0k6/UDIgwLWfIsDjJGjAPX1evdwY9rxJK0G/DPKHutaL+b866xq+uhEnwAxd+b8=",
          "dtype": "f4"
         },
         "yaxis": "y"
        },
        {
         "customdata": [
          [
           "Morning Running Preference \n",
           "Daily Life And Leisure"
          ],
          [
           "Availability Constraints \n",
           "Daily Life And Leisure"
          ],
          [
           "Anticipation For Fall   \n",
           "Daily Life And Leisure"
          ],
          [
           "Morning Routine Activities \n",
           "Daily Life And Leisure"
          ],
          [
           "Anticipation Of Enjoyment  \n",
           "Daily Life And Leisure"
          ],
          [
           "Morning Running Preference \n",
           "Daily Life And Leisure"
          ],
          [
           "Availability Constraints \n",
           "Daily Life And Leisure"
          ],
          [
           "Morning Routine Activities \n",
           "Daily Life And Leisure"
          ],
          [
           "Anticipation Of Change  \n",
           "Daily Life And Leisure"
          ],
          [
           "Work Schedule Preferences \n",
           "Daily Life And Leisure"
          ],
          [
           "Daily Routine Activities   \n",
           "Daily Life And Leisure"
          ],
          [
           "Motivational Film Experience  \n",
           "Daily Life And Leisure"
          ],
          [
           "Leisure Activities Enjoyment   \n",
           "Daily Life And Leisure"
          ],
          [
           "Work Schedule Constraints \n",
           "Daily Life And Leisure"
          ],
          [
           "Morning Routine Activities \n",
           "Daily Life And Leisure"
          ],
          [
           "Anticipation Of Change  \n",
           "Daily Life And Leisure"
          ],
          [
           "Morning Routine Activities \n",
           "Daily Life And Leisure"
          ],
          [
           "Anticipation Of Change  \n",
           "Daily Life And Leisure"
          ],
          [
           "Entertainment Consumption Experience  \n",
           "Daily Life And Leisure"
          ],
          [
           "Work Schedule Preferences   \n",
           "Daily Life And Leisure"
          ],
          [
           "Daily Routine Activities   \n",
           "Daily Life And Leisure"
          ],
          [
           "Leisure Activities Enjoyment   \n",
           "Daily Life And Leisure"
          ],
          [
           "Work Schedule Constraints \n",
           "Daily Life And Leisure"
          ],
          [
           "Anticipation For Event   \n",
           "Daily Life And Leisure"
          ],
          [
           "Daily Activities  \n",
           "Daily Life And Leisure"
          ],
          [
           "Weekend Schedule Conflicts \n",
           "Daily Life And Leisure"
          ],
          [
           "Leisure Activity Plans  \n",
           "Daily Life And Leisure"
          ],
          [
           "Competition Outcome Anticipation   \n",
           "Daily Life And Leisure"
          ],
          [
           "Weekend Work Schedule  \n",
           "Daily Life And Leisure"
          ],
          [
           "Movie Viewing Experience  \n",
           "Daily Life And Leisure"
          ],
          [
           "Weekend Activity Limitations \n",
           "Daily Life And Leisure"
          ],
          [
           "Work Obligations  \n",
           "Daily Life And Leisure"
          ],
          [
           "Time Tracking Experience  \n",
           "Daily Life And Leisure"
          ],
          [
           "Time Constraints And Obligations   \n",
           "Daily Life And Leisure"
          ],
          [
           "Weekend Dining Plans  \n",
           "Daily Life And Leisure"
          ],
          [
           "Time Management Strategies  \n",
           "Daily Life And Leisure"
          ],
          [
           "Work Week Completion   \n",
           "Daily Life And Leisure"
          ],
          [
           "Weekend Leisure Activities  \n",
           "Daily Life And Leisure"
          ],
          [
           "Daily Routines And Obligations  \n",
           "Daily Life And Leisure"
          ]
         ],
         "hovertemplate": "theme=%{customdata[1]}<br>x1=%{x}<br>x2=%{y}<br>code=%{customdata[0]}<extra></extra>",
         "legendgroup": "Daily Life And Leisure",
         "marker": {
          "color": "#AB63FA",
          "symbol": "circle"
         },
         "mode": "markers",
         "name": "Daily Life And Leisure",
         "orientation": "v",
         "showlegend": true,
         "type": "scatter",
         "x": {
          "bdata": "SwQcv3c1LD/Di6g/q/ocv0ObsD+zoB+/O9IdP1JnDb/nYbM/dQKXPhOE3L5E1xpA0HWTP9MK1D6o8w6//+yqP+2pAb8Pfao/hiUWQDB5mj5v1cS+KvWRPwdtzz7PSKw/XhBdvmROwD5QPyU/nk6dP4mwzT5F3xVARaXnPjD4LT6MZYs/fFkLP/P5CT8Osz8/fe++PgHQHj/HEBi+",
          "dtype": "f4"
         },
         "xaxis": "x",
         "y": {
          "bdata": "x41cwNnVDsDgM5G/guZawFDdsr/oM13AvTgTwAQvWsCi3IW/7sMpwMhIVsA8fFO/1+YkwBF2I8DxWFrAaoeJvygMXcCHcJC/2RSgv/vvKcA7IVPAcQsmwAyAI8BI96K/jK9OwHHeNsBEekTAFnaDv1YZO8CcWX6/7R09wKXZKcDwUQDAcwwdwHPdRsDjnCLAJqkuwG0nQ8CRlkHA",
          "dtype": "f4"
         },
         "yaxis": "y"
        }
       ],
       "layout": {
        "legend": {
         "orientation": "h",
         "title": {
          "text": "Themes"
         },
         "tracegroupgap": 0,
         "x": 0.5,
         "xanchor": "center",
         "y": -0.25,
         "yanchor": "bottom"
        },
        "margin": {
         "t": 60
        },
        "template": {
         "data": {
          "bar": [
           {
            "error_x": {
             "color": "#2a3f5f"
            },
            "error_y": {
             "color": "#2a3f5f"
            },
            "marker": {
             "line": {
              "color": "#E5ECF6",
              "width": 0.5
             },
             "pattern": {
              "fillmode": "overlay",
              "size": 10,
              "solidity": 0.2
             }
            },
            "type": "bar"
           }
          ],
          "barpolar": [
           {
            "marker": {
             "line": {
              "color": "#E5ECF6",
              "width": 0.5
             },
             "pattern": {
              "fillmode": "overlay",
              "size": 10,
              "solidity": 0.2
             }
            },
            "type": "barpolar"
           }
          ],
          "carpet": [
           {
            "aaxis": {
             "endlinecolor": "#2a3f5f",
             "gridcolor": "white",
             "linecolor": "white",
             "minorgridcolor": "white",
             "startlinecolor": "#2a3f5f"
            },
            "baxis": {
             "endlinecolor": "#2a3f5f",
             "gridcolor": "white",
             "linecolor": "white",
             "minorgridcolor": "white",
             "startlinecolor": "#2a3f5f"
            },
            "type": "carpet"
           }
          ],
          "choropleth": [
           {
            "colorbar": {
             "outlinewidth": 0,
             "ticks": ""
            },
            "type": "choropleth"
           }
          ],
          "contour": [
           {
            "colorbar": {
             "outlinewidth": 0,
             "ticks": ""
            },
            "colorscale": [
             [
              0,
              "#0d0887"
             ],
             [
              0.1111111111111111,
              "#46039f"
             ],
             [
              0.2222222222222222,
              "#7201a8"
             ],
             [
              0.3333333333333333,
              "#9c179e"
             ],
             [
              0.4444444444444444,
              "#bd3786"
             ],
             [
              0.5555555555555556,
              "#d8576b"
             ],
             [
              0.6666666666666666,
              "#ed7953"
             ],
             [
              0.7777777777777778,
              "#fb9f3a"
             ],
             [
              0.8888888888888888,
              "#fdca26"
             ],
             [
              1,
              "#f0f921"
             ]
            ],
            "type": "contour"
           }
          ],
          "contourcarpet": [
           {
            "colorbar": {
             "outlinewidth": 0,
             "ticks": ""
            },
            "type": "contourcarpet"
           }
          ],
          "heatmap": [
           {
            "colorbar": {
             "outlinewidth": 0,
             "ticks": ""
            },
            "colorscale": [
             [
              0,
              "#0d0887"
             ],
             [
              0.1111111111111111,
              "#46039f"
             ],
             [
              0.2222222222222222,
              "#7201a8"
             ],
             [
              0.3333333333333333,
              "#9c179e"
             ],
             [
              0.4444444444444444,
              "#bd3786"
             ],
             [
              0.5555555555555556,
              "#d8576b"
             ],
             [
              0.6666666666666666,
              "#ed7953"
             ],
             [
              0.7777777777777778,
              "#fb9f3a"
             ],
             [
              0.8888888888888888,
              "#fdca26"
             ],
             [
              1,
              "#f0f921"
             ]
            ],
            "type": "heatmap"
           }
          ],
          "histogram": [
           {
            "marker": {
             "pattern": {
              "fillmode": "overlay",
              "size": 10,
              "solidity": 0.2
             }
            },
            "type": "histogram"
           }
          ],
          "histogram2d": [
           {
            "colorbar": {
             "outlinewidth": 0,
             "ticks": ""
            },
            "colorscale": [
             [
              0,
              "#0d0887"
             ],
             [
              0.1111111111111111,
              "#46039f"
             ],
             [
              0.2222222222222222,
              "#7201a8"
             ],
             [
              0.3333333333333333,
              "#9c179e"
             ],
             [
              0.4444444444444444,
              "#bd3786"
             ],
             [
              0.5555555555555556,
              "#d8576b"
             ],
             [
              0.6666666666666666,
              "#ed7953"
             ],
             [
              0.7777777777777778,
              "#fb9f3a"
             ],
             [
              0.8888888888888888,
              "#fdca26"
             ],
             [
              1,
              "#f0f921"
             ]
            ],
            "type": "histogram2d"
           }
          ],
          "histogram2dcontour": [
           {
            "colorbar": {
             "outlinewidth": 0,
             "ticks": ""
            },
            "colorscale": [
             [
              0,
              "#0d0887"
             ],
             [
              0.1111111111111111,
              "#46039f"
             ],
             [
              0.2222222222222222,
              "#7201a8"
             ],
             [
              0.3333333333333333,
              "#9c179e"
             ],
             [
              0.4444444444444444,
              "#bd3786"
             ],
             [
              0.5555555555555556,
              "#d8576b"
             ],
             [
              0.6666666666666666,
              "#ed7953"
             ],
             [
              0.7777777777777778,
              "#fb9f3a"
             ],
             [
              0.8888888888888888,
              "#fdca26"
             ],
             [
              1,
              "#f0f921"
             ]
            ],
            "type": "histogram2dcontour"
           }
          ],
          "mesh3d": [
           {
            "colorbar": {
             "outlinewidth": 0,
             "ticks": ""
            },
            "type": "mesh3d"
           }
          ],
          "parcoords": [
           {
            "line": {
             "colorbar": {
              "outlinewidth": 0,
              "ticks": ""
             }
            },
            "type": "parcoords"
           }
          ],
          "pie": [
           {
            "automargin": true,
            "type": "pie"
           }
          ],
          "scatter": [
           {
            "fillpattern": {
             "fillmode": "overlay",
             "size": 10,
             "solidity": 0.2
            },
            "type": "scatter"
           }
          ],
          "scatter3d": [
           {
            "line": {
             "colorbar": {
              "outlinewidth": 0,
              "ticks": ""
             }
            },
            "marker": {
             "colorbar": {
              "outlinewidth": 0,
              "ticks": ""
             }
            },
            "type": "scatter3d"
           }
          ],
          "scattercarpet": [
           {
            "marker": {
             "colorbar": {
              "outlinewidth": 0,
              "ticks": ""
             }
            },
            "type": "scattercarpet"
           }
          ],
          "scattergeo": [
           {
            "marker": {
             "colorbar": {
              "outlinewidth": 0,
              "ticks": ""
             }
            },
            "type": "scattergeo"
           }
          ],
          "scattergl": [
           {
            "marker": {
             "colorbar": {
              "outlinewidth": 0,
              "ticks": ""
             }
            },
            "type": "scattergl"
           }
          ],
          "scattermap": [
           {
            "marker": {
             "colorbar": {
              "outlinewidth": 0,
              "ticks": ""
             }
            },
            "type": "scattermap"
           }
          ],
          "scattermapbox": [
           {
            "marker": {
             "colorbar": {
              "outlinewidth": 0,
              "ticks": ""
             }
            },
            "type": "scattermapbox"
           }
          ],
          "scatterpolar": [
           {
            "marker": {
             "colorbar": {
              "outlinewidth": 0,
              "ticks": ""
             }
            },
            "type": "scatterpolar"
           }
          ],
          "scatterpolargl": [
           {
            "marker": {
             "colorbar": {
              "outlinewidth": 0,
              "ticks": ""
             }
            },
            "type": "scatterpolargl"
           }
          ],
          "scatterternary": [
           {
            "marker": {
             "colorbar": {
              "outlinewidth": 0,
              "ticks": ""
             }
            },
            "type": "scatterternary"
           }
          ],
          "surface": [
           {
            "colorbar": {
             "outlinewidth": 0,
             "ticks": ""
            },
            "colorscale": [
             [
              0,
              "#0d0887"
             ],
             [
              0.1111111111111111,
              "#46039f"
             ],
             [
              0.2222222222222222,
              "#7201a8"
             ],
             [
              0.3333333333333333,
              "#9c179e"
             ],
             [
              0.4444444444444444,
              "#bd3786"
             ],
             [
              0.5555555555555556,
              "#d8576b"
             ],
             [
              0.6666666666666666,
              "#ed7953"
             ],
             [
              0.7777777777777778,
              "#fb9f3a"
             ],
             [
              0.8888888888888888,
              "#fdca26"
             ],
             [
              1,
              "#f0f921"
             ]
            ],
            "type": "surface"
           }
          ],
          "table": [
           {
            "cells": {
             "fill": {
              "color": "#EBF0F8"
             },
             "line": {
              "color": "white"
             }
            },
            "header": {
             "fill": {
              "color": "#C8D4E3"
             },
             "line": {
              "color": "white"
             }
            },
            "type": "table"
           }
          ]
         },
         "layout": {
          "annotationdefaults": {
           "arrowcolor": "#2a3f5f",
           "arrowhead": 0,
           "arrowwidth": 1
          },
          "autotypenumbers": "strict",
          "coloraxis": {
           "colorbar": {
            "outlinewidth": 0,
            "ticks": ""
           }
          },
          "colorscale": {
           "diverging": [
            [
             0,
             "#8e0152"
            ],
            [
             0.1,
             "#c51b7d"
            ],
            [
             0.2,
             "#de77ae"
            ],
            [
             0.3,
             "#f1b6da"
            ],
            [
             0.4,
             "#fde0ef"
            ],
            [
             0.5,
             "#f7f7f7"
            ],
            [
             0.6,
             "#e6f5d0"
            ],
            [
             0.7,
             "#b8e186"
            ],
            [
             0.8,
             "#7fbc41"
            ],
            [
             0.9,
             "#4d9221"
            ],
            [
             1,
             "#276419"
            ]
           ],
           "sequential": [
            [
             0,
             "#0d0887"
            ],
            [
             0.1111111111111111,
             "#46039f"
            ],
            [
             0.2222222222222222,
             "#7201a8"
            ],
            [
             0.3333333333333333,
             "#9c179e"
            ],
            [
             0.4444444444444444,
             "#bd3786"
            ],
            [
             0.5555555555555556,
             "#d8576b"
            ],
            [
             0.6666666666666666,
             "#ed7953"
            ],
            [
             0.7777777777777778,
             "#fb9f3a"
            ],
            [
             0.8888888888888888,
             "#fdca26"
            ],
            [
             1,
             "#f0f921"
            ]
           ],
           "sequentialminus": [
            [
             0,
             "#0d0887"
            ],
            [
             0.1111111111111111,
             "#46039f"
            ],
            [
             0.2222222222222222,
             "#7201a8"
            ],
            [
             0.3333333333333333,
             "#9c179e"
            ],
            [
             0.4444444444444444,
             "#bd3786"
            ],
            [
             0.5555555555555556,
             "#d8576b"
            ],
            [
             0.6666666666666666,
             "#ed7953"
            ],
            [
             0.7777777777777778,
             "#fb9f3a"
            ],
            [
             0.8888888888888888,
             "#fdca26"
            ],
            [
             1,
             "#f0f921"
            ]
           ]
          },
          "colorway": [
           "#636efa",
           "#EF553B",
           "#00cc96",
           "#ab63fa",
           "#FFA15A",
           "#19d3f3",
           "#FF6692",
           "#B6E880",
           "#FF97FF",
           "#FECB52"
          ],
          "font": {
           "color": "#2a3f5f"
          },
          "geo": {
           "bgcolor": "white",
           "lakecolor": "white",
           "landcolor": "#E5ECF6",
           "showlakes": true,
           "showland": true,
           "subunitcolor": "white"
          },
          "hoverlabel": {
           "align": "left"
          },
          "hovermode": "closest",
          "mapbox": {
           "style": "light"
          },
          "paper_bgcolor": "white",
          "plot_bgcolor": "#E5ECF6",
          "polar": {
           "angularaxis": {
            "gridcolor": "white",
            "linecolor": "white",
            "ticks": ""
           },
           "bgcolor": "#E5ECF6",
           "radialaxis": {
            "gridcolor": "white",
            "linecolor": "white",
            "ticks": ""
           }
          },
          "scene": {
           "xaxis": {
            "backgroundcolor": "#E5ECF6",
            "gridcolor": "white",
            "gridwidth": 2,
            "linecolor": "white",
            "showbackground": true,
            "ticks": "",
            "zerolinecolor": "white"
           },
           "yaxis": {
            "backgroundcolor": "#E5ECF6",
            "gridcolor": "white",
            "gridwidth": 2,
            "linecolor": "white",
            "showbackground": true,
            "ticks": "",
            "zerolinecolor": "white"
           },
           "zaxis": {
            "backgroundcolor": "#E5ECF6",
            "gridcolor": "white",
            "gridwidth": 2,
            "linecolor": "white",
            "showbackground": true,
            "ticks": "",
            "zerolinecolor": "white"
           }
          },
          "shapedefaults": {
           "line": {
            "color": "#2a3f5f"
           }
          },
          "ternary": {
           "aaxis": {
            "gridcolor": "white",
            "linecolor": "white",
            "ticks": ""
           },
           "baxis": {
            "gridcolor": "white",
            "linecolor": "white",
            "ticks": ""
           },
           "bgcolor": "#E5ECF6",
           "caxis": {
            "gridcolor": "white",
            "linecolor": "white",
            "ticks": ""
           }
          },
          "title": {
           "x": 0.05
          },
          "xaxis": {
           "automargin": true,
           "gridcolor": "white",
           "linecolor": "white",
           "ticks": "",
           "title": {
            "standoff": 15
           },
           "zerolinecolor": "white",
           "zerolinewidth": 2
          },
          "yaxis": {
           "automargin": true,
           "gridcolor": "white",
           "linecolor": "white",
           "ticks": "",
           "title": {
            "standoff": 15
           },
           "zerolinecolor": "white",
           "zerolinewidth": 2
          }
         }
        },
        "xaxis": {
         "anchor": "y",
         "domain": [
          0,
          1
         ],
         "title": {
          "text": "x1"
         }
        },
        "yaxis": {
         "anchor": "x",
         "domain": [
          0,
          1
         ],
         "title": {
          "text": "x2"
         }
        }
       }
      }
     },
     "metadata": {},
     "output_type": "display_data"
    }
   ],
   "source": [
    "# pip install umap-learn plotly\n",
    "import numpy as np\n",
    "import pandas as pd\n",
    "import plotly.express as px\n",
    "import plotly.graph_objects as go\n",
    "from umap import UMAP\n",
    "\n",
    "# 1) Proyección a 2D (solo para visualizar)\n",
    "X2 = UMAP(n_components=2, metric=\"cosine\", random_state=42).fit_transform(sentiment_embedded)\n",
    "\n",
    "# 2) Construye la lista de nombres de tema por punto\n",
    "if 'cluster_name_por_fila' in globals():\n",
    "    themes = cluster_name_por_fila  # ya la tienes de la celda anterior\n",
    "else:\n",
    "    # map desde df_cluster_themes\n",
    "    name_map = {int(r.cluster_id): r.cluster_name for _, r in df_cluster_themes.iterrows()}\n",
    "    themes = [name_map.get(int(c), \"noise\") if c != -1 else \"noise\" for c in labels_hdb]\n",
    "\n",
    "# 3) DataFrame para plotear\n",
    "df_plot = pd.DataFrame({\n",
    "    \"x1\": X2[:, 0],\n",
    "    \"x2\": X2[:, 1],\n",
    "    \"theme\": themes,                 # nombre del cluster\n",
    "    \"code\": labels_sentiment,        # tu label/código por punto\n",
    "})\n",
    "\n",
    "# 4) Scatter coloreado por tema con hover (code + theme)\n",
    "fig = px.scatter(\n",
    "    df_plot, x=\"x1\", y=\"x2\",\n",
    "    color=\"theme\",\n",
    "    hover_data=[\"code\", \"theme\"],\n",
    "    color_discrete_sequence=px.colors.qualitative.Plotly\n",
    ")\n",
    "\n",
    "# (Opcional) Si quieres que el \"ruido\" se llame noise siempre:\n",
    "# df_plot[\"theme\"] = df_plot[\"theme\"].astype(str)\n",
    "\n",
    "fig.update_layout(\n",
    "    xaxis_title=\"x1\", yaxis_title=\"x2\",\n",
    "    legend_title_text=\"Themes\",\n",
    "    legend=dict(orientation=\"h\", yanchor=\"bottom\", y=-0.25, xanchor=\"center\", x=0.5)\n",
    ")\n",
    "\n",
    "\n",
    "\n",
    "fig.show()\n"
   ]
  }
 ],
 "metadata": {
  "kernelspec": {
   "display_name": "Python 3",
   "language": "python",
   "name": "python3"
  },
  "language_info": {
   "codemirror_mode": {
    "name": "ipython",
    "version": 3
   },
   "file_extension": ".py",
   "mimetype": "text/x-python",
   "name": "python",
   "nbconvert_exporter": "python",
   "pygments_lexer": "ipython3",
   "version": "3.12.10"
  }
 },
 "nbformat": 4,
 "nbformat_minor": 5
}
