{
 "cells": [
  {
   "cell_type": "markdown",
   "id": "26a6e262",
   "metadata": {},
   "source": [
    "Este notebook es para generar el paso de tener parrafos o un texto segmentado y generar codes para estos o un hasthag, despues de generar el hasthag vamos a vectorizarlos en altas dimensiones y aplicaremos HBDSCAN ahi mismo en las altas dimensiones, despues ya con los clusters vamos a pedir al LLM un theme para el cluster, para darles nombre y al final los visualizamos\n"
   ]
  },
  {
   "cell_type": "code",
   "execution_count": null,
   "id": "ab00b25c",
   "metadata": {},
   "outputs": [],
   "source": [
    "pip install sentence-transformers umap-learn scikit-learn matplotlib seaborn pandas numpy optuna"
   ]
  },
  {
   "cell_type": "code",
   "execution_count": null,
   "id": "816de705",
   "metadata": {},
   "outputs": [],
   "source": [
    "import pandas as pd\n",
    "\n",
    "\n",
    "transcripts_Armando = \"https://raw.githubusercontent.com/3eltran23/ATA-LMM_study/refs/heads/main/data/transcripts.csv\"\n",
    "transcripts_Armando = pd.read_csv(transcripts_Armando)\n",
    "codes_Armando = \"https://raw.githubusercontent.com/3eltran23/ATA-LMM_study/refs/heads/main/data/combined_codes.csv\"\n",
    "codes_Armando = pd.read_csv(codes_Armando)\n",
    "transcripts_Armando.head(5)\n",
    "Hockey_Interviews = \"https://raw.githubusercontent.com/HiramZ04/Cal-State-UMAP_Clustering/refs/heads/main/data/National-Hockey-League-Interviews.csv\"\n",
    "Hockey_Interviews = pd.read_csv(Hockey_Interviews)"
   ]
  },
  {
   "cell_type": "code",
   "execution_count": 22,
   "id": "cd98841c",
   "metadata": {},
   "outputs": [
    {
     "data": {
      "text/html": [
       "<div>\n",
       "<style scoped>\n",
       "    .dataframe tbody tr th:only-of-type {\n",
       "        vertical-align: middle;\n",
       "    }\n",
       "\n",
       "    .dataframe tbody tr th {\n",
       "        vertical-align: top;\n",
       "    }\n",
       "\n",
       "    .dataframe thead th {\n",
       "        text-align: right;\n",
       "    }\n",
       "</style>\n",
       "<table border=\"1\" class=\"dataframe\">\n",
       "  <thead>\n",
       "    <tr style=\"text-align: right;\">\n",
       "      <th></th>\n",
       "      <th>Codes</th>\n",
       "      <th>Source</th>\n",
       "    </tr>\n",
       "  </thead>\n",
       "  <tbody>\n",
       "    <tr>\n",
       "      <th>0</th>\n",
       "      <td>Reinforcing school dynamic at home</td>\n",
       "      <td>p008-parent</td>\n",
       "    </tr>\n",
       "    <tr>\n",
       "      <th>1</th>\n",
       "      <td>Functionalities of smartwatch</td>\n",
       "      <td>p008-parent</td>\n",
       "    </tr>\n",
       "    <tr>\n",
       "      <th>2</th>\n",
       "      <td>Daily or weekly goals</td>\n",
       "      <td>p008-parent</td>\n",
       "    </tr>\n",
       "    <tr>\n",
       "      <th>3</th>\n",
       "      <td>Sharing information with separated parents</td>\n",
       "      <td>p008-parent</td>\n",
       "    </tr>\n",
       "    <tr>\n",
       "      <th>4</th>\n",
       "      <td>Pick up of watch and phone</td>\n",
       "      <td>p008-parent</td>\n",
       "    </tr>\n",
       "  </tbody>\n",
       "</table>\n",
       "</div>"
      ],
      "text/plain": [
       "                                        Codes       Source\n",
       "0          Reinforcing school dynamic at home  p008-parent\n",
       "1               Functionalities of smartwatch  p008-parent\n",
       "2                       Daily or weekly goals  p008-parent\n",
       "3  Sharing information with separated parents  p008-parent\n",
       "4                  Pick up of watch and phone  p008-parent"
      ]
     },
     "execution_count": 22,
     "metadata": {},
     "output_type": "execute_result"
    }
   ],
   "source": [
    "codes_Armando.head(5)"
   ]
  },
  {
   "cell_type": "code",
   "execution_count": 23,
   "id": "2286cbf2",
   "metadata": {},
   "outputs": [
    {
     "ename": "AttributeError",
     "evalue": "'str' object has no attribute 'head'",
     "output_type": "error",
     "traceback": [
      "\u001b[31m---------------------------------------------------------------------------\u001b[39m",
      "\u001b[31mAttributeError\u001b[39m                            Traceback (most recent call last)",
      "\u001b[36mCell\u001b[39m\u001b[36m \u001b[39m\u001b[32mIn[23]\u001b[39m\u001b[32m, line 1\u001b[39m\n\u001b[32m----> \u001b[39m\u001b[32m1\u001b[39m \u001b[43mHockey_Interviews\u001b[49m\u001b[43m.\u001b[49m\u001b[43mhead\u001b[49m(\u001b[32m5\u001b[39m)\n",
      "\u001b[31mAttributeError\u001b[39m: 'str' object has no attribute 'head'"
     ]
    }
   ],
   "source": [
    "Hockey_Interviews.head(5)"
   ]
  }
 ],
 "metadata": {
  "kernelspec": {
   "display_name": "Python 3",
   "language": "python",
   "name": "python3"
  },
  "language_info": {
   "codemirror_mode": {
    "name": "ipython",
    "version": 3
   },
   "file_extension": ".py",
   "mimetype": "text/x-python",
   "name": "python",
   "nbconvert_exporter": "python",
   "pygments_lexer": "ipython3",
   "version": "3.12.10"
  }
 },
 "nbformat": 4,
 "nbformat_minor": 5
}
