{
 "cells": [
  {
   "cell_type": "markdown",
   "id": "26a6e262",
   "metadata": {},
   "source": [
    "Este notebook es para generar el paso de tener parrafos o un texto segmentado y generar codes para estos o un hasthag, despues de generar el hasthag vamos a vectorizarlos en altas dimensiones y aplicaremos HBDSCAN ahi mismo en las altas dimensiones, despues ya con los clusters vamos a pedir al LLM un theme para el cluster, para darles nombre y al final los visualizamos\n"
   ]
  },
  {
   "cell_type": "code",
   "execution_count": null,
   "id": "ab00b25c",
   "metadata": {},
   "outputs": [],
   "source": [
    "pip install sentence-transformers umap-learn scikit-learn matplotlib seaborn pandas numpy optuna"
   ]
  },
  {
   "cell_type": "code",
   "execution_count": null,
   "id": "816de705",
   "metadata": {},
   "outputs": [],
   "source": [
    "import pandas as pd\n",
    "\n",
    "\n",
    "transcripts_Armando = \"https://raw.githubusercontent.com/3eltran23/ATA-LMM_study/refs/heads/main/data/transcripts.csv\"\n",
    "transcripts_Armando = pd.read_csv(transcripts_Armando)\n",
    "\n",
    "codes_Armando = \"https://raw.githubusercontent.com/3eltran23/ATA-LMM_study/refs/heads/main/data/combined_codes.csv\"\n",
    "codes_Armando = pd.read_csv(codes_Armando)\n",
    "\n",
    "Hockey_Interviews = \"https://raw.githubusercontent.com/HiramZ04/Cal-State-UMAP_Clustering/refs/heads/main/data/National-Hockey-League-Interviews.csv\"\n",
    "Hockey_Interviews = pd.read_csv(Hockey_Interviews)\n",
    "\n",
    "call-recordings = \"\"\n",
    "\n",
    "transcripts_Armando.head(5)"
   ]
  },
  {
   "cell_type": "code",
   "execution_count": 22,
   "id": "cd98841c",
   "metadata": {},
   "outputs": [
    {
     "data": {
      "text/html": [
       "<div>\n",
       "<style scoped>\n",
       "    .dataframe tbody tr th:only-of-type {\n",
       "        vertical-align: middle;\n",
       "    }\n",
       "\n",
       "    .dataframe tbody tr th {\n",
       "        vertical-align: top;\n",
       "    }\n",
       "\n",
       "    .dataframe thead th {\n",
       "        text-align: right;\n",
       "    }\n",
       "</style>\n",
       "<table border=\"1\" class=\"dataframe\">\n",
       "  <thead>\n",
       "    <tr style=\"text-align: right;\">\n",
       "      <th></th>\n",
       "      <th>Codes</th>\n",
       "      <th>Source</th>\n",
       "    </tr>\n",
       "  </thead>\n",
       "  <tbody>\n",
       "    <tr>\n",
       "      <th>0</th>\n",
       "      <td>Reinforcing school dynamic at home</td>\n",
       "      <td>p008-parent</td>\n",
       "    </tr>\n",
       "    <tr>\n",
       "      <th>1</th>\n",
       "      <td>Functionalities of smartwatch</td>\n",
       "      <td>p008-parent</td>\n",
       "    </tr>\n",
       "    <tr>\n",
       "      <th>2</th>\n",
       "      <td>Daily or weekly goals</td>\n",
       "      <td>p008-parent</td>\n",
       "    </tr>\n",
       "    <tr>\n",
       "      <th>3</th>\n",
       "      <td>Sharing information with separated parents</td>\n",
       "      <td>p008-parent</td>\n",
       "    </tr>\n",
       "    <tr>\n",
       "      <th>4</th>\n",
       "      <td>Pick up of watch and phone</td>\n",
       "      <td>p008-parent</td>\n",
       "    </tr>\n",
       "  </tbody>\n",
       "</table>\n",
       "</div>"
      ],
      "text/plain": [
       "                                        Codes       Source\n",
       "0          Reinforcing school dynamic at home  p008-parent\n",
       "1               Functionalities of smartwatch  p008-parent\n",
       "2                       Daily or weekly goals  p008-parent\n",
       "3  Sharing information with separated parents  p008-parent\n",
       "4                  Pick up of watch and phone  p008-parent"
      ]
     },
     "execution_count": 22,
     "metadata": {},
     "output_type": "execute_result"
    }
   ],
   "source": [
    "codes_Armando.head(5)"
   ]
  },
  {
   "cell_type": "code",
   "execution_count": 27,
   "id": "2286cbf2",
   "metadata": {},
   "outputs": [
    {
     "data": {
      "text/html": [
       "<div>\n",
       "<style scoped>\n",
       "    .dataframe tbody tr th:only-of-type {\n",
       "        vertical-align: middle;\n",
       "    }\n",
       "\n",
       "    .dataframe tbody tr th {\n",
       "        vertical-align: top;\n",
       "    }\n",
       "\n",
       "    .dataframe thead th {\n",
       "        text-align: right;\n",
       "    }\n",
       "</style>\n",
       "<table border=\"1\" class=\"dataframe\">\n",
       "  <thead>\n",
       "    <tr style=\"text-align: right;\">\n",
       "      <th></th>\n",
       "      <th>RowId</th>\n",
       "      <th>team1</th>\n",
       "      <th>team2</th>\n",
       "      <th>date</th>\n",
       "      <th>name</th>\n",
       "      <th>job</th>\n",
       "      <th>text</th>\n",
       "    </tr>\n",
       "  </thead>\n",
       "  <tbody>\n",
       "    <tr>\n",
       "      <th>0</th>\n",
       "      <td>0</td>\n",
       "      <td>blackhawks</td>\n",
       "      <td>lightning</td>\n",
       "      <td>2015-06-02</td>\n",
       "      <td>stan bowman</td>\n",
       "      <td>other</td>\n",
       "      <td>well we're very fortunate to have the players ...</td>\n",
       "    </tr>\n",
       "    <tr>\n",
       "      <th>1</th>\n",
       "      <td>1</td>\n",
       "      <td>blackhawks</td>\n",
       "      <td>lightning</td>\n",
       "      <td>2015-06-02</td>\n",
       "      <td>steve yzerman</td>\n",
       "      <td>other</td>\n",
       "      <td>no we didn't really set a timeline on it i wou...</td>\n",
       "    </tr>\n",
       "    <tr>\n",
       "      <th>2</th>\n",
       "      <td>2</td>\n",
       "      <td>blackhawks</td>\n",
       "      <td>lightning</td>\n",
       "      <td>2015-06-03</td>\n",
       "      <td>antoine vermette</td>\n",
       "      <td>player</td>\n",
       "      <td>that's a good question i don't recall specific...</td>\n",
       "    </tr>\n",
       "    <tr>\n",
       "      <th>3</th>\n",
       "      <td>3</td>\n",
       "      <td>blackhawks</td>\n",
       "      <td>lightning</td>\n",
       "      <td>2015-06-03</td>\n",
       "      <td>joel quenneville</td>\n",
       "      <td>coach</td>\n",
       "      <td>yeah we got better as the game went on i thoug...</td>\n",
       "    </tr>\n",
       "    <tr>\n",
       "      <th>4</th>\n",
       "      <td>4</td>\n",
       "      <td>blackhawks</td>\n",
       "      <td>lightning</td>\n",
       "      <td>2015-06-03</td>\n",
       "      <td>jon cooper</td>\n",
       "      <td>coach</td>\n",
       "      <td>i don't know i think the way i'd look at the g...</td>\n",
       "    </tr>\n",
       "  </tbody>\n",
       "</table>\n",
       "</div>"
      ],
      "text/plain": [
       "   RowId       team1      team2        date              name     job  \\\n",
       "0      0  blackhawks  lightning  2015-06-02       stan bowman   other   \n",
       "1      1  blackhawks  lightning  2015-06-02     steve yzerman   other   \n",
       "2      2  blackhawks  lightning  2015-06-03  antoine vermette  player   \n",
       "3      3  blackhawks  lightning  2015-06-03  joel quenneville   coach   \n",
       "4      4  blackhawks  lightning  2015-06-03        jon cooper   coach   \n",
       "\n",
       "                                                text  \n",
       "0  well we're very fortunate to have the players ...  \n",
       "1  no we didn't really set a timeline on it i wou...  \n",
       "2  that's a good question i don't recall specific...  \n",
       "3  yeah we got better as the game went on i thoug...  \n",
       "4  i don't know i think the way i'd look at the g...  "
      ]
     },
     "execution_count": 27,
     "metadata": {},
     "output_type": "execute_result"
    }
   ],
   "source": [
    "Hockey_Interviews.head(5)"
   ]
  },
  {
   "cell_type": "code",
   "execution_count": 32,
   "id": "6175827d",
   "metadata": {},
   "outputs": [
    {
     "data": {
      "text/plain": [
       "0       well we're very fortunate to have the players ...\n",
       "1       no we didn't really set a timeline on it i wou...\n",
       "2       that's a good question i don't recall specific...\n",
       "3       yeah we got better as the game went on i thoug...\n",
       "4       i don't know i think the way i'd look at the g...\n",
       "                              ...                        \n",
       "2091    i think in the last our two home games we had ...\n",
       "2092    when you get to this point of the year you got...\n",
       "2093    yeah it was in the bag laughs no it just i don...\n",
       "2094    he definitely deserved it there is no doubt ab...\n",
       "2095    yeah definitely tiring to me we have played so...\n",
       "Name: text, Length: 2096, dtype: object"
      ]
     },
     "execution_count": 32,
     "metadata": {},
     "output_type": "execute_result"
    }
   ],
   "source": [
    "Hockey_Interviews[\"text\"]"
   ]
  },
  {
   "cell_type": "code",
   "execution_count": null,
   "id": "b008bf73",
   "metadata": {},
   "outputs": [],
   "source": []
  }
 ],
 "metadata": {
  "kernelspec": {
   "display_name": "Python 3",
   "language": "python",
   "name": "python3"
  },
  "language_info": {
   "codemirror_mode": {
    "name": "ipython",
    "version": 3
   },
   "file_extension": ".py",
   "mimetype": "text/x-python",
   "name": "python",
   "nbconvert_exporter": "python",
   "pygments_lexer": "ipython3",
   "version": "3.12.10"
  }
 },
 "nbformat": 4,
 "nbformat_minor": 5
}
